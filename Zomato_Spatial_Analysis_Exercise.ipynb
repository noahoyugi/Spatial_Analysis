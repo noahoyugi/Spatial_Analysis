{
 "cells": [
  {
   "cell_type": "code",
   "execution_count": 1,
   "metadata": {},
   "outputs": [],
   "source": [
    "#'''importing the libraries'''\n",
    "\n",
    "import pandas as pd\n",
    "import seaborn as sn\n",
    "import matplotlib.pyplot as plt\n",
    "import numpy as np\n",
    "#import warnings\n",
    "#warnings.filterwarnings('ignore')"
   ]
  },
  {
   "cell_type": "code",
   "execution_count": 2,
   "metadata": {},
   "outputs": [
    {
     "data": {
      "text/html": [
       "<div>\n",
       "<style scoped>\n",
       "    .dataframe tbody tr th:only-of-type {\n",
       "        vertical-align: middle;\n",
       "    }\n",
       "\n",
       "    .dataframe tbody tr th {\n",
       "        vertical-align: top;\n",
       "    }\n",
       "\n",
       "    .dataframe thead th {\n",
       "        text-align: right;\n",
       "    }\n",
       "</style>\n",
       "<table border=\"1\" class=\"dataframe\">\n",
       "  <thead>\n",
       "    <tr style=\"text-align: right;\">\n",
       "      <th></th>\n",
       "      <th>url</th>\n",
       "      <th>address</th>\n",
       "      <th>name</th>\n",
       "      <th>online_order</th>\n",
       "      <th>book_table</th>\n",
       "      <th>rate</th>\n",
       "      <th>votes</th>\n",
       "      <th>phone</th>\n",
       "      <th>location</th>\n",
       "      <th>rest_type</th>\n",
       "      <th>dish_liked</th>\n",
       "      <th>cuisines</th>\n",
       "      <th>approx_cost(for two people)</th>\n",
       "      <th>reviews_list</th>\n",
       "      <th>menu_item</th>\n",
       "      <th>listed_in(type)</th>\n",
       "      <th>listed_in(city)</th>\n",
       "    </tr>\n",
       "  </thead>\n",
       "  <tbody>\n",
       "    <tr>\n",
       "      <th>0</th>\n",
       "      <td>https://www.zomato.com/bangalore/jalsa-banasha...</td>\n",
       "      <td>942, 21st Main Road, 2nd Stage, Banashankari, ...</td>\n",
       "      <td>Jalsa</td>\n",
       "      <td>Yes</td>\n",
       "      <td>Yes</td>\n",
       "      <td>4.1/5</td>\n",
       "      <td>775</td>\n",
       "      <td>080 42297555\\r\\n+91 9743772233</td>\n",
       "      <td>Banashankari</td>\n",
       "      <td>Casual Dining</td>\n",
       "      <td>Pasta, Lunch Buffet, Masala Papad, Paneer Laja...</td>\n",
       "      <td>North Indian, Mughlai, Chinese</td>\n",
       "      <td>800</td>\n",
       "      <td>[('Rated 4.0', 'RATED\\n  A beautiful place to ...</td>\n",
       "      <td>[]</td>\n",
       "      <td>Buffet</td>\n",
       "      <td>Banashankari</td>\n",
       "    </tr>\n",
       "    <tr>\n",
       "      <th>1</th>\n",
       "      <td>https://www.zomato.com/bangalore/spice-elephan...</td>\n",
       "      <td>2nd Floor, 80 Feet Road, Near Big Bazaar, 6th ...</td>\n",
       "      <td>Spice Elephant</td>\n",
       "      <td>Yes</td>\n",
       "      <td>No</td>\n",
       "      <td>4.1/5</td>\n",
       "      <td>787</td>\n",
       "      <td>080 41714161</td>\n",
       "      <td>Banashankari</td>\n",
       "      <td>Casual Dining</td>\n",
       "      <td>Momos, Lunch Buffet, Chocolate Nirvana, Thai G...</td>\n",
       "      <td>Chinese, North Indian, Thai</td>\n",
       "      <td>800</td>\n",
       "      <td>[('Rated 4.0', 'RATED\\n  Had been here for din...</td>\n",
       "      <td>[]</td>\n",
       "      <td>Buffet</td>\n",
       "      <td>Banashankari</td>\n",
       "    </tr>\n",
       "    <tr>\n",
       "      <th>2</th>\n",
       "      <td>https://www.zomato.com/SanchurroBangalore?cont...</td>\n",
       "      <td>1112, Next to KIMS Medical College, 17th Cross...</td>\n",
       "      <td>San Churro Cafe</td>\n",
       "      <td>Yes</td>\n",
       "      <td>No</td>\n",
       "      <td>3.8/5</td>\n",
       "      <td>918</td>\n",
       "      <td>+91 9663487993</td>\n",
       "      <td>Banashankari</td>\n",
       "      <td>Cafe, Casual Dining</td>\n",
       "      <td>Churros, Cannelloni, Minestrone Soup, Hot Choc...</td>\n",
       "      <td>Cafe, Mexican, Italian</td>\n",
       "      <td>800</td>\n",
       "      <td>[('Rated 3.0', \"RATED\\n  Ambience is not that ...</td>\n",
       "      <td>[]</td>\n",
       "      <td>Buffet</td>\n",
       "      <td>Banashankari</td>\n",
       "    </tr>\n",
       "    <tr>\n",
       "      <th>3</th>\n",
       "      <td>https://www.zomato.com/bangalore/addhuri-udupi...</td>\n",
       "      <td>1st Floor, Annakuteera, 3rd Stage, Banashankar...</td>\n",
       "      <td>Addhuri Udupi Bhojana</td>\n",
       "      <td>No</td>\n",
       "      <td>No</td>\n",
       "      <td>3.7/5</td>\n",
       "      <td>88</td>\n",
       "      <td>+91 9620009302</td>\n",
       "      <td>Banashankari</td>\n",
       "      <td>Quick Bites</td>\n",
       "      <td>Masala Dosa</td>\n",
       "      <td>South Indian, North Indian</td>\n",
       "      <td>300</td>\n",
       "      <td>[('Rated 4.0', \"RATED\\n  Great food and proper...</td>\n",
       "      <td>[]</td>\n",
       "      <td>Buffet</td>\n",
       "      <td>Banashankari</td>\n",
       "    </tr>\n",
       "    <tr>\n",
       "      <th>4</th>\n",
       "      <td>https://www.zomato.com/bangalore/grand-village...</td>\n",
       "      <td>10, 3rd Floor, Lakshmi Associates, Gandhi Baza...</td>\n",
       "      <td>Grand Village</td>\n",
       "      <td>No</td>\n",
       "      <td>No</td>\n",
       "      <td>3.8/5</td>\n",
       "      <td>166</td>\n",
       "      <td>+91 8026612447\\r\\n+91 9901210005</td>\n",
       "      <td>Basavanagudi</td>\n",
       "      <td>Casual Dining</td>\n",
       "      <td>Panipuri, Gol Gappe</td>\n",
       "      <td>North Indian, Rajasthani</td>\n",
       "      <td>600</td>\n",
       "      <td>[('Rated 4.0', 'RATED\\n  Very good restaurant ...</td>\n",
       "      <td>[]</td>\n",
       "      <td>Buffet</td>\n",
       "      <td>Banashankari</td>\n",
       "    </tr>\n",
       "  </tbody>\n",
       "</table>\n",
       "</div>"
      ],
      "text/plain": [
       "                                                 url  \\\n",
       "0  https://www.zomato.com/bangalore/jalsa-banasha...   \n",
       "1  https://www.zomato.com/bangalore/spice-elephan...   \n",
       "2  https://www.zomato.com/SanchurroBangalore?cont...   \n",
       "3  https://www.zomato.com/bangalore/addhuri-udupi...   \n",
       "4  https://www.zomato.com/bangalore/grand-village...   \n",
       "\n",
       "                                             address                   name  \\\n",
       "0  942, 21st Main Road, 2nd Stage, Banashankari, ...                  Jalsa   \n",
       "1  2nd Floor, 80 Feet Road, Near Big Bazaar, 6th ...         Spice Elephant   \n",
       "2  1112, Next to KIMS Medical College, 17th Cross...        San Churro Cafe   \n",
       "3  1st Floor, Annakuteera, 3rd Stage, Banashankar...  Addhuri Udupi Bhojana   \n",
       "4  10, 3rd Floor, Lakshmi Associates, Gandhi Baza...          Grand Village   \n",
       "\n",
       "  online_order book_table   rate  votes                             phone  \\\n",
       "0          Yes        Yes  4.1/5    775    080 42297555\\r\\n+91 9743772233   \n",
       "1          Yes         No  4.1/5    787                      080 41714161   \n",
       "2          Yes         No  3.8/5    918                    +91 9663487993   \n",
       "3           No         No  3.7/5     88                    +91 9620009302   \n",
       "4           No         No  3.8/5    166  +91 8026612447\\r\\n+91 9901210005   \n",
       "\n",
       "       location            rest_type  \\\n",
       "0  Banashankari        Casual Dining   \n",
       "1  Banashankari        Casual Dining   \n",
       "2  Banashankari  Cafe, Casual Dining   \n",
       "3  Banashankari          Quick Bites   \n",
       "4  Basavanagudi        Casual Dining   \n",
       "\n",
       "                                          dish_liked  \\\n",
       "0  Pasta, Lunch Buffet, Masala Papad, Paneer Laja...   \n",
       "1  Momos, Lunch Buffet, Chocolate Nirvana, Thai G...   \n",
       "2  Churros, Cannelloni, Minestrone Soup, Hot Choc...   \n",
       "3                                        Masala Dosa   \n",
       "4                                Panipuri, Gol Gappe   \n",
       "\n",
       "                         cuisines approx_cost(for two people)  \\\n",
       "0  North Indian, Mughlai, Chinese                         800   \n",
       "1     Chinese, North Indian, Thai                         800   \n",
       "2          Cafe, Mexican, Italian                         800   \n",
       "3      South Indian, North Indian                         300   \n",
       "4        North Indian, Rajasthani                         600   \n",
       "\n",
       "                                        reviews_list menu_item  \\\n",
       "0  [('Rated 4.0', 'RATED\\n  A beautiful place to ...        []   \n",
       "1  [('Rated 4.0', 'RATED\\n  Had been here for din...        []   \n",
       "2  [('Rated 3.0', \"RATED\\n  Ambience is not that ...        []   \n",
       "3  [('Rated 4.0', \"RATED\\n  Great food and proper...        []   \n",
       "4  [('Rated 4.0', 'RATED\\n  Very good restaurant ...        []   \n",
       "\n",
       "  listed_in(type) listed_in(city)  \n",
       "0          Buffet    Banashankari  \n",
       "1          Buffet    Banashankari  \n",
       "2          Buffet    Banashankari  \n",
       "3          Buffet    Banashankari  \n",
       "4          Buffet    Banashankari  "
      ]
     },
     "execution_count": 2,
     "metadata": {},
     "output_type": "execute_result"
    }
   ],
   "source": [
    "df = pd.read_csv('zomato.csv')\n",
    "df.head()"
   ]
  },
  {
   "cell_type": "markdown",
   "metadata": {},
   "source": [
    "# Data Pre-processing"
   ]
  },
  {
   "cell_type": "code",
   "execution_count": 3,
   "metadata": {},
   "outputs": [
    {
     "data": {
      "text/plain": [
       "url                                0\n",
       "address                            0\n",
       "name                               0\n",
       "online_order                       0\n",
       "book_table                         0\n",
       "rate                            7775\n",
       "votes                              0\n",
       "phone                           1208\n",
       "location                          21\n",
       "rest_type                        227\n",
       "dish_liked                     28078\n",
       "cuisines                          45\n",
       "approx_cost(for two people)      346\n",
       "reviews_list                       0\n",
       "menu_item                          0\n",
       "listed_in(type)                    0\n",
       "listed_in(city)                    0\n",
       "dtype: int64"
      ]
     },
     "execution_count": 3,
     "metadata": {},
     "output_type": "execute_result"
    }
   ],
   "source": [
    "df.isna().sum()"
   ]
  },
  {
   "cell_type": "code",
   "execution_count": 4,
   "metadata": {},
   "outputs": [],
   "source": [
    "#removing the NaN values\n",
    "\n",
    "df.dropna(axis = 'index',subset=['location', 'rate', 'approx_cost(for two people)', 'dish_liked', 'phone', 'rest_type'], inplace = True)"
   ]
  },
  {
   "cell_type": "code",
   "execution_count": 5,
   "metadata": {},
   "outputs": [
    {
     "data": {
      "text/plain": [
       "url                            0\n",
       "address                        0\n",
       "name                           0\n",
       "online_order                   0\n",
       "book_table                     0\n",
       "rate                           0\n",
       "votes                          0\n",
       "phone                          0\n",
       "location                       0\n",
       "rest_type                      0\n",
       "dish_liked                     0\n",
       "cuisines                       0\n",
       "approx_cost(for two people)    0\n",
       "reviews_list                   0\n",
       "menu_item                      0\n",
       "listed_in(type)                0\n",
       "listed_in(city)                0\n",
       "dtype: int64"
      ]
     },
     "execution_count": 5,
     "metadata": {},
     "output_type": "execute_result"
    }
   ],
   "source": [
    "df.isna().sum()"
   ]
  },
  {
   "cell_type": "raw",
   "metadata": {},
   "source": [
    "since we want to do spatial analysis, we are going to utilize the location column"
   ]
  },
  {
   "cell_type": "code",
   "execution_count": 6,
   "metadata": {},
   "outputs": [
    {
     "data": {
      "text/plain": [
       "88"
      ]
     },
     "execution_count": 6,
     "metadata": {},
     "output_type": "execute_result"
    }
   ],
   "source": [
    "len(df['location'].unique())"
   ]
  },
  {
   "cell_type": "code",
   "execution_count": 7,
   "metadata": {},
   "outputs": [],
   "source": [
    "locations = pd.DataFrame()"
   ]
  },
  {
   "cell_type": "code",
   "execution_count": 8,
   "metadata": {},
   "outputs": [],
   "source": [
    "locations=pd.DataFrame({\"Name\":df['location'].unique()})"
   ]
  },
  {
   "cell_type": "code",
   "execution_count": 9,
   "metadata": {},
   "outputs": [
    {
     "data": {
      "text/html": [
       "<div>\n",
       "<style scoped>\n",
       "    .dataframe tbody tr th:only-of-type {\n",
       "        vertical-align: middle;\n",
       "    }\n",
       "\n",
       "    .dataframe tbody tr th {\n",
       "        vertical-align: top;\n",
       "    }\n",
       "\n",
       "    .dataframe thead th {\n",
       "        text-align: right;\n",
       "    }\n",
       "</style>\n",
       "<table border=\"1\" class=\"dataframe\">\n",
       "  <thead>\n",
       "    <tr style=\"text-align: right;\">\n",
       "      <th></th>\n",
       "      <th>Name</th>\n",
       "    </tr>\n",
       "  </thead>\n",
       "  <tbody>\n",
       "    <tr>\n",
       "      <th>0</th>\n",
       "      <td>Banashankari</td>\n",
       "    </tr>\n",
       "    <tr>\n",
       "      <th>1</th>\n",
       "      <td>Basavanagudi</td>\n",
       "    </tr>\n",
       "    <tr>\n",
       "      <th>2</th>\n",
       "      <td>Jayanagar</td>\n",
       "    </tr>\n",
       "    <tr>\n",
       "      <th>3</th>\n",
       "      <td>Kumaraswamy Layout</td>\n",
       "    </tr>\n",
       "    <tr>\n",
       "      <th>4</th>\n",
       "      <td>Rajarajeshwari Nagar</td>\n",
       "    </tr>\n",
       "    <tr>\n",
       "      <th>...</th>\n",
       "      <td>...</td>\n",
       "    </tr>\n",
       "    <tr>\n",
       "      <th>83</th>\n",
       "      <td>Sahakara Nagar</td>\n",
       "    </tr>\n",
       "    <tr>\n",
       "      <th>84</th>\n",
       "      <td>Jalahalli</td>\n",
       "    </tr>\n",
       "    <tr>\n",
       "      <th>85</th>\n",
       "      <td>Yelahanka</td>\n",
       "    </tr>\n",
       "    <tr>\n",
       "      <th>86</th>\n",
       "      <td>Magadi Road</td>\n",
       "    </tr>\n",
       "    <tr>\n",
       "      <th>87</th>\n",
       "      <td>KR Puram</td>\n",
       "    </tr>\n",
       "  </tbody>\n",
       "</table>\n",
       "<p>88 rows × 1 columns</p>\n",
       "</div>"
      ],
      "text/plain": [
       "                    Name\n",
       "0           Banashankari\n",
       "1           Basavanagudi\n",
       "2              Jayanagar\n",
       "3     Kumaraswamy Layout\n",
       "4   Rajarajeshwari Nagar\n",
       "..                   ...\n",
       "83        Sahakara Nagar\n",
       "84             Jalahalli\n",
       "85             Yelahanka\n",
       "86           Magadi Road\n",
       "87              KR Puram\n",
       "\n",
       "[88 rows x 1 columns]"
      ]
     },
     "execution_count": 9,
     "metadata": {},
     "output_type": "execute_result"
    }
   ],
   "source": [
    "locations"
   ]
  },
  {
   "cell_type": "markdown",
   "metadata": {},
   "source": [
    "# Extracting Latitudes and Longitudes"
   ]
  },
  {
   "cell_type": "code",
   "execution_count": 10,
   "metadata": {},
   "outputs": [
    {
     "name": "stdout",
     "output_type": "stream",
     "text": [
      "Requirement already satisfied: geopy in c:\\users\\noyug\\anaconda3\\lib\\site-packages (2.1.0)\n",
      "Requirement already satisfied: geographiclib<2,>=1.49 in c:\\users\\noyug\\anaconda3\\lib\\site-packages (from geopy) (1.50)\n"
     ]
    }
   ],
   "source": [
    "!pip install geopy"
   ]
  },
  {
   "cell_type": "code",
   "execution_count": 11,
   "metadata": {},
   "outputs": [],
   "source": [
    "from geopy.geocoders import Nominatim"
   ]
  },
  {
   "cell_type": "code",
   "execution_count": 12,
   "metadata": {},
   "outputs": [],
   "source": [
    "geolocator = Nominatim(user_agent = 'app')"
   ]
  },
  {
   "cell_type": "code",
   "execution_count": 13,
   "metadata": {},
   "outputs": [],
   "source": [
    "#latitude and longitudes extraction\n",
    "lat=[]\n",
    "lon=[]\n",
    "for location in locations['Name']:\n",
    "    location = geolocator.geocode(location)    \n",
    "    if location is None:\n",
    "        lat.append(np.nan)\n",
    "        lon.append(np.nan)\n",
    "    else:\n",
    "        lat.append(location.latitude)\n",
    "        lon.append(location.longitude)"
   ]
  },
  {
   "cell_type": "code",
   "execution_count": 14,
   "metadata": {},
   "outputs": [],
   "source": [
    "locations['lat']= lat\n",
    "locations['lon']= lon"
   ]
  },
  {
   "cell_type": "code",
   "execution_count": 15,
   "metadata": {},
   "outputs": [
    {
     "data": {
      "text/html": [
       "<div>\n",
       "<style scoped>\n",
       "    .dataframe tbody tr th:only-of-type {\n",
       "        vertical-align: middle;\n",
       "    }\n",
       "\n",
       "    .dataframe tbody tr th {\n",
       "        vertical-align: top;\n",
       "    }\n",
       "\n",
       "    .dataframe thead th {\n",
       "        text-align: right;\n",
       "    }\n",
       "</style>\n",
       "<table border=\"1\" class=\"dataframe\">\n",
       "  <thead>\n",
       "    <tr style=\"text-align: right;\">\n",
       "      <th></th>\n",
       "      <th>Name</th>\n",
       "      <th>lat</th>\n",
       "      <th>lon</th>\n",
       "    </tr>\n",
       "  </thead>\n",
       "  <tbody>\n",
       "    <tr>\n",
       "      <th>0</th>\n",
       "      <td>Banashankari</td>\n",
       "      <td>15.887678</td>\n",
       "      <td>75.704678</td>\n",
       "    </tr>\n",
       "    <tr>\n",
       "      <th>1</th>\n",
       "      <td>Basavanagudi</td>\n",
       "      <td>12.941726</td>\n",
       "      <td>77.575502</td>\n",
       "    </tr>\n",
       "    <tr>\n",
       "      <th>2</th>\n",
       "      <td>Jayanagar</td>\n",
       "      <td>27.643927</td>\n",
       "      <td>83.052805</td>\n",
       "    </tr>\n",
       "    <tr>\n",
       "      <th>3</th>\n",
       "      <td>Kumaraswamy Layout</td>\n",
       "      <td>12.908149</td>\n",
       "      <td>77.555318</td>\n",
       "    </tr>\n",
       "    <tr>\n",
       "      <th>4</th>\n",
       "      <td>Rajarajeshwari Nagar</td>\n",
       "      <td>12.927441</td>\n",
       "      <td>77.515522</td>\n",
       "    </tr>\n",
       "  </tbody>\n",
       "</table>\n",
       "</div>"
      ],
      "text/plain": [
       "                   Name        lat        lon\n",
       "0          Banashankari  15.887678  75.704678\n",
       "1          Basavanagudi  12.941726  77.575502\n",
       "2             Jayanagar  27.643927  83.052805\n",
       "3    Kumaraswamy Layout  12.908149  77.555318\n",
       "4  Rajarajeshwari Nagar  12.927441  77.515522"
      ]
     },
     "execution_count": 15,
     "metadata": {},
     "output_type": "execute_result"
    }
   ],
   "source": [
    "locations.head()"
   ]
  },
  {
   "cell_type": "code",
   "execution_count": 16,
   "metadata": {},
   "outputs": [],
   "source": [
    "#exporting locations dataframe for easy access \n",
    "locations.to_csv('C:\\\\Users\\\\noyug\\\\Desktop\\\\ds\\\\locations_zomato.csv')"
   ]
  },
  {
   "cell_type": "code",
   "execution_count": 17,
   "metadata": {},
   "outputs": [
    {
     "data": {
      "text/html": [
       "<div>\n",
       "<style scoped>\n",
       "    .dataframe tbody tr th:only-of-type {\n",
       "        vertical-align: middle;\n",
       "    }\n",
       "\n",
       "    .dataframe tbody tr th {\n",
       "        vertical-align: top;\n",
       "    }\n",
       "\n",
       "    .dataframe thead th {\n",
       "        text-align: right;\n",
       "    }\n",
       "</style>\n",
       "<table border=\"1\" class=\"dataframe\">\n",
       "  <thead>\n",
       "    <tr style=\"text-align: right;\">\n",
       "      <th></th>\n",
       "      <th>index</th>\n",
       "      <th>location</th>\n",
       "    </tr>\n",
       "  </thead>\n",
       "  <tbody>\n",
       "    <tr>\n",
       "      <th>0</th>\n",
       "      <td>Koramangala 5th Block</td>\n",
       "      <td>1783</td>\n",
       "    </tr>\n",
       "    <tr>\n",
       "      <th>1</th>\n",
       "      <td>BTM</td>\n",
       "      <td>1456</td>\n",
       "    </tr>\n",
       "    <tr>\n",
       "      <th>2</th>\n",
       "      <td>Indiranagar</td>\n",
       "      <td>1350</td>\n",
       "    </tr>\n",
       "    <tr>\n",
       "      <th>3</th>\n",
       "      <td>HSR</td>\n",
       "      <td>1162</td>\n",
       "    </tr>\n",
       "    <tr>\n",
       "      <th>4</th>\n",
       "      <td>Jayanagar</td>\n",
       "      <td>1037</td>\n",
       "    </tr>\n",
       "  </tbody>\n",
       "</table>\n",
       "</div>"
      ],
      "text/plain": [
       "                   index  location\n",
       "0  Koramangala 5th Block      1783\n",
       "1                    BTM      1456\n",
       "2            Indiranagar      1350\n",
       "3                    HSR      1162\n",
       "4              Jayanagar      1037"
      ]
     },
     "execution_count": 17,
     "metadata": {},
     "output_type": "execute_result"
    }
   ],
   "source": [
    "#counting nummber of deliveries per location\n",
    "Rest_loc= df['location'].value_counts().reset_index()\n",
    "Rest_loc.head()"
   ]
  },
  {
   "cell_type": "code",
   "execution_count": 18,
   "metadata": {},
   "outputs": [
    {
     "data": {
      "text/html": [
       "<div>\n",
       "<style scoped>\n",
       "    .dataframe tbody tr th:only-of-type {\n",
       "        vertical-align: middle;\n",
       "    }\n",
       "\n",
       "    .dataframe tbody tr th {\n",
       "        vertical-align: top;\n",
       "    }\n",
       "\n",
       "    .dataframe thead th {\n",
       "        text-align: right;\n",
       "    }\n",
       "</style>\n",
       "<table border=\"1\" class=\"dataframe\">\n",
       "  <thead>\n",
       "    <tr style=\"text-align: right;\">\n",
       "      <th></th>\n",
       "      <th>Name</th>\n",
       "      <th>Count</th>\n",
       "    </tr>\n",
       "  </thead>\n",
       "  <tbody>\n",
       "    <tr>\n",
       "      <th>0</th>\n",
       "      <td>Koramangala 5th Block</td>\n",
       "      <td>1783</td>\n",
       "    </tr>\n",
       "    <tr>\n",
       "      <th>1</th>\n",
       "      <td>BTM</td>\n",
       "      <td>1456</td>\n",
       "    </tr>\n",
       "    <tr>\n",
       "      <th>2</th>\n",
       "      <td>Indiranagar</td>\n",
       "      <td>1350</td>\n",
       "    </tr>\n",
       "    <tr>\n",
       "      <th>3</th>\n",
       "      <td>HSR</td>\n",
       "      <td>1162</td>\n",
       "    </tr>\n",
       "    <tr>\n",
       "      <th>4</th>\n",
       "      <td>Jayanagar</td>\n",
       "      <td>1037</td>\n",
       "    </tr>\n",
       "  </tbody>\n",
       "</table>\n",
       "</div>"
      ],
      "text/plain": [
       "                    Name  Count\n",
       "0  Koramangala 5th Block   1783\n",
       "1                    BTM   1456\n",
       "2            Indiranagar   1350\n",
       "3                    HSR   1162\n",
       "4              Jayanagar   1037"
      ]
     },
     "execution_count": 18,
     "metadata": {},
     "output_type": "execute_result"
    }
   ],
   "source": [
    "#renaming the columns for easier understanding\n",
    "Rest_loc.columns = ['Name', 'Count']\n",
    "Rest_loc.head()"
   ]
  },
  {
   "cell_type": "code",
   "execution_count": 19,
   "metadata": {},
   "outputs": [
    {
     "data": {
      "text/html": [
       "<div>\n",
       "<style scoped>\n",
       "    .dataframe tbody tr th:only-of-type {\n",
       "        vertical-align: middle;\n",
       "    }\n",
       "\n",
       "    .dataframe tbody tr th {\n",
       "        vertical-align: top;\n",
       "    }\n",
       "\n",
       "    .dataframe thead th {\n",
       "        text-align: right;\n",
       "    }\n",
       "</style>\n",
       "<table border=\"1\" class=\"dataframe\">\n",
       "  <thead>\n",
       "    <tr style=\"text-align: right;\">\n",
       "      <th></th>\n",
       "      <th>Name</th>\n",
       "      <th>Count</th>\n",
       "      <th>lat</th>\n",
       "      <th>lon</th>\n",
       "    </tr>\n",
       "  </thead>\n",
       "  <tbody>\n",
       "    <tr>\n",
       "      <th>0</th>\n",
       "      <td>Koramangala 5th Block</td>\n",
       "      <td>1783</td>\n",
       "      <td>13.005409</td>\n",
       "      <td>74.794607</td>\n",
       "    </tr>\n",
       "    <tr>\n",
       "      <th>1</th>\n",
       "      <td>BTM</td>\n",
       "      <td>1456</td>\n",
       "      <td>45.954851</td>\n",
       "      <td>-112.496595</td>\n",
       "    </tr>\n",
       "    <tr>\n",
       "      <th>2</th>\n",
       "      <td>Indiranagar</td>\n",
       "      <td>1350</td>\n",
       "      <td>12.973291</td>\n",
       "      <td>77.640467</td>\n",
       "    </tr>\n",
       "    <tr>\n",
       "      <th>3</th>\n",
       "      <td>HSR</td>\n",
       "      <td>1162</td>\n",
       "      <td>18.147500</td>\n",
       "      <td>41.538889</td>\n",
       "    </tr>\n",
       "    <tr>\n",
       "      <th>4</th>\n",
       "      <td>Jayanagar</td>\n",
       "      <td>1037</td>\n",
       "      <td>27.643927</td>\n",
       "      <td>83.052805</td>\n",
       "    </tr>\n",
       "  </tbody>\n",
       "</table>\n",
       "</div>"
      ],
      "text/plain": [
       "                    Name  Count        lat         lon\n",
       "0  Koramangala 5th Block   1783  13.005409   74.794607\n",
       "1                    BTM   1456  45.954851 -112.496595\n",
       "2            Indiranagar   1350  12.973291   77.640467\n",
       "3                    HSR   1162  18.147500   41.538889\n",
       "4              Jayanagar   1037  27.643927   83.052805"
      ]
     },
     "execution_count": 19,
     "metadata": {},
     "output_type": "execute_result"
    }
   ],
   "source": [
    "#Merging Restaurant locations DataFrame to Location DataFrame\n",
    "Rest_locations = Rest_loc.merge(locations, on = 'Name', how = 'left').dropna()\n",
    "Rest_locations.head()"
   ]
  },
  {
   "cell_type": "markdown",
   "metadata": {},
   "source": [
    "A HEATMAP IS USED TO VISUALIZE THE DENSITY OF RESTAURANTS IN THE AREA"
   ]
  },
  {
   "cell_type": "markdown",
   "metadata": {},
   "source": [
    "# Creating a HeatMap of Restaurant Density"
   ]
  },
  {
   "cell_type": "code",
   "execution_count": 20,
   "metadata": {},
   "outputs": [
    {
     "name": "stdout",
     "output_type": "stream",
     "text": [
      "Requirement already satisfied: folium in c:\\users\\noyug\\anaconda3\\lib\\site-packages (0.12.1)\n",
      "Requirement already satisfied: branca>=0.3.0 in c:\\users\\noyug\\anaconda3\\lib\\site-packages (from folium) (0.4.2)\n",
      "Requirement already satisfied: requests in c:\\users\\noyug\\anaconda3\\lib\\site-packages (from folium) (2.24.0)\n",
      "Requirement already satisfied: numpy in c:\\users\\noyug\\anaconda3\\lib\\site-packages (from folium) (1.19.2)\n",
      "Requirement already satisfied: jinja2>=2.9 in c:\\users\\noyug\\anaconda3\\lib\\site-packages (from folium) (2.11.2)\n",
      "Requirement already satisfied: certifi>=2017.4.17 in c:\\users\\noyug\\anaconda3\\lib\\site-packages (from requests->folium) (2020.6.20)\n",
      "Requirement already satisfied: idna<3,>=2.5 in c:\\users\\noyug\\anaconda3\\lib\\site-packages (from requests->folium) (2.10)\n",
      "Requirement already satisfied: urllib3!=1.25.0,!=1.25.1,<1.26,>=1.21.1 in c:\\users\\noyug\\anaconda3\\lib\\site-packages (from requests->folium) (1.25.11)\n",
      "Requirement already satisfied: chardet<4,>=3.0.2 in c:\\users\\noyug\\anaconda3\\lib\\site-packages (from requests->folium) (3.0.4)\n",
      "Requirement already satisfied: MarkupSafe>=0.23 in c:\\users\\noyug\\anaconda3\\lib\\site-packages (from jinja2>=2.9->folium) (1.1.1)\n"
     ]
    }
   ],
   "source": [
    "!pip install folium"
   ]
  },
  {
   "cell_type": "code",
   "execution_count": 38,
   "metadata": {},
   "outputs": [
    {
     "data": {
      "text/html": [
       "<div style=\"width:100%;\"><div style=\"position:relative;width:100%;height:0;padding-bottom:60%;\"><span style=\"color:#565656\">Make this Notebook Trusted to load map: File -> Trust Notebook</span><iframe src=\"about:blank\" style=\"position:absolute;width:100%;height:100%;left:0;top:0;border:none !important;\" data-html=%3C%21DOCTYPE%20html%3E%0A%3Chead%3E%20%20%20%20%0A%20%20%20%20%3Cmeta%20http-equiv%3D%22content-type%22%20content%3D%22text/html%3B%20charset%3DUTF-8%22%20/%3E%0A%20%20%20%20%0A%20%20%20%20%20%20%20%20%3Cscript%3E%0A%20%20%20%20%20%20%20%20%20%20%20%20L_NO_TOUCH%20%3D%20false%3B%0A%20%20%20%20%20%20%20%20%20%20%20%20L_DISABLE_3D%20%3D%20false%3B%0A%20%20%20%20%20%20%20%20%3C/script%3E%0A%20%20%20%20%0A%20%20%20%20%3Cstyle%3Ehtml%2C%20body%20%7Bwidth%3A%20100%25%3Bheight%3A%20100%25%3Bmargin%3A%200%3Bpadding%3A%200%3B%7D%3C/style%3E%0A%20%20%20%20%3Cstyle%3E%23map%20%7Bposition%3Aabsolute%3Btop%3A0%3Bbottom%3A0%3Bright%3A0%3Bleft%3A0%3B%7D%3C/style%3E%0A%20%20%20%20%3Cscript%20src%3D%22https%3A//cdn.jsdelivr.net/npm/leaflet%401.6.0/dist/leaflet.js%22%3E%3C/script%3E%0A%20%20%20%20%3Cscript%20src%3D%22https%3A//code.jquery.com/jquery-1.12.4.min.js%22%3E%3C/script%3E%0A%20%20%20%20%3Cscript%20src%3D%22https%3A//maxcdn.bootstrapcdn.com/bootstrap/3.2.0/js/bootstrap.min.js%22%3E%3C/script%3E%0A%20%20%20%20%3Cscript%20src%3D%22https%3A//cdnjs.cloudflare.com/ajax/libs/Leaflet.awesome-markers/2.0.2/leaflet.awesome-markers.js%22%3E%3C/script%3E%0A%20%20%20%20%3Clink%20rel%3D%22stylesheet%22%20href%3D%22https%3A//cdn.jsdelivr.net/npm/leaflet%401.6.0/dist/leaflet.css%22/%3E%0A%20%20%20%20%3Clink%20rel%3D%22stylesheet%22%20href%3D%22https%3A//maxcdn.bootstrapcdn.com/bootstrap/3.2.0/css/bootstrap.min.css%22/%3E%0A%20%20%20%20%3Clink%20rel%3D%22stylesheet%22%20href%3D%22https%3A//maxcdn.bootstrapcdn.com/bootstrap/3.2.0/css/bootstrap-theme.min.css%22/%3E%0A%20%20%20%20%3Clink%20rel%3D%22stylesheet%22%20href%3D%22https%3A//maxcdn.bootstrapcdn.com/font-awesome/4.6.3/css/font-awesome.min.css%22/%3E%0A%20%20%20%20%3Clink%20rel%3D%22stylesheet%22%20href%3D%22https%3A//cdnjs.cloudflare.com/ajax/libs/Leaflet.awesome-markers/2.0.2/leaflet.awesome-markers.css%22/%3E%0A%20%20%20%20%3Clink%20rel%3D%22stylesheet%22%20href%3D%22https%3A//cdn.jsdelivr.net/gh/python-visualization/folium/folium/templates/leaflet.awesome.rotate.min.css%22/%3E%0A%20%20%20%20%0A%20%20%20%20%20%20%20%20%20%20%20%20%3Cmeta%20name%3D%22viewport%22%20content%3D%22width%3Ddevice-width%2C%0A%20%20%20%20%20%20%20%20%20%20%20%20%20%20%20%20initial-scale%3D1.0%2C%20maximum-scale%3D1.0%2C%20user-scalable%3Dno%22%20/%3E%0A%20%20%20%20%20%20%20%20%20%20%20%20%3Cstyle%3E%0A%20%20%20%20%20%20%20%20%20%20%20%20%20%20%20%20%23map_7dad0d9a14be44708067f302fa5465b6%20%7B%0A%20%20%20%20%20%20%20%20%20%20%20%20%20%20%20%20%20%20%20%20position%3A%20relative%3B%0A%20%20%20%20%20%20%20%20%20%20%20%20%20%20%20%20%20%20%20%20width%3A%20100.0%25%3B%0A%20%20%20%20%20%20%20%20%20%20%20%20%20%20%20%20%20%20%20%20height%3A%20100.0%25%3B%0A%20%20%20%20%20%20%20%20%20%20%20%20%20%20%20%20%20%20%20%20left%3A%200.0%25%3B%0A%20%20%20%20%20%20%20%20%20%20%20%20%20%20%20%20%20%20%20%20top%3A%200.0%25%3B%0A%20%20%20%20%20%20%20%20%20%20%20%20%20%20%20%20%7D%0A%20%20%20%20%20%20%20%20%20%20%20%20%3C/style%3E%0A%20%20%20%20%20%20%20%20%0A%3C/head%3E%0A%3Cbody%3E%20%20%20%20%0A%20%20%20%20%0A%20%20%20%20%20%20%20%20%20%20%20%20%3Cdiv%20class%3D%22folium-map%22%20id%3D%22map_7dad0d9a14be44708067f302fa5465b6%22%20%3E%3C/div%3E%0A%20%20%20%20%20%20%20%20%0A%3C/body%3E%0A%3Cscript%3E%20%20%20%20%0A%20%20%20%20%0A%20%20%20%20%20%20%20%20%20%20%20%20var%20map_7dad0d9a14be44708067f302fa5465b6%20%3D%20L.map%28%0A%20%20%20%20%20%20%20%20%20%20%20%20%20%20%20%20%22map_7dad0d9a14be44708067f302fa5465b6%22%2C%0A%20%20%20%20%20%20%20%20%20%20%20%20%20%20%20%20%7B%0A%20%20%20%20%20%20%20%20%20%20%20%20%20%20%20%20%20%20%20%20center%3A%20%5B12.97%2C%2077.59%5D%2C%0A%20%20%20%20%20%20%20%20%20%20%20%20%20%20%20%20%20%20%20%20crs%3A%20L.CRS.EPSG3857%2C%0A%20%20%20%20%20%20%20%20%20%20%20%20%20%20%20%20%20%20%20%20zoom%3A%2012%2C%0A%20%20%20%20%20%20%20%20%20%20%20%20%20%20%20%20%20%20%20%20zoomControl%3A%20true%2C%0A%20%20%20%20%20%20%20%20%20%20%20%20%20%20%20%20%20%20%20%20preferCanvas%3A%20false%2C%0A%20%20%20%20%20%20%20%20%20%20%20%20%20%20%20%20%7D%0A%20%20%20%20%20%20%20%20%20%20%20%20%29%3B%0A%0A%20%20%20%20%20%20%20%20%20%20%20%20%0A%0A%20%20%20%20%20%20%20%20%0A%20%20%20%20%0A%20%20%20%20%20%20%20%20%20%20%20%20var%20tile_layer_8d1fe60b80044116a6488d8f8c874c5d%20%3D%20L.tileLayer%28%0A%20%20%20%20%20%20%20%20%20%20%20%20%20%20%20%20%22https%3A//%7Bs%7D.tile.openstreetmap.org/%7Bz%7D/%7Bx%7D/%7By%7D.png%22%2C%0A%20%20%20%20%20%20%20%20%20%20%20%20%20%20%20%20%7B%22attribution%22%3A%20%22Data%20by%20%5Cu0026copy%3B%20%5Cu003ca%20href%3D%5C%22http%3A//openstreetmap.org%5C%22%5Cu003eOpenStreetMap%5Cu003c/a%5Cu003e%2C%20under%20%5Cu003ca%20href%3D%5C%22http%3A//www.openstreetmap.org/copyright%5C%22%5Cu003eODbL%5Cu003c/a%5Cu003e.%22%2C%20%22detectRetina%22%3A%20false%2C%20%22maxNativeZoom%22%3A%2018%2C%20%22maxZoom%22%3A%2018%2C%20%22minZoom%22%3A%200%2C%20%22noWrap%22%3A%20false%2C%20%22opacity%22%3A%201%2C%20%22subdomains%22%3A%20%22abc%22%2C%20%22tms%22%3A%20false%7D%0A%20%20%20%20%20%20%20%20%20%20%20%20%29.addTo%28map_7dad0d9a14be44708067f302fa5465b6%29%3B%0A%20%20%20%20%20%20%20%20%0A%3C/script%3E onload=\"this.contentDocument.open();this.contentDocument.write(    decodeURIComponent(this.getAttribute('data-html')));this.contentDocument.close();\" allowfullscreen webkitallowfullscreen mozallowfullscreen></iframe></div></div>"
      ],
      "text/plain": [
       "<folium.folium.Map at 0x1f817ad02b0>"
      ]
     },
     "execution_count": 38,
     "metadata": {},
     "output_type": "execute_result"
    }
   ],
   "source": [
    "import folium\n",
    "#parameters for basemap generation\n",
    "def generateBaseMap(default_location=[12.97, 77.59], default_zoom_start=12):\n",
    "    base_map = folium.Map(location=default_location, zoom_start=default_zoom_start)\n",
    "    return base_map\n",
    "\n",
    "#generating basemap\n",
    "basemap=generateBaseMap()\n",
    "basemap"
   ]
  },
  {
   "cell_type": "code",
   "execution_count": 39,
   "metadata": {},
   "outputs": [
    {
     "data": {
      "text/html": [
       "<div>\n",
       "<style scoped>\n",
       "    .dataframe tbody tr th:only-of-type {\n",
       "        vertical-align: middle;\n",
       "    }\n",
       "\n",
       "    .dataframe tbody tr th {\n",
       "        vertical-align: top;\n",
       "    }\n",
       "\n",
       "    .dataframe thead th {\n",
       "        text-align: right;\n",
       "    }\n",
       "</style>\n",
       "<table border=\"1\" class=\"dataframe\">\n",
       "  <thead>\n",
       "    <tr style=\"text-align: right;\">\n",
       "      <th></th>\n",
       "      <th>lat</th>\n",
       "      <th>lon</th>\n",
       "      <th>Count</th>\n",
       "    </tr>\n",
       "  </thead>\n",
       "  <tbody>\n",
       "    <tr>\n",
       "      <th>0</th>\n",
       "      <td>13.005409</td>\n",
       "      <td>74.794607</td>\n",
       "      <td>1783</td>\n",
       "    </tr>\n",
       "    <tr>\n",
       "      <th>1</th>\n",
       "      <td>45.954851</td>\n",
       "      <td>-112.496595</td>\n",
       "      <td>1456</td>\n",
       "    </tr>\n",
       "    <tr>\n",
       "      <th>2</th>\n",
       "      <td>12.973291</td>\n",
       "      <td>77.640467</td>\n",
       "      <td>1350</td>\n",
       "    </tr>\n",
       "    <tr>\n",
       "      <th>3</th>\n",
       "      <td>18.147500</td>\n",
       "      <td>41.538889</td>\n",
       "      <td>1162</td>\n",
       "    </tr>\n",
       "    <tr>\n",
       "      <th>4</th>\n",
       "      <td>27.643927</td>\n",
       "      <td>83.052805</td>\n",
       "      <td>1037</td>\n",
       "    </tr>\n",
       "    <tr>\n",
       "      <th>...</th>\n",
       "      <td>...</td>\n",
       "      <td>...</td>\n",
       "      <td>...</td>\n",
       "    </tr>\n",
       "    <tr>\n",
       "      <th>83</th>\n",
       "      <td>12.927441</td>\n",
       "      <td>77.515522</td>\n",
       "      <td>2</td>\n",
       "    </tr>\n",
       "    <tr>\n",
       "      <th>84</th>\n",
       "      <td>12.560743</td>\n",
       "      <td>77.425838</td>\n",
       "      <td>2</td>\n",
       "    </tr>\n",
       "    <tr>\n",
       "      <th>85</th>\n",
       "      <td>13.001129</td>\n",
       "      <td>77.632562</td>\n",
       "      <td>2</td>\n",
       "    </tr>\n",
       "    <tr>\n",
       "      <th>86</th>\n",
       "      <td>12.945048</td>\n",
       "      <td>77.263004</td>\n",
       "      <td>2</td>\n",
       "    </tr>\n",
       "    <tr>\n",
       "      <th>87</th>\n",
       "      <td>13.007516</td>\n",
       "      <td>77.695935</td>\n",
       "      <td>1</td>\n",
       "    </tr>\n",
       "  </tbody>\n",
       "</table>\n",
       "<p>87 rows × 3 columns</p>\n",
       "</div>"
      ],
      "text/plain": [
       "          lat         lon  Count\n",
       "0   13.005409   74.794607   1783\n",
       "1   45.954851 -112.496595   1456\n",
       "2   12.973291   77.640467   1350\n",
       "3   18.147500   41.538889   1162\n",
       "4   27.643927   83.052805   1037\n",
       "..        ...         ...    ...\n",
       "83  12.927441   77.515522      2\n",
       "84  12.560743   77.425838      2\n",
       "85  13.001129   77.632562      2\n",
       "86  12.945048   77.263004      2\n",
       "87  13.007516   77.695935      1\n",
       "\n",
       "[87 rows x 3 columns]"
      ]
     },
     "execution_count": 39,
     "metadata": {},
     "output_type": "execute_result"
    }
   ],
   "source": [
    "Rest_locations[['lat','lon','Count']]"
   ]
  },
  {
   "cell_type": "code",
   "execution_count": 40,
   "metadata": {},
   "outputs": [
    {
     "data": {
      "text/html": [
       "<div style=\"width:100%;\"><div style=\"position:relative;width:100%;height:0;padding-bottom:60%;\"><span style=\"color:#565656\">Make this Notebook Trusted to load map: File -> Trust Notebook</span><iframe src=\"about:blank\" style=\"position:absolute;width:100%;height:100%;left:0;top:0;border:none !important;\" data-html=%3C%21DOCTYPE%20html%3E%0A%3Chead%3E%20%20%20%20%0A%20%20%20%20%3Cmeta%20http-equiv%3D%22content-type%22%20content%3D%22text/html%3B%20charset%3DUTF-8%22%20/%3E%0A%20%20%20%20%0A%20%20%20%20%20%20%20%20%3Cscript%3E%0A%20%20%20%20%20%20%20%20%20%20%20%20L_NO_TOUCH%20%3D%20false%3B%0A%20%20%20%20%20%20%20%20%20%20%20%20L_DISABLE_3D%20%3D%20false%3B%0A%20%20%20%20%20%20%20%20%3C/script%3E%0A%20%20%20%20%0A%20%20%20%20%3Cstyle%3Ehtml%2C%20body%20%7Bwidth%3A%20100%25%3Bheight%3A%20100%25%3Bmargin%3A%200%3Bpadding%3A%200%3B%7D%3C/style%3E%0A%20%20%20%20%3Cstyle%3E%23map%20%7Bposition%3Aabsolute%3Btop%3A0%3Bbottom%3A0%3Bright%3A0%3Bleft%3A0%3B%7D%3C/style%3E%0A%20%20%20%20%3Cscript%20src%3D%22https%3A//cdn.jsdelivr.net/npm/leaflet%401.6.0/dist/leaflet.js%22%3E%3C/script%3E%0A%20%20%20%20%3Cscript%20src%3D%22https%3A//code.jquery.com/jquery-1.12.4.min.js%22%3E%3C/script%3E%0A%20%20%20%20%3Cscript%20src%3D%22https%3A//maxcdn.bootstrapcdn.com/bootstrap/3.2.0/js/bootstrap.min.js%22%3E%3C/script%3E%0A%20%20%20%20%3Cscript%20src%3D%22https%3A//cdnjs.cloudflare.com/ajax/libs/Leaflet.awesome-markers/2.0.2/leaflet.awesome-markers.js%22%3E%3C/script%3E%0A%20%20%20%20%3Clink%20rel%3D%22stylesheet%22%20href%3D%22https%3A//cdn.jsdelivr.net/npm/leaflet%401.6.0/dist/leaflet.css%22/%3E%0A%20%20%20%20%3Clink%20rel%3D%22stylesheet%22%20href%3D%22https%3A//maxcdn.bootstrapcdn.com/bootstrap/3.2.0/css/bootstrap.min.css%22/%3E%0A%20%20%20%20%3Clink%20rel%3D%22stylesheet%22%20href%3D%22https%3A//maxcdn.bootstrapcdn.com/bootstrap/3.2.0/css/bootstrap-theme.min.css%22/%3E%0A%20%20%20%20%3Clink%20rel%3D%22stylesheet%22%20href%3D%22https%3A//maxcdn.bootstrapcdn.com/font-awesome/4.6.3/css/font-awesome.min.css%22/%3E%0A%20%20%20%20%3Clink%20rel%3D%22stylesheet%22%20href%3D%22https%3A//cdnjs.cloudflare.com/ajax/libs/Leaflet.awesome-markers/2.0.2/leaflet.awesome-markers.css%22/%3E%0A%20%20%20%20%3Clink%20rel%3D%22stylesheet%22%20href%3D%22https%3A//cdn.jsdelivr.net/gh/python-visualization/folium/folium/templates/leaflet.awesome.rotate.min.css%22/%3E%0A%20%20%20%20%0A%20%20%20%20%20%20%20%20%20%20%20%20%3Cmeta%20name%3D%22viewport%22%20content%3D%22width%3Ddevice-width%2C%0A%20%20%20%20%20%20%20%20%20%20%20%20%20%20%20%20initial-scale%3D1.0%2C%20maximum-scale%3D1.0%2C%20user-scalable%3Dno%22%20/%3E%0A%20%20%20%20%20%20%20%20%20%20%20%20%3Cstyle%3E%0A%20%20%20%20%20%20%20%20%20%20%20%20%20%20%20%20%23map_7dad0d9a14be44708067f302fa5465b6%20%7B%0A%20%20%20%20%20%20%20%20%20%20%20%20%20%20%20%20%20%20%20%20position%3A%20relative%3B%0A%20%20%20%20%20%20%20%20%20%20%20%20%20%20%20%20%20%20%20%20width%3A%20100.0%25%3B%0A%20%20%20%20%20%20%20%20%20%20%20%20%20%20%20%20%20%20%20%20height%3A%20100.0%25%3B%0A%20%20%20%20%20%20%20%20%20%20%20%20%20%20%20%20%20%20%20%20left%3A%200.0%25%3B%0A%20%20%20%20%20%20%20%20%20%20%20%20%20%20%20%20%20%20%20%20top%3A%200.0%25%3B%0A%20%20%20%20%20%20%20%20%20%20%20%20%20%20%20%20%7D%0A%20%20%20%20%20%20%20%20%20%20%20%20%3C/style%3E%0A%20%20%20%20%20%20%20%20%0A%20%20%20%20%3Cscript%20src%3D%22https%3A//cdn.jsdelivr.net/gh/python-visualization/folium%40master/folium/templates/leaflet_heat.min.js%22%3E%3C/script%3E%0A%3C/head%3E%0A%3Cbody%3E%20%20%20%20%0A%20%20%20%20%0A%20%20%20%20%20%20%20%20%20%20%20%20%3Cdiv%20class%3D%22folium-map%22%20id%3D%22map_7dad0d9a14be44708067f302fa5465b6%22%20%3E%3C/div%3E%0A%20%20%20%20%20%20%20%20%0A%3C/body%3E%0A%3Cscript%3E%20%20%20%20%0A%20%20%20%20%0A%20%20%20%20%20%20%20%20%20%20%20%20var%20map_7dad0d9a14be44708067f302fa5465b6%20%3D%20L.map%28%0A%20%20%20%20%20%20%20%20%20%20%20%20%20%20%20%20%22map_7dad0d9a14be44708067f302fa5465b6%22%2C%0A%20%20%20%20%20%20%20%20%20%20%20%20%20%20%20%20%7B%0A%20%20%20%20%20%20%20%20%20%20%20%20%20%20%20%20%20%20%20%20center%3A%20%5B12.97%2C%2077.59%5D%2C%0A%20%20%20%20%20%20%20%20%20%20%20%20%20%20%20%20%20%20%20%20crs%3A%20L.CRS.EPSG3857%2C%0A%20%20%20%20%20%20%20%20%20%20%20%20%20%20%20%20%20%20%20%20zoom%3A%2012%2C%0A%20%20%20%20%20%20%20%20%20%20%20%20%20%20%20%20%20%20%20%20zoomControl%3A%20true%2C%0A%20%20%20%20%20%20%20%20%20%20%20%20%20%20%20%20%20%20%20%20preferCanvas%3A%20false%2C%0A%20%20%20%20%20%20%20%20%20%20%20%20%20%20%20%20%7D%0A%20%20%20%20%20%20%20%20%20%20%20%20%29%3B%0A%0A%20%20%20%20%20%20%20%20%20%20%20%20%0A%0A%20%20%20%20%20%20%20%20%0A%20%20%20%20%0A%20%20%20%20%20%20%20%20%20%20%20%20var%20tile_layer_8d1fe60b80044116a6488d8f8c874c5d%20%3D%20L.tileLayer%28%0A%20%20%20%20%20%20%20%20%20%20%20%20%20%20%20%20%22https%3A//%7Bs%7D.tile.openstreetmap.org/%7Bz%7D/%7Bx%7D/%7By%7D.png%22%2C%0A%20%20%20%20%20%20%20%20%20%20%20%20%20%20%20%20%7B%22attribution%22%3A%20%22Data%20by%20%5Cu0026copy%3B%20%5Cu003ca%20href%3D%5C%22http%3A//openstreetmap.org%5C%22%5Cu003eOpenStreetMap%5Cu003c/a%5Cu003e%2C%20under%20%5Cu003ca%20href%3D%5C%22http%3A//www.openstreetmap.org/copyright%5C%22%5Cu003eODbL%5Cu003c/a%5Cu003e.%22%2C%20%22detectRetina%22%3A%20false%2C%20%22maxNativeZoom%22%3A%2018%2C%20%22maxZoom%22%3A%2018%2C%20%22minZoom%22%3A%200%2C%20%22noWrap%22%3A%20false%2C%20%22opacity%22%3A%201%2C%20%22subdomains%22%3A%20%22abc%22%2C%20%22tms%22%3A%20false%7D%0A%20%20%20%20%20%20%20%20%20%20%20%20%29.addTo%28map_7dad0d9a14be44708067f302fa5465b6%29%3B%0A%20%20%20%20%20%20%20%20%0A%20%20%20%20%0A%20%20%20%20%20%20%20%20%20%20%20%20var%20heat_map_33461b08dd5148ada9702fb5a2386700%20%3D%20L.heatLayer%28%0A%20%20%20%20%20%20%20%20%20%20%20%20%20%20%20%20%5B%5B13.00540865%2C%2074.79460685941484%2C%201783.0%5D%2C%20%5B45.95485055%2C%20-112.49659530324134%2C%201456.0%5D%2C%20%5B12.9732913%2C%2077.6404672%2C%201350.0%5D%2C%20%5B18.1475%2C%2041.538889%2C%201162.0%5D%2C%20%5B27.64392675%2C%2083.05280519687284%2C%201037.0%5D%2C%20%5B12.2655944%2C%2076.6465404%2C%201016.0%5D%2C%20%5B44.3730577%2C%20-71.6118577%2C%20824.0%5D%2C%20%5B13.0078418%2C%2074.7963208%2C%20725.0%5D%2C%20%5B12.9400321%2C%2077.6203272%2C%20720.0%5D%2C%20%5B12.9552572%2C%2077.6984163%2C%20683.0%5D%2C%20%5B12.93433385%2C%2077.63040639553275%2C%20644.0%5D%2C%20%5B17.9895618%2C%2079.5967057%2C%20596.0%5D%2C%20%5B40.28745%2C%20-76.964526%2C%20570.0%5D%2C%20%5B51.373656%2C%20-0.1042366%2C%20508.0%5D%2C%20%5B12.887979%2C%2077.5970812%2C%20496.0%5D%2C%20%5B12.9778793%2C%2077.6246697%2C%20477.0%5D%2C%20%5B13.0221416%2C%2077.6403368%2C%20467.0%5D%2C%20%5B14.5395813%2C%20121.070371%2C%20466.0%5D%2C%20%5B12.93577245%2C%2077.66676103753434%2C%20462.0%5D%2C%20%5B12.9242381%2C%2077.6289059%2C%20456.0%5D%2C%20%5B40.7652844%2C%20-76.373824%2C%20445.0%5D%2C%20%5B38.7385916%2C%20-77.5275749%2C%20442.0%5D%2C%20%5B15.8876779%2C%2075.7046777%2C%20387.0%5D%2C%20%5B13.0027353%2C%2077.5703253%2C%20366.0%5D%2C%20%5B50.7721586%2C%200.09772783661369303%2C%20351.0%5D%2C%20%5B31.89376%2C%20-88.066644%2C%20333.0%5D%2C%20%5B-6.2659285%2C%20106.7842561%2C%20327.0%5D%2C%20%5B33.5935063%2C%20-79.0345627%2C%20307.0%5D%2C%20%5B51.5227651%2C%20-0.7354457%2C%20304.0%5D%2C%20%5B13.0346384%2C%2077.5681733%2C%20303.0%5D%2C%20%5B12.996845%2C%2077.6130165%2C%20293.0%5D%2C%20%5B12.9417261%2C%2077.5755021%2C%20286.0%5D%2C%20%5B13.0093455%2C%2077.6377094%2C%20260.0%5D%2C%20%5B12.9624669%2C%2077.6381958%2C%20206.0%5D%2C%20%5B-8.9189606%2C%2033.4588989%2C%20202.0%5D%2C%20%5B13.0141618%2C%2077.6518539%2C%20196.0%5D%2C%20%5B12.9678074%2C%2077.6568367%2C%20174.0%5D%2C%20%5B12.9575547%2C%2077.5979099%2C%20167.0%5D%2C%20%5B12.9271867%2C%2077.6266252%2C%20162.0%5D%2C%20%5B12.9882338%2C%2077.554883%2C%20157.0%5D%2C%20%5B51.5173375%2C%20-0.073532%2C%20141.0%5D%2C%20%5B12.9417812%2C%2077.6160146%2C%20124.0%5D%2C%20%5B12.988721250000001%2C%2077.58516877601824%2C%20108.0%5D%2C%20%5B34.977289%2C%20-78.974578%2C%2095.0%5D%2C%20%5B22.3146438%2C%2073.1597756%2C%2075.0%5D%2C%20%5B12.9932739%2C%2077.5388099%2C%2071.0%5D%2C%20%5B12.9931876%2C%2077.5753419%2C%2069.0%5D%2C%20%5B18.5322493%2C%2073.8499601124847%2C%2069.0%5D%2C%20%5B13.2227%2C%2078.5541977%2C%2062.0%5D%2C%20%5B12.945245%2C%2077.6269144%2C%2059.0%5D%2C%20%5B12.9081487%2C%2077.5553179%2C%2056.0%5D%2C%20%5B12.9846713%2C%2077.6790908%2C%2048.0%5D%2C%20%5B12.9243509%2C%2077.6255562%2C%2045.0%5D%2C%20%5B12.973936%2C%2077.6509982%2C%2043.0%5D%2C%20%5B13.0358698%2C%2077.6323597%2C%2042.0%5D%2C%20%5B12.967576%2C%2077.7150877%2C%2042.0%5D%2C%20%5B12.9489339%2C%2077.5968273%2C%2041.0%5D%2C%20%5B15.8782951%2C%2074.5084834%2C%2038.0%5D%2C%20%5B13.0258087%2C%2077.6305067%2C%2034.0%5D%2C%20%5B12.9089453%2C%2077.6239038%2C%2028.0%5D%2C%20%5B12.9414662%2C%2077.7470942%2C%2027.0%5D%2C%20%5B1.2847055%2C%20103.84320655721689%2C%2027.0%5D%2C%20%5B13.02383%2C%2077.5529215%2C%2024.0%5D%2C%20%5B12.773175%2C%2077.7831871%2C%2024.0%5D%2C%20%5B12.957998%2C%2077.6037312%2C%2022.0%5D%2C%20%5B13.0227204%2C%2077.595715%2C%2022.0%5D%2C%20%5B13.0621474%2C%2077.58006135480495%2C%2020.0%5D%2C%20%5B13.0646907%2C%2077.49626895712257%2C%2019.0%5D%2C%20%5B38.7801076%2C%20-121.5056438%2C%2017.0%5D%2C%20%5B23.1485712%2C%2081.6048241%2C%2017.0%5D%2C%20%5B13.2923988%2C%2077.7519261%2C%2017.0%5D%2C%20%5B13.194416%2C%2078.7011301%2C%2016.0%5D%2C%20%5B22.8359967%2C%2069.3405962%2C%2015.0%5D%2C%20%5B17.2510682%2C%2080.1651978%2C%2014.0%5D%2C%20%5B39.76880625%2C%20-86.15345077251979%2C%2014.0%5D%2C%20%5B13.0215466%2C%2077.7640586%2C%208.0%5D%2C%20%5B12.9055682%2C%2077.5455438%2C%204.0%5D%2C%20%5B12.3872141%2C%2076.6669626%2C%204.0%5D%2C%20%5B13.0101286%2C%2077.5548006%2C%203.0%5D%2C%20%5B11.9917786%2C%2076.5066292%2C%203.0%5D%2C%20%5B13.0217151%2C%2077.7660547%2C%203.0%5D%2C%20%5B13.1006982%2C%2077.5963454%2C%202.0%5D%2C%20%5B12.9274413%2C%2077.5155224%2C%202.0%5D%2C%20%5B12.5607431%2C%2077.4258375%2C%202.0%5D%2C%20%5B13.0011289%2C%2077.6325617%2C%202.0%5D%2C%20%5B12.945048%2C%2077.263004%2C%202.0%5D%2C%20%5B13.007516%2C%2077.695935%2C%201.0%5D%5D%2C%0A%20%20%20%20%20%20%20%20%20%20%20%20%20%20%20%20%7B%22blur%22%3A%2015%2C%20%22maxZoom%22%3A%2018%2C%20%22minOpacity%22%3A%200.5%2C%20%22radius%22%3A%2015%2C%20%22zoom%22%3A%2020%7D%0A%20%20%20%20%20%20%20%20%20%20%20%20%29.addTo%28map_7dad0d9a14be44708067f302fa5465b6%29%3B%0A%20%20%20%20%20%20%20%20%0A%3C/script%3E onload=\"this.contentDocument.open();this.contentDocument.write(    decodeURIComponent(this.getAttribute('data-html')));this.contentDocument.close();\" allowfullscreen webkitallowfullscreen mozallowfullscreen></iframe></div></div>"
      ],
      "text/plain": [
       "<folium.folium.Map at 0x1f817ad02b0>"
      ]
     },
     "execution_count": 40,
     "metadata": {},
     "output_type": "execute_result"
    }
   ],
   "source": [
    "#generating HeatMap\n",
    "from folium.plugins import HeatMap\n",
    "HeatMap(Rest_locations[['lat','lon','Count']], zoom=20, radius=15).add_to(basemap)\n",
    "basemap"
   ]
  },
  {
   "cell_type": "code",
   "execution_count": null,
   "metadata": {},
   "outputs": [],
   "source": []
  },
  {
   "cell_type": "code",
   "execution_count": null,
   "metadata": {},
   "outputs": [],
   "source": []
  },
  {
   "cell_type": "raw",
   "metadata": {},
   "source": [
    "Restaurants tend to concentrate around Bengaluru area; therefore business people should consider setting up restaurant at strategic points in the city\n"
   ]
  },
  {
   "cell_type": "markdown",
   "metadata": {},
   "source": [
    "# Marker Cluster Analysis"
   ]
  },
  {
   "cell_type": "markdown",
   "metadata": {},
   "source": [
    "Marker Cluster is a simple way of analysing a map containing many markers when the map is zoomed out, the nearby markers are combined into one cluster; which is seperated when the map zoom level is much closer."
   ]
  },
  {
   "cell_type": "code",
   "execution_count": 41,
   "metadata": {},
   "outputs": [],
   "source": [
    "from folium.plugins import FastMarkerCluster"
   ]
  },
  {
   "cell_type": "code",
   "execution_count": 42,
   "metadata": {},
   "outputs": [
    {
     "data": {
      "text/plain": [
       "<folium.plugins.fast_marker_cluster.FastMarkerCluster at 0x1f8195244f0>"
      ]
     },
     "execution_count": 42,
     "metadata": {},
     "output_type": "execute_result"
    }
   ],
   "source": [
    "FastMarkerCluster(Rest_locations[['lat','lon','Count']], zoom=20).add_to(basemap)"
   ]
  },
  {
   "cell_type": "code",
   "execution_count": 43,
   "metadata": {
    "scrolled": true
   },
   "outputs": [
    {
     "data": {
      "text/html": [
       "<div style=\"width:100%;\"><div style=\"position:relative;width:100%;height:0;padding-bottom:60%;\"><span style=\"color:#565656\">Make this Notebook Trusted to load map: File -> Trust Notebook</span><iframe src=\"about:blank\" style=\"position:absolute;width:100%;height:100%;left:0;top:0;border:none !important;\" data-html=%3C%21DOCTYPE%20html%3E%0A%3Chead%3E%20%20%20%20%0A%20%20%20%20%3Cmeta%20http-equiv%3D%22content-type%22%20content%3D%22text/html%3B%20charset%3DUTF-8%22%20/%3E%0A%20%20%20%20%0A%20%20%20%20%20%20%20%20%3Cscript%3E%0A%20%20%20%20%20%20%20%20%20%20%20%20L_NO_TOUCH%20%3D%20false%3B%0A%20%20%20%20%20%20%20%20%20%20%20%20L_DISABLE_3D%20%3D%20false%3B%0A%20%20%20%20%20%20%20%20%3C/script%3E%0A%20%20%20%20%0A%20%20%20%20%3Cstyle%3Ehtml%2C%20body%20%7Bwidth%3A%20100%25%3Bheight%3A%20100%25%3Bmargin%3A%200%3Bpadding%3A%200%3B%7D%3C/style%3E%0A%20%20%20%20%3Cstyle%3E%23map%20%7Bposition%3Aabsolute%3Btop%3A0%3Bbottom%3A0%3Bright%3A0%3Bleft%3A0%3B%7D%3C/style%3E%0A%20%20%20%20%3Cscript%20src%3D%22https%3A//cdn.jsdelivr.net/npm/leaflet%401.6.0/dist/leaflet.js%22%3E%3C/script%3E%0A%20%20%20%20%3Cscript%20src%3D%22https%3A//code.jquery.com/jquery-1.12.4.min.js%22%3E%3C/script%3E%0A%20%20%20%20%3Cscript%20src%3D%22https%3A//maxcdn.bootstrapcdn.com/bootstrap/3.2.0/js/bootstrap.min.js%22%3E%3C/script%3E%0A%20%20%20%20%3Cscript%20src%3D%22https%3A//cdnjs.cloudflare.com/ajax/libs/Leaflet.awesome-markers/2.0.2/leaflet.awesome-markers.js%22%3E%3C/script%3E%0A%20%20%20%20%3Clink%20rel%3D%22stylesheet%22%20href%3D%22https%3A//cdn.jsdelivr.net/npm/leaflet%401.6.0/dist/leaflet.css%22/%3E%0A%20%20%20%20%3Clink%20rel%3D%22stylesheet%22%20href%3D%22https%3A//maxcdn.bootstrapcdn.com/bootstrap/3.2.0/css/bootstrap.min.css%22/%3E%0A%20%20%20%20%3Clink%20rel%3D%22stylesheet%22%20href%3D%22https%3A//maxcdn.bootstrapcdn.com/bootstrap/3.2.0/css/bootstrap-theme.min.css%22/%3E%0A%20%20%20%20%3Clink%20rel%3D%22stylesheet%22%20href%3D%22https%3A//maxcdn.bootstrapcdn.com/font-awesome/4.6.3/css/font-awesome.min.css%22/%3E%0A%20%20%20%20%3Clink%20rel%3D%22stylesheet%22%20href%3D%22https%3A//cdnjs.cloudflare.com/ajax/libs/Leaflet.awesome-markers/2.0.2/leaflet.awesome-markers.css%22/%3E%0A%20%20%20%20%3Clink%20rel%3D%22stylesheet%22%20href%3D%22https%3A//cdn.jsdelivr.net/gh/python-visualization/folium/folium/templates/leaflet.awesome.rotate.min.css%22/%3E%0A%20%20%20%20%0A%20%20%20%20%20%20%20%20%20%20%20%20%3Cmeta%20name%3D%22viewport%22%20content%3D%22width%3Ddevice-width%2C%0A%20%20%20%20%20%20%20%20%20%20%20%20%20%20%20%20initial-scale%3D1.0%2C%20maximum-scale%3D1.0%2C%20user-scalable%3Dno%22%20/%3E%0A%20%20%20%20%20%20%20%20%20%20%20%20%3Cstyle%3E%0A%20%20%20%20%20%20%20%20%20%20%20%20%20%20%20%20%23map_7dad0d9a14be44708067f302fa5465b6%20%7B%0A%20%20%20%20%20%20%20%20%20%20%20%20%20%20%20%20%20%20%20%20position%3A%20relative%3B%0A%20%20%20%20%20%20%20%20%20%20%20%20%20%20%20%20%20%20%20%20width%3A%20100.0%25%3B%0A%20%20%20%20%20%20%20%20%20%20%20%20%20%20%20%20%20%20%20%20height%3A%20100.0%25%3B%0A%20%20%20%20%20%20%20%20%20%20%20%20%20%20%20%20%20%20%20%20left%3A%200.0%25%3B%0A%20%20%20%20%20%20%20%20%20%20%20%20%20%20%20%20%20%20%20%20top%3A%200.0%25%3B%0A%20%20%20%20%20%20%20%20%20%20%20%20%20%20%20%20%7D%0A%20%20%20%20%20%20%20%20%20%20%20%20%3C/style%3E%0A%20%20%20%20%20%20%20%20%0A%20%20%20%20%3Cscript%20src%3D%22https%3A//cdn.jsdelivr.net/gh/python-visualization/folium%40master/folium/templates/leaflet_heat.min.js%22%3E%3C/script%3E%0A%20%20%20%20%3Cscript%20src%3D%22https%3A//cdnjs.cloudflare.com/ajax/libs/leaflet.markercluster/1.1.0/leaflet.markercluster.js%22%3E%3C/script%3E%0A%20%20%20%20%3Clink%20rel%3D%22stylesheet%22%20href%3D%22https%3A//cdnjs.cloudflare.com/ajax/libs/leaflet.markercluster/1.1.0/MarkerCluster.css%22/%3E%0A%20%20%20%20%3Clink%20rel%3D%22stylesheet%22%20href%3D%22https%3A//cdnjs.cloudflare.com/ajax/libs/leaflet.markercluster/1.1.0/MarkerCluster.Default.css%22/%3E%0A%3C/head%3E%0A%3Cbody%3E%20%20%20%20%0A%20%20%20%20%0A%20%20%20%20%20%20%20%20%20%20%20%20%3Cdiv%20class%3D%22folium-map%22%20id%3D%22map_7dad0d9a14be44708067f302fa5465b6%22%20%3E%3C/div%3E%0A%20%20%20%20%20%20%20%20%0A%3C/body%3E%0A%3Cscript%3E%20%20%20%20%0A%20%20%20%20%0A%20%20%20%20%20%20%20%20%20%20%20%20var%20map_7dad0d9a14be44708067f302fa5465b6%20%3D%20L.map%28%0A%20%20%20%20%20%20%20%20%20%20%20%20%20%20%20%20%22map_7dad0d9a14be44708067f302fa5465b6%22%2C%0A%20%20%20%20%20%20%20%20%20%20%20%20%20%20%20%20%7B%0A%20%20%20%20%20%20%20%20%20%20%20%20%20%20%20%20%20%20%20%20center%3A%20%5B12.97%2C%2077.59%5D%2C%0A%20%20%20%20%20%20%20%20%20%20%20%20%20%20%20%20%20%20%20%20crs%3A%20L.CRS.EPSG3857%2C%0A%20%20%20%20%20%20%20%20%20%20%20%20%20%20%20%20%20%20%20%20zoom%3A%2012%2C%0A%20%20%20%20%20%20%20%20%20%20%20%20%20%20%20%20%20%20%20%20zoomControl%3A%20true%2C%0A%20%20%20%20%20%20%20%20%20%20%20%20%20%20%20%20%20%20%20%20preferCanvas%3A%20false%2C%0A%20%20%20%20%20%20%20%20%20%20%20%20%20%20%20%20%7D%0A%20%20%20%20%20%20%20%20%20%20%20%20%29%3B%0A%0A%20%20%20%20%20%20%20%20%20%20%20%20%0A%0A%20%20%20%20%20%20%20%20%0A%20%20%20%20%0A%20%20%20%20%20%20%20%20%20%20%20%20var%20tile_layer_8d1fe60b80044116a6488d8f8c874c5d%20%3D%20L.tileLayer%28%0A%20%20%20%20%20%20%20%20%20%20%20%20%20%20%20%20%22https%3A//%7Bs%7D.tile.openstreetmap.org/%7Bz%7D/%7Bx%7D/%7By%7D.png%22%2C%0A%20%20%20%20%20%20%20%20%20%20%20%20%20%20%20%20%7B%22attribution%22%3A%20%22Data%20by%20%5Cu0026copy%3B%20%5Cu003ca%20href%3D%5C%22http%3A//openstreetmap.org%5C%22%5Cu003eOpenStreetMap%5Cu003c/a%5Cu003e%2C%20under%20%5Cu003ca%20href%3D%5C%22http%3A//www.openstreetmap.org/copyright%5C%22%5Cu003eODbL%5Cu003c/a%5Cu003e.%22%2C%20%22detectRetina%22%3A%20false%2C%20%22maxNativeZoom%22%3A%2018%2C%20%22maxZoom%22%3A%2018%2C%20%22minZoom%22%3A%200%2C%20%22noWrap%22%3A%20false%2C%20%22opacity%22%3A%201%2C%20%22subdomains%22%3A%20%22abc%22%2C%20%22tms%22%3A%20false%7D%0A%20%20%20%20%20%20%20%20%20%20%20%20%29.addTo%28map_7dad0d9a14be44708067f302fa5465b6%29%3B%0A%20%20%20%20%20%20%20%20%0A%20%20%20%20%0A%20%20%20%20%20%20%20%20%20%20%20%20var%20heat_map_33461b08dd5148ada9702fb5a2386700%20%3D%20L.heatLayer%28%0A%20%20%20%20%20%20%20%20%20%20%20%20%20%20%20%20%5B%5B13.00540865%2C%2074.79460685941484%2C%201783.0%5D%2C%20%5B45.95485055%2C%20-112.49659530324134%2C%201456.0%5D%2C%20%5B12.9732913%2C%2077.6404672%2C%201350.0%5D%2C%20%5B18.1475%2C%2041.538889%2C%201162.0%5D%2C%20%5B27.64392675%2C%2083.05280519687284%2C%201037.0%5D%2C%20%5B12.2655944%2C%2076.6465404%2C%201016.0%5D%2C%20%5B44.3730577%2C%20-71.6118577%2C%20824.0%5D%2C%20%5B13.0078418%2C%2074.7963208%2C%20725.0%5D%2C%20%5B12.9400321%2C%2077.6203272%2C%20720.0%5D%2C%20%5B12.9552572%2C%2077.6984163%2C%20683.0%5D%2C%20%5B12.93433385%2C%2077.63040639553275%2C%20644.0%5D%2C%20%5B17.9895618%2C%2079.5967057%2C%20596.0%5D%2C%20%5B40.28745%2C%20-76.964526%2C%20570.0%5D%2C%20%5B51.373656%2C%20-0.1042366%2C%20508.0%5D%2C%20%5B12.887979%2C%2077.5970812%2C%20496.0%5D%2C%20%5B12.9778793%2C%2077.6246697%2C%20477.0%5D%2C%20%5B13.0221416%2C%2077.6403368%2C%20467.0%5D%2C%20%5B14.5395813%2C%20121.070371%2C%20466.0%5D%2C%20%5B12.93577245%2C%2077.66676103753434%2C%20462.0%5D%2C%20%5B12.9242381%2C%2077.6289059%2C%20456.0%5D%2C%20%5B40.7652844%2C%20-76.373824%2C%20445.0%5D%2C%20%5B38.7385916%2C%20-77.5275749%2C%20442.0%5D%2C%20%5B15.8876779%2C%2075.7046777%2C%20387.0%5D%2C%20%5B13.0027353%2C%2077.5703253%2C%20366.0%5D%2C%20%5B50.7721586%2C%200.09772783661369303%2C%20351.0%5D%2C%20%5B31.89376%2C%20-88.066644%2C%20333.0%5D%2C%20%5B-6.2659285%2C%20106.7842561%2C%20327.0%5D%2C%20%5B33.5935063%2C%20-79.0345627%2C%20307.0%5D%2C%20%5B51.5227651%2C%20-0.7354457%2C%20304.0%5D%2C%20%5B13.0346384%2C%2077.5681733%2C%20303.0%5D%2C%20%5B12.996845%2C%2077.6130165%2C%20293.0%5D%2C%20%5B12.9417261%2C%2077.5755021%2C%20286.0%5D%2C%20%5B13.0093455%2C%2077.6377094%2C%20260.0%5D%2C%20%5B12.9624669%2C%2077.6381958%2C%20206.0%5D%2C%20%5B-8.9189606%2C%2033.4588989%2C%20202.0%5D%2C%20%5B13.0141618%2C%2077.6518539%2C%20196.0%5D%2C%20%5B12.9678074%2C%2077.6568367%2C%20174.0%5D%2C%20%5B12.9575547%2C%2077.5979099%2C%20167.0%5D%2C%20%5B12.9271867%2C%2077.6266252%2C%20162.0%5D%2C%20%5B12.9882338%2C%2077.554883%2C%20157.0%5D%2C%20%5B51.5173375%2C%20-0.073532%2C%20141.0%5D%2C%20%5B12.9417812%2C%2077.6160146%2C%20124.0%5D%2C%20%5B12.988721250000001%2C%2077.58516877601824%2C%20108.0%5D%2C%20%5B34.977289%2C%20-78.974578%2C%2095.0%5D%2C%20%5B22.3146438%2C%2073.1597756%2C%2075.0%5D%2C%20%5B12.9932739%2C%2077.5388099%2C%2071.0%5D%2C%20%5B12.9931876%2C%2077.5753419%2C%2069.0%5D%2C%20%5B18.5322493%2C%2073.8499601124847%2C%2069.0%5D%2C%20%5B13.2227%2C%2078.5541977%2C%2062.0%5D%2C%20%5B12.945245%2C%2077.6269144%2C%2059.0%5D%2C%20%5B12.9081487%2C%2077.5553179%2C%2056.0%5D%2C%20%5B12.9846713%2C%2077.6790908%2C%2048.0%5D%2C%20%5B12.9243509%2C%2077.6255562%2C%2045.0%5D%2C%20%5B12.973936%2C%2077.6509982%2C%2043.0%5D%2C%20%5B13.0358698%2C%2077.6323597%2C%2042.0%5D%2C%20%5B12.967576%2C%2077.7150877%2C%2042.0%5D%2C%20%5B12.9489339%2C%2077.5968273%2C%2041.0%5D%2C%20%5B15.8782951%2C%2074.5084834%2C%2038.0%5D%2C%20%5B13.0258087%2C%2077.6305067%2C%2034.0%5D%2C%20%5B12.9089453%2C%2077.6239038%2C%2028.0%5D%2C%20%5B12.9414662%2C%2077.7470942%2C%2027.0%5D%2C%20%5B1.2847055%2C%20103.84320655721689%2C%2027.0%5D%2C%20%5B13.02383%2C%2077.5529215%2C%2024.0%5D%2C%20%5B12.773175%2C%2077.7831871%2C%2024.0%5D%2C%20%5B12.957998%2C%2077.6037312%2C%2022.0%5D%2C%20%5B13.0227204%2C%2077.595715%2C%2022.0%5D%2C%20%5B13.0621474%2C%2077.58006135480495%2C%2020.0%5D%2C%20%5B13.0646907%2C%2077.49626895712257%2C%2019.0%5D%2C%20%5B38.7801076%2C%20-121.5056438%2C%2017.0%5D%2C%20%5B23.1485712%2C%2081.6048241%2C%2017.0%5D%2C%20%5B13.2923988%2C%2077.7519261%2C%2017.0%5D%2C%20%5B13.194416%2C%2078.7011301%2C%2016.0%5D%2C%20%5B22.8359967%2C%2069.3405962%2C%2015.0%5D%2C%20%5B17.2510682%2C%2080.1651978%2C%2014.0%5D%2C%20%5B39.76880625%2C%20-86.15345077251979%2C%2014.0%5D%2C%20%5B13.0215466%2C%2077.7640586%2C%208.0%5D%2C%20%5B12.9055682%2C%2077.5455438%2C%204.0%5D%2C%20%5B12.3872141%2C%2076.6669626%2C%204.0%5D%2C%20%5B13.0101286%2C%2077.5548006%2C%203.0%5D%2C%20%5B11.9917786%2C%2076.5066292%2C%203.0%5D%2C%20%5B13.0217151%2C%2077.7660547%2C%203.0%5D%2C%20%5B13.1006982%2C%2077.5963454%2C%202.0%5D%2C%20%5B12.9274413%2C%2077.5155224%2C%202.0%5D%2C%20%5B12.5607431%2C%2077.4258375%2C%202.0%5D%2C%20%5B13.0011289%2C%2077.6325617%2C%202.0%5D%2C%20%5B12.945048%2C%2077.263004%2C%202.0%5D%2C%20%5B13.007516%2C%2077.695935%2C%201.0%5D%5D%2C%0A%20%20%20%20%20%20%20%20%20%20%20%20%20%20%20%20%7B%22blur%22%3A%2015%2C%20%22maxZoom%22%3A%2018%2C%20%22minOpacity%22%3A%200.5%2C%20%22radius%22%3A%2015%2C%20%22zoom%22%3A%2020%7D%0A%20%20%20%20%20%20%20%20%20%20%20%20%29.addTo%28map_7dad0d9a14be44708067f302fa5465b6%29%3B%0A%20%20%20%20%20%20%20%20%0A%20%20%20%20%0A%20%20%20%20%20%20%20%20%20%20%20%20var%20fast_marker_cluster_ac3286ad8fa841d08992a0190f85c1e4%20%3D%20%28function%28%29%7B%0A%20%20%20%20%20%20%20%20%20%20%20%20%20%20%20%20%0A%20%20%20%20%20%20%20%20%20%20%20%20%20%20%20%20var%20callback%20%3D%20function%20%28row%29%20%7B%0A%20%20%20%20%20%20%20%20%20%20%20%20%20%20%20%20%20%20%20%20var%20icon%20%3D%20L.AwesomeMarkers.icon%28%29%3B%0A%20%20%20%20%20%20%20%20%20%20%20%20%20%20%20%20%20%20%20%20var%20marker%20%3D%20L.marker%28new%20L.LatLng%28row%5B0%5D%2C%20row%5B1%5D%29%29%3B%0A%20%20%20%20%20%20%20%20%20%20%20%20%20%20%20%20%20%20%20%20marker.setIcon%28icon%29%3B%0A%20%20%20%20%20%20%20%20%20%20%20%20%20%20%20%20%20%20%20%20return%20marker%3B%0A%20%20%20%20%20%20%20%20%20%20%20%20%20%20%20%20%7D%3B%0A%0A%20%20%20%20%20%20%20%20%20%20%20%20%20%20%20%20var%20data%20%3D%20%5B%5B13.00540865%2C%2074.79460685941484%2C%201783.0%5D%2C%20%5B45.95485055%2C%20-112.49659530324134%2C%201456.0%5D%2C%20%5B12.9732913%2C%2077.6404672%2C%201350.0%5D%2C%20%5B18.1475%2C%2041.538889%2C%201162.0%5D%2C%20%5B27.64392675%2C%2083.05280519687284%2C%201037.0%5D%2C%20%5B12.2655944%2C%2076.6465404%2C%201016.0%5D%2C%20%5B44.3730577%2C%20-71.6118577%2C%20824.0%5D%2C%20%5B13.0078418%2C%2074.7963208%2C%20725.0%5D%2C%20%5B12.9400321%2C%2077.6203272%2C%20720.0%5D%2C%20%5B12.9552572%2C%2077.6984163%2C%20683.0%5D%2C%20%5B12.93433385%2C%2077.63040639553275%2C%20644.0%5D%2C%20%5B17.9895618%2C%2079.5967057%2C%20596.0%5D%2C%20%5B40.28745%2C%20-76.964526%2C%20570.0%5D%2C%20%5B51.373656%2C%20-0.1042366%2C%20508.0%5D%2C%20%5B12.887979%2C%2077.5970812%2C%20496.0%5D%2C%20%5B12.9778793%2C%2077.6246697%2C%20477.0%5D%2C%20%5B13.0221416%2C%2077.6403368%2C%20467.0%5D%2C%20%5B14.5395813%2C%20121.070371%2C%20466.0%5D%2C%20%5B12.93577245%2C%2077.66676103753434%2C%20462.0%5D%2C%20%5B12.9242381%2C%2077.6289059%2C%20456.0%5D%2C%20%5B40.7652844%2C%20-76.373824%2C%20445.0%5D%2C%20%5B38.7385916%2C%20-77.5275749%2C%20442.0%5D%2C%20%5B15.8876779%2C%2075.7046777%2C%20387.0%5D%2C%20%5B13.0027353%2C%2077.5703253%2C%20366.0%5D%2C%20%5B50.7721586%2C%200.09772783661369303%2C%20351.0%5D%2C%20%5B31.89376%2C%20-88.066644%2C%20333.0%5D%2C%20%5B-6.2659285%2C%20106.7842561%2C%20327.0%5D%2C%20%5B33.5935063%2C%20-79.0345627%2C%20307.0%5D%2C%20%5B51.5227651%2C%20-0.7354457%2C%20304.0%5D%2C%20%5B13.0346384%2C%2077.5681733%2C%20303.0%5D%2C%20%5B12.996845%2C%2077.6130165%2C%20293.0%5D%2C%20%5B12.9417261%2C%2077.5755021%2C%20286.0%5D%2C%20%5B13.0093455%2C%2077.6377094%2C%20260.0%5D%2C%20%5B12.9624669%2C%2077.6381958%2C%20206.0%5D%2C%20%5B-8.9189606%2C%2033.4588989%2C%20202.0%5D%2C%20%5B13.0141618%2C%2077.6518539%2C%20196.0%5D%2C%20%5B12.9678074%2C%2077.6568367%2C%20174.0%5D%2C%20%5B12.9575547%2C%2077.5979099%2C%20167.0%5D%2C%20%5B12.9271867%2C%2077.6266252%2C%20162.0%5D%2C%20%5B12.9882338%2C%2077.554883%2C%20157.0%5D%2C%20%5B51.5173375%2C%20-0.073532%2C%20141.0%5D%2C%20%5B12.9417812%2C%2077.6160146%2C%20124.0%5D%2C%20%5B12.988721250000001%2C%2077.58516877601824%2C%20108.0%5D%2C%20%5B34.977289%2C%20-78.974578%2C%2095.0%5D%2C%20%5B22.3146438%2C%2073.1597756%2C%2075.0%5D%2C%20%5B12.9932739%2C%2077.5388099%2C%2071.0%5D%2C%20%5B12.9931876%2C%2077.5753419%2C%2069.0%5D%2C%20%5B18.5322493%2C%2073.8499601124847%2C%2069.0%5D%2C%20%5B13.2227%2C%2078.5541977%2C%2062.0%5D%2C%20%5B12.945245%2C%2077.6269144%2C%2059.0%5D%2C%20%5B12.9081487%2C%2077.5553179%2C%2056.0%5D%2C%20%5B12.9846713%2C%2077.6790908%2C%2048.0%5D%2C%20%5B12.9243509%2C%2077.6255562%2C%2045.0%5D%2C%20%5B12.973936%2C%2077.6509982%2C%2043.0%5D%2C%20%5B13.0358698%2C%2077.6323597%2C%2042.0%5D%2C%20%5B12.967576%2C%2077.7150877%2C%2042.0%5D%2C%20%5B12.9489339%2C%2077.5968273%2C%2041.0%5D%2C%20%5B15.8782951%2C%2074.5084834%2C%2038.0%5D%2C%20%5B13.0258087%2C%2077.6305067%2C%2034.0%5D%2C%20%5B12.9089453%2C%2077.6239038%2C%2028.0%5D%2C%20%5B12.9414662%2C%2077.7470942%2C%2027.0%5D%2C%20%5B1.2847055%2C%20103.84320655721689%2C%2027.0%5D%2C%20%5B13.02383%2C%2077.5529215%2C%2024.0%5D%2C%20%5B12.773175%2C%2077.7831871%2C%2024.0%5D%2C%20%5B12.957998%2C%2077.6037312%2C%2022.0%5D%2C%20%5B13.0227204%2C%2077.595715%2C%2022.0%5D%2C%20%5B13.0621474%2C%2077.58006135480495%2C%2020.0%5D%2C%20%5B13.0646907%2C%2077.49626895712257%2C%2019.0%5D%2C%20%5B38.7801076%2C%20-121.5056438%2C%2017.0%5D%2C%20%5B23.1485712%2C%2081.6048241%2C%2017.0%5D%2C%20%5B13.2923988%2C%2077.7519261%2C%2017.0%5D%2C%20%5B13.194416%2C%2078.7011301%2C%2016.0%5D%2C%20%5B22.8359967%2C%2069.3405962%2C%2015.0%5D%2C%20%5B17.2510682%2C%2080.1651978%2C%2014.0%5D%2C%20%5B39.76880625%2C%20-86.15345077251979%2C%2014.0%5D%2C%20%5B13.0215466%2C%2077.7640586%2C%208.0%5D%2C%20%5B12.9055682%2C%2077.5455438%2C%204.0%5D%2C%20%5B12.3872141%2C%2076.6669626%2C%204.0%5D%2C%20%5B13.0101286%2C%2077.5548006%2C%203.0%5D%2C%20%5B11.9917786%2C%2076.5066292%2C%203.0%5D%2C%20%5B13.0217151%2C%2077.7660547%2C%203.0%5D%2C%20%5B13.1006982%2C%2077.5963454%2C%202.0%5D%2C%20%5B12.9274413%2C%2077.5155224%2C%202.0%5D%2C%20%5B12.5607431%2C%2077.4258375%2C%202.0%5D%2C%20%5B13.0011289%2C%2077.6325617%2C%202.0%5D%2C%20%5B12.945048%2C%2077.263004%2C%202.0%5D%2C%20%5B13.007516%2C%2077.695935%2C%201.0%5D%5D%3B%0A%20%20%20%20%20%20%20%20%20%20%20%20%20%20%20%20var%20cluster%20%3D%20L.markerClusterGroup%28%7B%22zoom%22%3A%2020%7D%29%3B%0A%0A%20%20%20%20%20%20%20%20%20%20%20%20%20%20%20%20for%20%28var%20i%20%3D%200%3B%20i%20%3C%20data.length%3B%20i%2B%2B%29%20%7B%0A%20%20%20%20%20%20%20%20%20%20%20%20%20%20%20%20%20%20%20%20var%20row%20%3D%20data%5Bi%5D%3B%0A%20%20%20%20%20%20%20%20%20%20%20%20%20%20%20%20%20%20%20%20var%20marker%20%3D%20callback%28row%29%3B%0A%20%20%20%20%20%20%20%20%20%20%20%20%20%20%20%20%20%20%20%20marker.addTo%28cluster%29%3B%0A%20%20%20%20%20%20%20%20%20%20%20%20%20%20%20%20%7D%0A%0A%20%20%20%20%20%20%20%20%20%20%20%20%20%20%20%20cluster.addTo%28map_7dad0d9a14be44708067f302fa5465b6%29%3B%0A%20%20%20%20%20%20%20%20%20%20%20%20%20%20%20%20return%20cluster%3B%0A%20%20%20%20%20%20%20%20%20%20%20%20%7D%29%28%29%3B%0A%20%20%20%20%20%20%20%20%0A%3C/script%3E onload=\"this.contentDocument.open();this.contentDocument.write(    decodeURIComponent(this.getAttribute('data-html')));this.contentDocument.close();\" allowfullscreen webkitallowfullscreen mozallowfullscreen></iframe></div></div>"
      ],
      "text/plain": [
       "<folium.folium.Map at 0x1f817ad02b0>"
      ]
     },
     "execution_count": 43,
     "metadata": {},
     "output_type": "execute_result"
    }
   ],
   "source": [
    "basemap"
   ]
  },
  {
   "cell_type": "markdown",
   "metadata": {},
   "source": [
    "There is a high number of Zomato Restaurants in India with 67 restaurants, 11 restaurants in America,5 in United Kingdom,1 in Philippines, 1 in Singapore, 1 in Indonesia"
   ]
  },
  {
   "cell_type": "markdown",
   "metadata": {},
   "source": [
    "# Generating a HatMap of Restaurant Rating"
   ]
  },
  {
   "cell_type": "code",
   "execution_count": 44,
   "metadata": {},
   "outputs": [
    {
     "data": {
      "text/html": [
       "<div>\n",
       "<style scoped>\n",
       "    .dataframe tbody tr th:only-of-type {\n",
       "        vertical-align: middle;\n",
       "    }\n",
       "\n",
       "    .dataframe tbody tr th {\n",
       "        vertical-align: top;\n",
       "    }\n",
       "\n",
       "    .dataframe thead th {\n",
       "        text-align: right;\n",
       "    }\n",
       "</style>\n",
       "<table border=\"1\" class=\"dataframe\">\n",
       "  <thead>\n",
       "    <tr style=\"text-align: right;\">\n",
       "      <th></th>\n",
       "      <th>url</th>\n",
       "      <th>address</th>\n",
       "      <th>name</th>\n",
       "      <th>online_order</th>\n",
       "      <th>book_table</th>\n",
       "      <th>rate</th>\n",
       "      <th>votes</th>\n",
       "      <th>phone</th>\n",
       "      <th>location</th>\n",
       "      <th>rest_type</th>\n",
       "      <th>dish_liked</th>\n",
       "      <th>cuisines</th>\n",
       "      <th>approx_cost(for two people)</th>\n",
       "      <th>reviews_list</th>\n",
       "      <th>menu_item</th>\n",
       "      <th>listed_in(type)</th>\n",
       "      <th>listed_in(city)</th>\n",
       "    </tr>\n",
       "  </thead>\n",
       "  <tbody>\n",
       "    <tr>\n",
       "      <th>0</th>\n",
       "      <td>https://www.zomato.com/bangalore/jalsa-banasha...</td>\n",
       "      <td>942, 21st Main Road, 2nd Stage, Banashankari, ...</td>\n",
       "      <td>Jalsa</td>\n",
       "      <td>Yes</td>\n",
       "      <td>Yes</td>\n",
       "      <td>4.1/5</td>\n",
       "      <td>775</td>\n",
       "      <td>080 42297555\\r\\n+91 9743772233</td>\n",
       "      <td>Banashankari</td>\n",
       "      <td>Casual Dining</td>\n",
       "      <td>Pasta, Lunch Buffet, Masala Papad, Paneer Laja...</td>\n",
       "      <td>North Indian, Mughlai, Chinese</td>\n",
       "      <td>800</td>\n",
       "      <td>[('Rated 4.0', 'RATED\\n  A beautiful place to ...</td>\n",
       "      <td>[]</td>\n",
       "      <td>Buffet</td>\n",
       "      <td>Banashankari</td>\n",
       "    </tr>\n",
       "    <tr>\n",
       "      <th>1</th>\n",
       "      <td>https://www.zomato.com/bangalore/spice-elephan...</td>\n",
       "      <td>2nd Floor, 80 Feet Road, Near Big Bazaar, 6th ...</td>\n",
       "      <td>Spice Elephant</td>\n",
       "      <td>Yes</td>\n",
       "      <td>No</td>\n",
       "      <td>4.1/5</td>\n",
       "      <td>787</td>\n",
       "      <td>080 41714161</td>\n",
       "      <td>Banashankari</td>\n",
       "      <td>Casual Dining</td>\n",
       "      <td>Momos, Lunch Buffet, Chocolate Nirvana, Thai G...</td>\n",
       "      <td>Chinese, North Indian, Thai</td>\n",
       "      <td>800</td>\n",
       "      <td>[('Rated 4.0', 'RATED\\n  Had been here for din...</td>\n",
       "      <td>[]</td>\n",
       "      <td>Buffet</td>\n",
       "      <td>Banashankari</td>\n",
       "    </tr>\n",
       "    <tr>\n",
       "      <th>2</th>\n",
       "      <td>https://www.zomato.com/SanchurroBangalore?cont...</td>\n",
       "      <td>1112, Next to KIMS Medical College, 17th Cross...</td>\n",
       "      <td>San Churro Cafe</td>\n",
       "      <td>Yes</td>\n",
       "      <td>No</td>\n",
       "      <td>3.8/5</td>\n",
       "      <td>918</td>\n",
       "      <td>+91 9663487993</td>\n",
       "      <td>Banashankari</td>\n",
       "      <td>Cafe, Casual Dining</td>\n",
       "      <td>Churros, Cannelloni, Minestrone Soup, Hot Choc...</td>\n",
       "      <td>Cafe, Mexican, Italian</td>\n",
       "      <td>800</td>\n",
       "      <td>[('Rated 3.0', \"RATED\\n  Ambience is not that ...</td>\n",
       "      <td>[]</td>\n",
       "      <td>Buffet</td>\n",
       "      <td>Banashankari</td>\n",
       "    </tr>\n",
       "    <tr>\n",
       "      <th>3</th>\n",
       "      <td>https://www.zomato.com/bangalore/addhuri-udupi...</td>\n",
       "      <td>1st Floor, Annakuteera, 3rd Stage, Banashankar...</td>\n",
       "      <td>Addhuri Udupi Bhojana</td>\n",
       "      <td>No</td>\n",
       "      <td>No</td>\n",
       "      <td>3.7/5</td>\n",
       "      <td>88</td>\n",
       "      <td>+91 9620009302</td>\n",
       "      <td>Banashankari</td>\n",
       "      <td>Quick Bites</td>\n",
       "      <td>Masala Dosa</td>\n",
       "      <td>South Indian, North Indian</td>\n",
       "      <td>300</td>\n",
       "      <td>[('Rated 4.0', \"RATED\\n  Great food and proper...</td>\n",
       "      <td>[]</td>\n",
       "      <td>Buffet</td>\n",
       "      <td>Banashankari</td>\n",
       "    </tr>\n",
       "    <tr>\n",
       "      <th>4</th>\n",
       "      <td>https://www.zomato.com/bangalore/grand-village...</td>\n",
       "      <td>10, 3rd Floor, Lakshmi Associates, Gandhi Baza...</td>\n",
       "      <td>Grand Village</td>\n",
       "      <td>No</td>\n",
       "      <td>No</td>\n",
       "      <td>3.8/5</td>\n",
       "      <td>166</td>\n",
       "      <td>+91 8026612447\\r\\n+91 9901210005</td>\n",
       "      <td>Basavanagudi</td>\n",
       "      <td>Casual Dining</td>\n",
       "      <td>Panipuri, Gol Gappe</td>\n",
       "      <td>North Indian, Rajasthani</td>\n",
       "      <td>600</td>\n",
       "      <td>[('Rated 4.0', 'RATED\\n  Very good restaurant ...</td>\n",
       "      <td>[]</td>\n",
       "      <td>Buffet</td>\n",
       "      <td>Banashankari</td>\n",
       "    </tr>\n",
       "  </tbody>\n",
       "</table>\n",
       "</div>"
      ],
      "text/plain": [
       "                                                 url  \\\n",
       "0  https://www.zomato.com/bangalore/jalsa-banasha...   \n",
       "1  https://www.zomato.com/bangalore/spice-elephan...   \n",
       "2  https://www.zomato.com/SanchurroBangalore?cont...   \n",
       "3  https://www.zomato.com/bangalore/addhuri-udupi...   \n",
       "4  https://www.zomato.com/bangalore/grand-village...   \n",
       "\n",
       "                                             address                   name  \\\n",
       "0  942, 21st Main Road, 2nd Stage, Banashankari, ...                  Jalsa   \n",
       "1  2nd Floor, 80 Feet Road, Near Big Bazaar, 6th ...         Spice Elephant   \n",
       "2  1112, Next to KIMS Medical College, 17th Cross...        San Churro Cafe   \n",
       "3  1st Floor, Annakuteera, 3rd Stage, Banashankar...  Addhuri Udupi Bhojana   \n",
       "4  10, 3rd Floor, Lakshmi Associates, Gandhi Baza...          Grand Village   \n",
       "\n",
       "  online_order book_table   rate  votes                             phone  \\\n",
       "0          Yes        Yes  4.1/5    775    080 42297555\\r\\n+91 9743772233   \n",
       "1          Yes         No  4.1/5    787                      080 41714161   \n",
       "2          Yes         No  3.8/5    918                    +91 9663487993   \n",
       "3           No         No  3.7/5     88                    +91 9620009302   \n",
       "4           No         No  3.8/5    166  +91 8026612447\\r\\n+91 9901210005   \n",
       "\n",
       "       location            rest_type  \\\n",
       "0  Banashankari        Casual Dining   \n",
       "1  Banashankari        Casual Dining   \n",
       "2  Banashankari  Cafe, Casual Dining   \n",
       "3  Banashankari          Quick Bites   \n",
       "4  Basavanagudi        Casual Dining   \n",
       "\n",
       "                                          dish_liked  \\\n",
       "0  Pasta, Lunch Buffet, Masala Papad, Paneer Laja...   \n",
       "1  Momos, Lunch Buffet, Chocolate Nirvana, Thai G...   \n",
       "2  Churros, Cannelloni, Minestrone Soup, Hot Choc...   \n",
       "3                                        Masala Dosa   \n",
       "4                                Panipuri, Gol Gappe   \n",
       "\n",
       "                         cuisines approx_cost(for two people)  \\\n",
       "0  North Indian, Mughlai, Chinese                         800   \n",
       "1     Chinese, North Indian, Thai                         800   \n",
       "2          Cafe, Mexican, Italian                         800   \n",
       "3      South Indian, North Indian                         300   \n",
       "4        North Indian, Rajasthani                         600   \n",
       "\n",
       "                                        reviews_list menu_item  \\\n",
       "0  [('Rated 4.0', 'RATED\\n  A beautiful place to ...        []   \n",
       "1  [('Rated 4.0', 'RATED\\n  Had been here for din...        []   \n",
       "2  [('Rated 3.0', \"RATED\\n  Ambience is not that ...        []   \n",
       "3  [('Rated 4.0', \"RATED\\n  Great food and proper...        []   \n",
       "4  [('Rated 4.0', 'RATED\\n  Very good restaurant ...        []   \n",
       "\n",
       "  listed_in(type) listed_in(city)  \n",
       "0          Buffet    Banashankari  \n",
       "1          Buffet    Banashankari  \n",
       "2          Buffet    Banashankari  \n",
       "3          Buffet    Banashankari  \n",
       "4          Buffet    Banashankari  "
      ]
     },
     "execution_count": 44,
     "metadata": {},
     "output_type": "execute_result"
    }
   ],
   "source": [
    "df.head()"
   ]
  },
  {
   "cell_type": "code",
   "execution_count": 45,
   "metadata": {},
   "outputs": [
    {
     "data": {
      "text/plain": [
       "88"
      ]
     },
     "execution_count": 45,
     "metadata": {},
     "output_type": "execute_result"
    }
   ],
   "source": [
    "len(df['location'].unique())"
   ]
  },
  {
   "cell_type": "code",
   "execution_count": 46,
   "metadata": {},
   "outputs": [
    {
     "data": {
      "text/plain": [
       "array(['4.1/5', '3.8/5', '3.7/5', '4.6/5', '4.0/5', '4.2/5', '3.9/5',\n",
       "       '3.0/5', '3.6/5', '2.8/5', '4.4/5', '3.1/5', '4.3/5', '2.6/5',\n",
       "       '3.3/5', '3.5/5', '3.8 /5', '3.2/5', '4.5/5', '2.5/5', '2.9/5',\n",
       "       '3.4/5', '2.7/5', '4.7/5', 'NEW', '2.4/5', '2.2/5', '2.3/5',\n",
       "       '4.8/5', '3.9 /5', '4.2 /5', '4.0 /5', '4.1 /5', '2.9 /5',\n",
       "       '2.7 /5', '2.5 /5', '2.6 /5', '4.5 /5', '4.3 /5', '3.7 /5',\n",
       "       '4.4 /5', '4.9/5', '2.1/5', '2.0/5', '1.8/5', '3.4 /5', '3.6 /5',\n",
       "       '3.3 /5', '4.6 /5', '4.9 /5', '3.2 /5', '3.0 /5', '2.8 /5',\n",
       "       '3.5 /5', '3.1 /5', '4.8 /5', '2.3 /5', '4.7 /5', '2.4 /5',\n",
       "       '2.1 /5', '2.2 /5', '2.0 /5', '1.8 /5'], dtype=object)"
      ]
     },
     "execution_count": 46,
     "metadata": {},
     "output_type": "execute_result"
    }
   ],
   "source": [
    "df['rate'].unique()"
   ]
  },
  {
   "cell_type": "code",
   "execution_count": 47,
   "metadata": {},
   "outputs": [],
   "source": [
    "df.dropna(axis=0,subset=['rate'],inplace=True)"
   ]
  },
  {
   "cell_type": "code",
   "execution_count": 48,
   "metadata": {},
   "outputs": [
    {
     "data": {
      "text/plain": [
       "array(['4.1/5', '3.8/5', '3.7/5', '4.6/5', '4.0/5', '4.2/5', '3.9/5',\n",
       "       '3.0/5', '3.6/5', '2.8/5', '4.4/5', '3.1/5', '4.3/5', '2.6/5',\n",
       "       '3.3/5', '3.5/5', '3.8 /5', '3.2/5', '4.5/5', '2.5/5', '2.9/5',\n",
       "       '3.4/5', '2.7/5', '4.7/5', 'NEW', '2.4/5', '2.2/5', '2.3/5',\n",
       "       '4.8/5', '3.9 /5', '4.2 /5', '4.0 /5', '4.1 /5', '2.9 /5',\n",
       "       '2.7 /5', '2.5 /5', '2.6 /5', '4.5 /5', '4.3 /5', '3.7 /5',\n",
       "       '4.4 /5', '4.9/5', '2.1/5', '2.0/5', '1.8/5', '3.4 /5', '3.6 /5',\n",
       "       '3.3 /5', '4.6 /5', '4.9 /5', '3.2 /5', '3.0 /5', '2.8 /5',\n",
       "       '3.5 /5', '3.1 /5', '4.8 /5', '2.3 /5', '4.7 /5', '2.4 /5',\n",
       "       '2.1 /5', '2.2 /5', '2.0 /5', '1.8 /5'], dtype=object)"
      ]
     },
     "execution_count": 48,
     "metadata": {},
     "output_type": "execute_result"
    }
   ],
   "source": [
    "df['rate'].unique()"
   ]
  },
  {
   "cell_type": "code",
   "execution_count": 49,
   "metadata": {},
   "outputs": [],
   "source": [
    "#splitting the rates\n",
    "def split(x):\n",
    "    return x.split('/')[0]\n",
    "df['rating']=df['rate'].apply(split)"
   ]
  },
  {
   "cell_type": "code",
   "execution_count": null,
   "metadata": {},
   "outputs": [],
   "source": []
  },
  {
   "cell_type": "code",
   "execution_count": 50,
   "metadata": {},
   "outputs": [
    {
     "data": {
      "text/plain": [
       "array(['4.1', '3.8', '3.7', '4.6', '4.0', '4.2', '3.9', '3.0', '3.6',\n",
       "       '2.8', '4.4', '3.1', '4.3', '2.6', '3.3', '3.5', '3.8 ', '3.2',\n",
       "       '4.5', '2.5', '2.9', '3.4', '2.7', '4.7', 'NEW', '2.4', '2.2',\n",
       "       '2.3', '4.8', '3.9 ', '4.2 ', '4.0 ', '4.1 ', '2.9 ', '2.7 ',\n",
       "       '2.5 ', '2.6 ', '4.5 ', '4.3 ', '3.7 ', '4.4 ', '4.9', '2.1',\n",
       "       '2.0', '1.8', '3.4 ', '3.6 ', '3.3 ', '4.6 ', '4.9 ', '3.2 ',\n",
       "       '3.0 ', '2.8 ', '3.5 ', '3.1 ', '4.8 ', '2.3 ', '4.7 ', '2.4 ',\n",
       "       '2.1 ', '2.2 ', '2.0 ', '1.8 '], dtype=object)"
      ]
     },
     "execution_count": 50,
     "metadata": {},
     "output_type": "execute_result"
    }
   ],
   "source": [
    "df['rating'].unique()"
   ]
  },
  {
   "cell_type": "code",
   "execution_count": 51,
   "metadata": {},
   "outputs": [],
   "source": [
    "df.replace('NEW',0,inplace=True)"
   ]
  },
  {
   "cell_type": "code",
   "execution_count": 52,
   "metadata": {},
   "outputs": [],
   "source": [
    "df.replace('-',0,inplace=True)"
   ]
  },
  {
   "cell_type": "code",
   "execution_count": 53,
   "metadata": {},
   "outputs": [
    {
     "data": {
      "text/html": [
       "<div>\n",
       "<style scoped>\n",
       "    .dataframe tbody tr th:only-of-type {\n",
       "        vertical-align: middle;\n",
       "    }\n",
       "\n",
       "    .dataframe tbody tr th {\n",
       "        vertical-align: top;\n",
       "    }\n",
       "\n",
       "    .dataframe thead th {\n",
       "        text-align: right;\n",
       "    }\n",
       "</style>\n",
       "<table border=\"1\" class=\"dataframe\">\n",
       "  <thead>\n",
       "    <tr style=\"text-align: right;\">\n",
       "      <th></th>\n",
       "      <th>url</th>\n",
       "      <th>address</th>\n",
       "      <th>name</th>\n",
       "      <th>online_order</th>\n",
       "      <th>book_table</th>\n",
       "      <th>rate</th>\n",
       "      <th>votes</th>\n",
       "      <th>phone</th>\n",
       "      <th>location</th>\n",
       "      <th>rest_type</th>\n",
       "      <th>dish_liked</th>\n",
       "      <th>cuisines</th>\n",
       "      <th>approx_cost(for two people)</th>\n",
       "      <th>reviews_list</th>\n",
       "      <th>menu_item</th>\n",
       "      <th>listed_in(type)</th>\n",
       "      <th>listed_in(city)</th>\n",
       "      <th>rating</th>\n",
       "    </tr>\n",
       "  </thead>\n",
       "  <tbody>\n",
       "    <tr>\n",
       "      <th>0</th>\n",
       "      <td>https://www.zomato.com/bangalore/jalsa-banasha...</td>\n",
       "      <td>942, 21st Main Road, 2nd Stage, Banashankari, ...</td>\n",
       "      <td>Jalsa</td>\n",
       "      <td>Yes</td>\n",
       "      <td>Yes</td>\n",
       "      <td>4.1/5</td>\n",
       "      <td>775</td>\n",
       "      <td>080 42297555\\r\\n+91 9743772233</td>\n",
       "      <td>Banashankari</td>\n",
       "      <td>Casual Dining</td>\n",
       "      <td>Pasta, Lunch Buffet, Masala Papad, Paneer Laja...</td>\n",
       "      <td>North Indian, Mughlai, Chinese</td>\n",
       "      <td>800</td>\n",
       "      <td>[('Rated 4.0', 'RATED\\n  A beautiful place to ...</td>\n",
       "      <td>[]</td>\n",
       "      <td>Buffet</td>\n",
       "      <td>Banashankari</td>\n",
       "      <td>4.1</td>\n",
       "    </tr>\n",
       "    <tr>\n",
       "      <th>1</th>\n",
       "      <td>https://www.zomato.com/bangalore/spice-elephan...</td>\n",
       "      <td>2nd Floor, 80 Feet Road, Near Big Bazaar, 6th ...</td>\n",
       "      <td>Spice Elephant</td>\n",
       "      <td>Yes</td>\n",
       "      <td>No</td>\n",
       "      <td>4.1/5</td>\n",
       "      <td>787</td>\n",
       "      <td>080 41714161</td>\n",
       "      <td>Banashankari</td>\n",
       "      <td>Casual Dining</td>\n",
       "      <td>Momos, Lunch Buffet, Chocolate Nirvana, Thai G...</td>\n",
       "      <td>Chinese, North Indian, Thai</td>\n",
       "      <td>800</td>\n",
       "      <td>[('Rated 4.0', 'RATED\\n  Had been here for din...</td>\n",
       "      <td>[]</td>\n",
       "      <td>Buffet</td>\n",
       "      <td>Banashankari</td>\n",
       "      <td>4.1</td>\n",
       "    </tr>\n",
       "    <tr>\n",
       "      <th>2</th>\n",
       "      <td>https://www.zomato.com/SanchurroBangalore?cont...</td>\n",
       "      <td>1112, Next to KIMS Medical College, 17th Cross...</td>\n",
       "      <td>San Churro Cafe</td>\n",
       "      <td>Yes</td>\n",
       "      <td>No</td>\n",
       "      <td>3.8/5</td>\n",
       "      <td>918</td>\n",
       "      <td>+91 9663487993</td>\n",
       "      <td>Banashankari</td>\n",
       "      <td>Cafe, Casual Dining</td>\n",
       "      <td>Churros, Cannelloni, Minestrone Soup, Hot Choc...</td>\n",
       "      <td>Cafe, Mexican, Italian</td>\n",
       "      <td>800</td>\n",
       "      <td>[('Rated 3.0', \"RATED\\n  Ambience is not that ...</td>\n",
       "      <td>[]</td>\n",
       "      <td>Buffet</td>\n",
       "      <td>Banashankari</td>\n",
       "      <td>3.8</td>\n",
       "    </tr>\n",
       "    <tr>\n",
       "      <th>3</th>\n",
       "      <td>https://www.zomato.com/bangalore/addhuri-udupi...</td>\n",
       "      <td>1st Floor, Annakuteera, 3rd Stage, Banashankar...</td>\n",
       "      <td>Addhuri Udupi Bhojana</td>\n",
       "      <td>No</td>\n",
       "      <td>No</td>\n",
       "      <td>3.7/5</td>\n",
       "      <td>88</td>\n",
       "      <td>+91 9620009302</td>\n",
       "      <td>Banashankari</td>\n",
       "      <td>Quick Bites</td>\n",
       "      <td>Masala Dosa</td>\n",
       "      <td>South Indian, North Indian</td>\n",
       "      <td>300</td>\n",
       "      <td>[('Rated 4.0', \"RATED\\n  Great food and proper...</td>\n",
       "      <td>[]</td>\n",
       "      <td>Buffet</td>\n",
       "      <td>Banashankari</td>\n",
       "      <td>3.7</td>\n",
       "    </tr>\n",
       "    <tr>\n",
       "      <th>4</th>\n",
       "      <td>https://www.zomato.com/bangalore/grand-village...</td>\n",
       "      <td>10, 3rd Floor, Lakshmi Associates, Gandhi Baza...</td>\n",
       "      <td>Grand Village</td>\n",
       "      <td>No</td>\n",
       "      <td>No</td>\n",
       "      <td>3.8/5</td>\n",
       "      <td>166</td>\n",
       "      <td>+91 8026612447\\r\\n+91 9901210005</td>\n",
       "      <td>Basavanagudi</td>\n",
       "      <td>Casual Dining</td>\n",
       "      <td>Panipuri, Gol Gappe</td>\n",
       "      <td>North Indian, Rajasthani</td>\n",
       "      <td>600</td>\n",
       "      <td>[('Rated 4.0', 'RATED\\n  Very good restaurant ...</td>\n",
       "      <td>[]</td>\n",
       "      <td>Buffet</td>\n",
       "      <td>Banashankari</td>\n",
       "      <td>3.8</td>\n",
       "    </tr>\n",
       "  </tbody>\n",
       "</table>\n",
       "</div>"
      ],
      "text/plain": [
       "                                                 url  \\\n",
       "0  https://www.zomato.com/bangalore/jalsa-banasha...   \n",
       "1  https://www.zomato.com/bangalore/spice-elephan...   \n",
       "2  https://www.zomato.com/SanchurroBangalore?cont...   \n",
       "3  https://www.zomato.com/bangalore/addhuri-udupi...   \n",
       "4  https://www.zomato.com/bangalore/grand-village...   \n",
       "\n",
       "                                             address                   name  \\\n",
       "0  942, 21st Main Road, 2nd Stage, Banashankari, ...                  Jalsa   \n",
       "1  2nd Floor, 80 Feet Road, Near Big Bazaar, 6th ...         Spice Elephant   \n",
       "2  1112, Next to KIMS Medical College, 17th Cross...        San Churro Cafe   \n",
       "3  1st Floor, Annakuteera, 3rd Stage, Banashankar...  Addhuri Udupi Bhojana   \n",
       "4  10, 3rd Floor, Lakshmi Associates, Gandhi Baza...          Grand Village   \n",
       "\n",
       "  online_order book_table   rate  votes                             phone  \\\n",
       "0          Yes        Yes  4.1/5    775    080 42297555\\r\\n+91 9743772233   \n",
       "1          Yes         No  4.1/5    787                      080 41714161   \n",
       "2          Yes         No  3.8/5    918                    +91 9663487993   \n",
       "3           No         No  3.7/5     88                    +91 9620009302   \n",
       "4           No         No  3.8/5    166  +91 8026612447\\r\\n+91 9901210005   \n",
       "\n",
       "       location            rest_type  \\\n",
       "0  Banashankari        Casual Dining   \n",
       "1  Banashankari        Casual Dining   \n",
       "2  Banashankari  Cafe, Casual Dining   \n",
       "3  Banashankari          Quick Bites   \n",
       "4  Basavanagudi        Casual Dining   \n",
       "\n",
       "                                          dish_liked  \\\n",
       "0  Pasta, Lunch Buffet, Masala Papad, Paneer Laja...   \n",
       "1  Momos, Lunch Buffet, Chocolate Nirvana, Thai G...   \n",
       "2  Churros, Cannelloni, Minestrone Soup, Hot Choc...   \n",
       "3                                        Masala Dosa   \n",
       "4                                Panipuri, Gol Gappe   \n",
       "\n",
       "                         cuisines approx_cost(for two people)  \\\n",
       "0  North Indian, Mughlai, Chinese                         800   \n",
       "1     Chinese, North Indian, Thai                         800   \n",
       "2          Cafe, Mexican, Italian                         800   \n",
       "3      South Indian, North Indian                         300   \n",
       "4        North Indian, Rajasthani                         600   \n",
       "\n",
       "                                        reviews_list menu_item  \\\n",
       "0  [('Rated 4.0', 'RATED\\n  A beautiful place to ...        []   \n",
       "1  [('Rated 4.0', 'RATED\\n  Had been here for din...        []   \n",
       "2  [('Rated 3.0', \"RATED\\n  Ambience is not that ...        []   \n",
       "3  [('Rated 4.0', \"RATED\\n  Great food and proper...        []   \n",
       "4  [('Rated 4.0', 'RATED\\n  Very good restaurant ...        []   \n",
       "\n",
       "  listed_in(type) listed_in(city) rating  \n",
       "0          Buffet    Banashankari    4.1  \n",
       "1          Buffet    Banashankari    4.1  \n",
       "2          Buffet    Banashankari    3.8  \n",
       "3          Buffet    Banashankari    3.7  \n",
       "4          Buffet    Banashankari    3.8  "
      ]
     },
     "execution_count": 53,
     "metadata": {},
     "output_type": "execute_result"
    }
   ],
   "source": [
    "df.head()"
   ]
  },
  {
   "cell_type": "code",
   "execution_count": 54,
   "metadata": {},
   "outputs": [
    {
     "data": {
      "text/plain": [
       "url                            object\n",
       "address                        object\n",
       "name                           object\n",
       "online_order                   object\n",
       "book_table                     object\n",
       "rate                           object\n",
       "votes                           int64\n",
       "phone                          object\n",
       "location                       object\n",
       "rest_type                      object\n",
       "dish_liked                     object\n",
       "cuisines                       object\n",
       "approx_cost(for two people)    object\n",
       "reviews_list                   object\n",
       "menu_item                      object\n",
       "listed_in(type)                object\n",
       "listed_in(city)                object\n",
       "rating                         object\n",
       "dtype: object"
      ]
     },
     "execution_count": 54,
     "metadata": {},
     "output_type": "execute_result"
    }
   ],
   "source": [
    "df.dtypes"
   ]
  },
  {
   "cell_type": "code",
   "execution_count": 55,
   "metadata": {},
   "outputs": [],
   "source": [
    "df['rating']=pd.to_numeric(df['rating'])"
   ]
  },
  {
   "cell_type": "code",
   "execution_count": 56,
   "metadata": {},
   "outputs": [
    {
     "data": {
      "text/plain": [
       "dtype('float64')"
      ]
     },
     "execution_count": 56,
     "metadata": {},
     "output_type": "execute_result"
    }
   ],
   "source": [
    "df['rating'].dtype"
   ]
  },
  {
   "cell_type": "code",
   "execution_count": 57,
   "metadata": {},
   "outputs": [
    {
     "data": {
      "text/plain": [
       "location\n",
       "Lavelle Road             4.193034\n",
       "Sankey Road              4.105882\n",
       "Koramangala 3rd Block    4.100617\n",
       "Cunningham Road          4.100300\n",
       "St. Marks Road           4.099013\n",
       "                           ...   \n",
       "Kanakapura Road          3.400000\n",
       "South Bangalore          3.384211\n",
       "West Bangalore           3.300000\n",
       "Old Madras Road          3.137500\n",
       "Bommanahalli             3.135714\n",
       "Name: rating, Length: 88, dtype: float64"
      ]
     },
     "execution_count": 57,
     "metadata": {},
     "output_type": "execute_result"
    }
   ],
   "source": [
    "df.groupby(['location'])['rating'].mean().sort_values(ascending=False)"
   ]
  },
  {
   "cell_type": "code",
   "execution_count": 58,
   "metadata": {},
   "outputs": [
    {
     "data": {
      "text/plain": [
       "array([3.73152473, 3.81343669, 3.6372449 , 3.68225806, 3.83671329,\n",
       "       3.82394366, 3.66060606, 3.13571429, 3.93263158, 3.69934853,\n",
       "       3.62857143, 3.6       , 4.04606299, 3.92857143, 3.6929078 ,\n",
       "       4.1003003 , 3.68640777, 3.5125    , 3.74745763, 3.6293578 ,\n",
       "       3.79658703, 3.94285714, 3.81566265, 3.95294118, 3.98333333,\n",
       "       3.64761905, 3.91555556, 3.88842105, 3.74931102, 3.63333333,\n",
       "       3.90848602, 3.68390805, 3.6       , 3.56458333, 3.91884368,\n",
       "       3.835     , 3.4       , 4.01176471, 3.8748927 , 4.07333333,\n",
       "       4.10061728, 3.96878882, 4.09814919, 3.94736111, 3.94496552,\n",
       "       3.89758065, 3.62321429, 3.9       , 4.19303371, 3.91124161,\n",
       "       3.9       , 3.88888889, 3.96612022, 3.72547584, 3.75      ,\n",
       "       3.66774194, 3.85709571, 3.6       , 3.81188119, 3.1375    ,\n",
       "       3.61363636, 3.98666667, 3.8611465 , 3.85      , 3.43333333,\n",
       "       4.05158371, 4.02905983, 4.05526316, 3.775     , 3.9       ,\n",
       "       4.10588235, 3.86162281, 4.03188406, 3.66047904, 3.90144928,\n",
       "       3.38421053, 4.09901316, 3.82093023, 3.98784067, 3.575     ,\n",
       "       3.65555556, 3.95      , 3.84      , 3.3       , 3.80424757,\n",
       "       3.81707317, 3.9       , 3.775     ])"
      ]
     },
     "execution_count": 58,
     "metadata": {},
     "output_type": "execute_result"
    }
   ],
   "source": [
    "#getting the average rating of the restaurant per location\n",
    "df.groupby(['location'])['rating'].mean()\n",
    "avg_rating=df.groupby(['location'])['rating'].mean().values\n",
    "avg_rating"
   ]
  },
  {
   "cell_type": "code",
   "execution_count": null,
   "metadata": {},
   "outputs": [],
   "source": []
  },
  {
   "cell_type": "code",
   "execution_count": null,
   "metadata": {},
   "outputs": [],
   "source": []
  },
  {
   "cell_type": "code",
   "execution_count": 59,
   "metadata": {},
   "outputs": [
    {
     "data": {
      "text/plain": [
       "Index(['BTM', 'Banashankari', 'Banaswadi', 'Bannerghatta Road', 'Basavanagudi',\n",
       "       'Basaveshwara Nagar', 'Bellandur', 'Bommanahalli', 'Brigade Road',\n",
       "       'Brookefield', 'CV Raman Nagar', 'Central Bangalore', 'Church Street',\n",
       "       'City Market', 'Commercial Street', 'Cunningham Road', 'Domlur',\n",
       "       'East Bangalore', 'Ejipura', 'Electronic City', 'Frazer Town',\n",
       "       'HBR Layout', 'HSR', 'Hennur', 'Hosur Road',\n",
       "       'ITPL Main Road, Whitefield', 'Indiranagar', 'Infantry Road',\n",
       "       'JP Nagar', 'Jalahalli', 'Jayanagar', 'Jeevan Bhima Nagar', 'KR Puram',\n",
       "       'Kaggadasapura', 'Kalyan Nagar', 'Kammanahalli', 'Kanakapura Road',\n",
       "       'Koramangala', 'Koramangala 1st Block', 'Koramangala 2nd Block',\n",
       "       'Koramangala 3rd Block', 'Koramangala 4th Block',\n",
       "       'Koramangala 5th Block', 'Koramangala 6th Block',\n",
       "       'Koramangala 7th Block', 'Koramangala 8th Block', 'Kumaraswamy Layout',\n",
       "       'Langford Town', 'Lavelle Road', 'MG Road', 'Magadi Road', 'Majestic',\n",
       "       'Malleshwaram', 'Marathahalli', 'Mysore Road', 'Nagawara',\n",
       "       'New BEL Road', 'North Bangalore', 'Old Airport Road',\n",
       "       'Old Madras Road', 'RT Nagar', 'Race Course Road', 'Rajajinagar',\n",
       "       'Rajarajeshwari Nagar', 'Rammurthy Nagar', 'Residency Road',\n",
       "       'Richmond Road', 'Sadashiv Nagar', 'Sahakara Nagar', 'Sanjay Nagar',\n",
       "       'Sankey Road', 'Sarjapur Road', 'Seshadripuram', 'Shanti Nagar',\n",
       "       'Shivajinagar', 'South Bangalore', 'St. Marks Road', 'Thippasandra',\n",
       "       'Ulsoor', 'Uttarahalli', 'Varthur Main Road, Whitefield',\n",
       "       'Vasanth Nagar', 'Vijay Nagar', 'West Bangalore', 'Whitefield',\n",
       "       'Wilson Garden', 'Yelahanka', 'Yeshwantpur'],\n",
       "      dtype='object', name='location')"
      ]
     },
     "execution_count": 59,
     "metadata": {},
     "output_type": "execute_result"
    }
   ],
   "source": [
    "#getting the location of restaurants \n",
    "loc=df.groupby(['location'])['rating'].mean().index\n",
    "loc"
   ]
  },
  {
   "cell_type": "code",
   "execution_count": 60,
   "metadata": {},
   "outputs": [],
   "source": [
    "#extracting latitudes and longitudes for the location of the restaurants with above average rating\n",
    "from geopy.geocoders import Nominatim\n",
    "geolocator=Nominatim(user_agent=\"app\")\n",
    "\n",
    "lat=[]\n",
    "lon=[]\n",
    "for location in loc:\n",
    "    location = geolocator.geocode(location)    \n",
    "    if location is None:\n",
    "        lat.append(np.nan)\n",
    "        lon.append(np.nan)\n",
    "    else:\n",
    "        lat.append(location.latitude)\n",
    "        lon.append(location.longitude)"
   ]
  },
  {
   "cell_type": "code",
   "execution_count": null,
   "metadata": {},
   "outputs": [],
   "source": []
  },
  {
   "cell_type": "code",
   "execution_count": 61,
   "metadata": {},
   "outputs": [],
   "source": [
    "rating=pd.DataFrame()"
   ]
  },
  {
   "cell_type": "code",
   "execution_count": 62,
   "metadata": {},
   "outputs": [],
   "source": [
    "rating['location']=loc\n",
    "rating['lat']=lat\n",
    "rating['lon']=lon\n",
    "rating['avg_rating']=avg_rating"
   ]
  },
  {
   "cell_type": "code",
   "execution_count": 63,
   "metadata": {},
   "outputs": [
    {
     "data": {
      "text/html": [
       "<div>\n",
       "<style scoped>\n",
       "    .dataframe tbody tr th:only-of-type {\n",
       "        vertical-align: middle;\n",
       "    }\n",
       "\n",
       "    .dataframe tbody tr th {\n",
       "        vertical-align: top;\n",
       "    }\n",
       "\n",
       "    .dataframe thead th {\n",
       "        text-align: right;\n",
       "    }\n",
       "</style>\n",
       "<table border=\"1\" class=\"dataframe\">\n",
       "  <thead>\n",
       "    <tr style=\"text-align: right;\">\n",
       "      <th></th>\n",
       "      <th>location</th>\n",
       "      <th>lat</th>\n",
       "      <th>lon</th>\n",
       "      <th>avg_rating</th>\n",
       "    </tr>\n",
       "  </thead>\n",
       "  <tbody>\n",
       "    <tr>\n",
       "      <th>0</th>\n",
       "      <td>BTM</td>\n",
       "      <td>45.954851</td>\n",
       "      <td>-112.496595</td>\n",
       "      <td>3.731525</td>\n",
       "    </tr>\n",
       "    <tr>\n",
       "      <th>1</th>\n",
       "      <td>Banashankari</td>\n",
       "      <td>15.887678</td>\n",
       "      <td>75.704678</td>\n",
       "      <td>3.813437</td>\n",
       "    </tr>\n",
       "    <tr>\n",
       "      <th>2</th>\n",
       "      <td>Banaswadi</td>\n",
       "      <td>13.014162</td>\n",
       "      <td>77.651854</td>\n",
       "      <td>3.637245</td>\n",
       "    </tr>\n",
       "    <tr>\n",
       "      <th>3</th>\n",
       "      <td>Bannerghatta Road</td>\n",
       "      <td>12.887979</td>\n",
       "      <td>77.597081</td>\n",
       "      <td>3.682258</td>\n",
       "    </tr>\n",
       "    <tr>\n",
       "      <th>4</th>\n",
       "      <td>Basavanagudi</td>\n",
       "      <td>12.941726</td>\n",
       "      <td>77.575502</td>\n",
       "      <td>3.836713</td>\n",
       "    </tr>\n",
       "  </tbody>\n",
       "</table>\n",
       "</div>"
      ],
      "text/plain": [
       "            location        lat         lon  avg_rating\n",
       "0                BTM  45.954851 -112.496595    3.731525\n",
       "1       Banashankari  15.887678   75.704678    3.813437\n",
       "2          Banaswadi  13.014162   77.651854    3.637245\n",
       "3  Bannerghatta Road  12.887979   77.597081    3.682258\n",
       "4       Basavanagudi  12.941726   77.575502    3.836713"
      ]
     },
     "execution_count": 63,
     "metadata": {},
     "output_type": "execute_result"
    }
   ],
   "source": [
    "rating.head()"
   ]
  },
  {
   "cell_type": "code",
   "execution_count": 64,
   "metadata": {},
   "outputs": [
    {
     "data": {
      "text/plain": [
       "location      0\n",
       "lat           1\n",
       "lon           1\n",
       "avg_rating    0\n",
       "dtype: int64"
      ]
     },
     "execution_count": 64,
     "metadata": {},
     "output_type": "execute_result"
    }
   ],
   "source": [
    "rating.isna().sum()"
   ]
  },
  {
   "cell_type": "code",
   "execution_count": 65,
   "metadata": {},
   "outputs": [],
   "source": [
    "rating=rating.dropna()"
   ]
  },
  {
   "cell_type": "code",
   "execution_count": 66,
   "metadata": {},
   "outputs": [
    {
     "data": {
      "text/html": [
       "<div style=\"width:100%;\"><div style=\"position:relative;width:100%;height:0;padding-bottom:60%;\"><span style=\"color:#565656\">Make this Notebook Trusted to load map: File -> Trust Notebook</span><iframe src=\"about:blank\" style=\"position:absolute;width:100%;height:100%;left:0;top:0;border:none !important;\" data-html=%3C%21DOCTYPE%20html%3E%0A%3Chead%3E%20%20%20%20%0A%20%20%20%20%3Cmeta%20http-equiv%3D%22content-type%22%20content%3D%22text/html%3B%20charset%3DUTF-8%22%20/%3E%0A%20%20%20%20%0A%20%20%20%20%20%20%20%20%3Cscript%3E%0A%20%20%20%20%20%20%20%20%20%20%20%20L_NO_TOUCH%20%3D%20false%3B%0A%20%20%20%20%20%20%20%20%20%20%20%20L_DISABLE_3D%20%3D%20false%3B%0A%20%20%20%20%20%20%20%20%3C/script%3E%0A%20%20%20%20%0A%20%20%20%20%3Cstyle%3Ehtml%2C%20body%20%7Bwidth%3A%20100%25%3Bheight%3A%20100%25%3Bmargin%3A%200%3Bpadding%3A%200%3B%7D%3C/style%3E%0A%20%20%20%20%3Cstyle%3E%23map%20%7Bposition%3Aabsolute%3Btop%3A0%3Bbottom%3A0%3Bright%3A0%3Bleft%3A0%3B%7D%3C/style%3E%0A%20%20%20%20%3Cscript%20src%3D%22https%3A//cdn.jsdelivr.net/npm/leaflet%401.6.0/dist/leaflet.js%22%3E%3C/script%3E%0A%20%20%20%20%3Cscript%20src%3D%22https%3A//code.jquery.com/jquery-1.12.4.min.js%22%3E%3C/script%3E%0A%20%20%20%20%3Cscript%20src%3D%22https%3A//maxcdn.bootstrapcdn.com/bootstrap/3.2.0/js/bootstrap.min.js%22%3E%3C/script%3E%0A%20%20%20%20%3Cscript%20src%3D%22https%3A//cdnjs.cloudflare.com/ajax/libs/Leaflet.awesome-markers/2.0.2/leaflet.awesome-markers.js%22%3E%3C/script%3E%0A%20%20%20%20%3Clink%20rel%3D%22stylesheet%22%20href%3D%22https%3A//cdn.jsdelivr.net/npm/leaflet%401.6.0/dist/leaflet.css%22/%3E%0A%20%20%20%20%3Clink%20rel%3D%22stylesheet%22%20href%3D%22https%3A//maxcdn.bootstrapcdn.com/bootstrap/3.2.0/css/bootstrap.min.css%22/%3E%0A%20%20%20%20%3Clink%20rel%3D%22stylesheet%22%20href%3D%22https%3A//maxcdn.bootstrapcdn.com/bootstrap/3.2.0/css/bootstrap-theme.min.css%22/%3E%0A%20%20%20%20%3Clink%20rel%3D%22stylesheet%22%20href%3D%22https%3A//maxcdn.bootstrapcdn.com/font-awesome/4.6.3/css/font-awesome.min.css%22/%3E%0A%20%20%20%20%3Clink%20rel%3D%22stylesheet%22%20href%3D%22https%3A//cdnjs.cloudflare.com/ajax/libs/Leaflet.awesome-markers/2.0.2/leaflet.awesome-markers.css%22/%3E%0A%20%20%20%20%3Clink%20rel%3D%22stylesheet%22%20href%3D%22https%3A//cdn.jsdelivr.net/gh/python-visualization/folium/folium/templates/leaflet.awesome.rotate.min.css%22/%3E%0A%20%20%20%20%0A%20%20%20%20%20%20%20%20%20%20%20%20%3Cmeta%20name%3D%22viewport%22%20content%3D%22width%3Ddevice-width%2C%0A%20%20%20%20%20%20%20%20%20%20%20%20%20%20%20%20initial-scale%3D1.0%2C%20maximum-scale%3D1.0%2C%20user-scalable%3Dno%22%20/%3E%0A%20%20%20%20%20%20%20%20%20%20%20%20%3Cstyle%3E%0A%20%20%20%20%20%20%20%20%20%20%20%20%20%20%20%20%23map_7dad0d9a14be44708067f302fa5465b6%20%7B%0A%20%20%20%20%20%20%20%20%20%20%20%20%20%20%20%20%20%20%20%20position%3A%20relative%3B%0A%20%20%20%20%20%20%20%20%20%20%20%20%20%20%20%20%20%20%20%20width%3A%20100.0%25%3B%0A%20%20%20%20%20%20%20%20%20%20%20%20%20%20%20%20%20%20%20%20height%3A%20100.0%25%3B%0A%20%20%20%20%20%20%20%20%20%20%20%20%20%20%20%20%20%20%20%20left%3A%200.0%25%3B%0A%20%20%20%20%20%20%20%20%20%20%20%20%20%20%20%20%20%20%20%20top%3A%200.0%25%3B%0A%20%20%20%20%20%20%20%20%20%20%20%20%20%20%20%20%7D%0A%20%20%20%20%20%20%20%20%20%20%20%20%3C/style%3E%0A%20%20%20%20%20%20%20%20%0A%20%20%20%20%3Cscript%20src%3D%22https%3A//cdn.jsdelivr.net/gh/python-visualization/folium%40master/folium/templates/leaflet_heat.min.js%22%3E%3C/script%3E%0A%20%20%20%20%3Cscript%20src%3D%22https%3A//cdnjs.cloudflare.com/ajax/libs/leaflet.markercluster/1.1.0/leaflet.markercluster.js%22%3E%3C/script%3E%0A%20%20%20%20%3Clink%20rel%3D%22stylesheet%22%20href%3D%22https%3A//cdnjs.cloudflare.com/ajax/libs/leaflet.markercluster/1.1.0/MarkerCluster.css%22/%3E%0A%20%20%20%20%3Clink%20rel%3D%22stylesheet%22%20href%3D%22https%3A//cdnjs.cloudflare.com/ajax/libs/leaflet.markercluster/1.1.0/MarkerCluster.Default.css%22/%3E%0A%3C/head%3E%0A%3Cbody%3E%20%20%20%20%0A%20%20%20%20%0A%20%20%20%20%20%20%20%20%20%20%20%20%3Cdiv%20class%3D%22folium-map%22%20id%3D%22map_7dad0d9a14be44708067f302fa5465b6%22%20%3E%3C/div%3E%0A%20%20%20%20%20%20%20%20%0A%3C/body%3E%0A%3Cscript%3E%20%20%20%20%0A%20%20%20%20%0A%20%20%20%20%20%20%20%20%20%20%20%20var%20map_7dad0d9a14be44708067f302fa5465b6%20%3D%20L.map%28%0A%20%20%20%20%20%20%20%20%20%20%20%20%20%20%20%20%22map_7dad0d9a14be44708067f302fa5465b6%22%2C%0A%20%20%20%20%20%20%20%20%20%20%20%20%20%20%20%20%7B%0A%20%20%20%20%20%20%20%20%20%20%20%20%20%20%20%20%20%20%20%20center%3A%20%5B12.97%2C%2077.59%5D%2C%0A%20%20%20%20%20%20%20%20%20%20%20%20%20%20%20%20%20%20%20%20crs%3A%20L.CRS.EPSG3857%2C%0A%20%20%20%20%20%20%20%20%20%20%20%20%20%20%20%20%20%20%20%20zoom%3A%2012%2C%0A%20%20%20%20%20%20%20%20%20%20%20%20%20%20%20%20%20%20%20%20zoomControl%3A%20true%2C%0A%20%20%20%20%20%20%20%20%20%20%20%20%20%20%20%20%20%20%20%20preferCanvas%3A%20false%2C%0A%20%20%20%20%20%20%20%20%20%20%20%20%20%20%20%20%7D%0A%20%20%20%20%20%20%20%20%20%20%20%20%29%3B%0A%0A%20%20%20%20%20%20%20%20%20%20%20%20%0A%0A%20%20%20%20%20%20%20%20%0A%20%20%20%20%0A%20%20%20%20%20%20%20%20%20%20%20%20var%20tile_layer_8d1fe60b80044116a6488d8f8c874c5d%20%3D%20L.tileLayer%28%0A%20%20%20%20%20%20%20%20%20%20%20%20%20%20%20%20%22https%3A//%7Bs%7D.tile.openstreetmap.org/%7Bz%7D/%7Bx%7D/%7By%7D.png%22%2C%0A%20%20%20%20%20%20%20%20%20%20%20%20%20%20%20%20%7B%22attribution%22%3A%20%22Data%20by%20%5Cu0026copy%3B%20%5Cu003ca%20href%3D%5C%22http%3A//openstreetmap.org%5C%22%5Cu003eOpenStreetMap%5Cu003c/a%5Cu003e%2C%20under%20%5Cu003ca%20href%3D%5C%22http%3A//www.openstreetmap.org/copyright%5C%22%5Cu003eODbL%5Cu003c/a%5Cu003e.%22%2C%20%22detectRetina%22%3A%20false%2C%20%22maxNativeZoom%22%3A%2018%2C%20%22maxZoom%22%3A%2018%2C%20%22minZoom%22%3A%200%2C%20%22noWrap%22%3A%20false%2C%20%22opacity%22%3A%201%2C%20%22subdomains%22%3A%20%22abc%22%2C%20%22tms%22%3A%20false%7D%0A%20%20%20%20%20%20%20%20%20%20%20%20%29.addTo%28map_7dad0d9a14be44708067f302fa5465b6%29%3B%0A%20%20%20%20%20%20%20%20%0A%20%20%20%20%0A%20%20%20%20%20%20%20%20%20%20%20%20var%20heat_map_33461b08dd5148ada9702fb5a2386700%20%3D%20L.heatLayer%28%0A%20%20%20%20%20%20%20%20%20%20%20%20%20%20%20%20%5B%5B13.00540865%2C%2074.79460685941484%2C%201783.0%5D%2C%20%5B45.95485055%2C%20-112.49659530324134%2C%201456.0%5D%2C%20%5B12.9732913%2C%2077.6404672%2C%201350.0%5D%2C%20%5B18.1475%2C%2041.538889%2C%201162.0%5D%2C%20%5B27.64392675%2C%2083.05280519687284%2C%201037.0%5D%2C%20%5B12.2655944%2C%2076.6465404%2C%201016.0%5D%2C%20%5B44.3730577%2C%20-71.6118577%2C%20824.0%5D%2C%20%5B13.0078418%2C%2074.7963208%2C%20725.0%5D%2C%20%5B12.9400321%2C%2077.6203272%2C%20720.0%5D%2C%20%5B12.9552572%2C%2077.6984163%2C%20683.0%5D%2C%20%5B12.93433385%2C%2077.63040639553275%2C%20644.0%5D%2C%20%5B17.9895618%2C%2079.5967057%2C%20596.0%5D%2C%20%5B40.28745%2C%20-76.964526%2C%20570.0%5D%2C%20%5B51.373656%2C%20-0.1042366%2C%20508.0%5D%2C%20%5B12.887979%2C%2077.5970812%2C%20496.0%5D%2C%20%5B12.9778793%2C%2077.6246697%2C%20477.0%5D%2C%20%5B13.0221416%2C%2077.6403368%2C%20467.0%5D%2C%20%5B14.5395813%2C%20121.070371%2C%20466.0%5D%2C%20%5B12.93577245%2C%2077.66676103753434%2C%20462.0%5D%2C%20%5B12.9242381%2C%2077.6289059%2C%20456.0%5D%2C%20%5B40.7652844%2C%20-76.373824%2C%20445.0%5D%2C%20%5B38.7385916%2C%20-77.5275749%2C%20442.0%5D%2C%20%5B15.8876779%2C%2075.7046777%2C%20387.0%5D%2C%20%5B13.0027353%2C%2077.5703253%2C%20366.0%5D%2C%20%5B50.7721586%2C%200.09772783661369303%2C%20351.0%5D%2C%20%5B31.89376%2C%20-88.066644%2C%20333.0%5D%2C%20%5B-6.2659285%2C%20106.7842561%2C%20327.0%5D%2C%20%5B33.5935063%2C%20-79.0345627%2C%20307.0%5D%2C%20%5B51.5227651%2C%20-0.7354457%2C%20304.0%5D%2C%20%5B13.0346384%2C%2077.5681733%2C%20303.0%5D%2C%20%5B12.996845%2C%2077.6130165%2C%20293.0%5D%2C%20%5B12.9417261%2C%2077.5755021%2C%20286.0%5D%2C%20%5B13.0093455%2C%2077.6377094%2C%20260.0%5D%2C%20%5B12.9624669%2C%2077.6381958%2C%20206.0%5D%2C%20%5B-8.9189606%2C%2033.4588989%2C%20202.0%5D%2C%20%5B13.0141618%2C%2077.6518539%2C%20196.0%5D%2C%20%5B12.9678074%2C%2077.6568367%2C%20174.0%5D%2C%20%5B12.9575547%2C%2077.5979099%2C%20167.0%5D%2C%20%5B12.9271867%2C%2077.6266252%2C%20162.0%5D%2C%20%5B12.9882338%2C%2077.554883%2C%20157.0%5D%2C%20%5B51.5173375%2C%20-0.073532%2C%20141.0%5D%2C%20%5B12.9417812%2C%2077.6160146%2C%20124.0%5D%2C%20%5B12.988721250000001%2C%2077.58516877601824%2C%20108.0%5D%2C%20%5B34.977289%2C%20-78.974578%2C%2095.0%5D%2C%20%5B22.3146438%2C%2073.1597756%2C%2075.0%5D%2C%20%5B12.9932739%2C%2077.5388099%2C%2071.0%5D%2C%20%5B12.9931876%2C%2077.5753419%2C%2069.0%5D%2C%20%5B18.5322493%2C%2073.8499601124847%2C%2069.0%5D%2C%20%5B13.2227%2C%2078.5541977%2C%2062.0%5D%2C%20%5B12.945245%2C%2077.6269144%2C%2059.0%5D%2C%20%5B12.9081487%2C%2077.5553179%2C%2056.0%5D%2C%20%5B12.9846713%2C%2077.6790908%2C%2048.0%5D%2C%20%5B12.9243509%2C%2077.6255562%2C%2045.0%5D%2C%20%5B12.973936%2C%2077.6509982%2C%2043.0%5D%2C%20%5B13.0358698%2C%2077.6323597%2C%2042.0%5D%2C%20%5B12.967576%2C%2077.7150877%2C%2042.0%5D%2C%20%5B12.9489339%2C%2077.5968273%2C%2041.0%5D%2C%20%5B15.8782951%2C%2074.5084834%2C%2038.0%5D%2C%20%5B13.0258087%2C%2077.6305067%2C%2034.0%5D%2C%20%5B12.9089453%2C%2077.6239038%2C%2028.0%5D%2C%20%5B12.9414662%2C%2077.7470942%2C%2027.0%5D%2C%20%5B1.2847055%2C%20103.84320655721689%2C%2027.0%5D%2C%20%5B13.02383%2C%2077.5529215%2C%2024.0%5D%2C%20%5B12.773175%2C%2077.7831871%2C%2024.0%5D%2C%20%5B12.957998%2C%2077.6037312%2C%2022.0%5D%2C%20%5B13.0227204%2C%2077.595715%2C%2022.0%5D%2C%20%5B13.0621474%2C%2077.58006135480495%2C%2020.0%5D%2C%20%5B13.0646907%2C%2077.49626895712257%2C%2019.0%5D%2C%20%5B38.7801076%2C%20-121.5056438%2C%2017.0%5D%2C%20%5B23.1485712%2C%2081.6048241%2C%2017.0%5D%2C%20%5B13.2923988%2C%2077.7519261%2C%2017.0%5D%2C%20%5B13.194416%2C%2078.7011301%2C%2016.0%5D%2C%20%5B22.8359967%2C%2069.3405962%2C%2015.0%5D%2C%20%5B17.2510682%2C%2080.1651978%2C%2014.0%5D%2C%20%5B39.76880625%2C%20-86.15345077251979%2C%2014.0%5D%2C%20%5B13.0215466%2C%2077.7640586%2C%208.0%5D%2C%20%5B12.9055682%2C%2077.5455438%2C%204.0%5D%2C%20%5B12.3872141%2C%2076.6669626%2C%204.0%5D%2C%20%5B13.0101286%2C%2077.5548006%2C%203.0%5D%2C%20%5B11.9917786%2C%2076.5066292%2C%203.0%5D%2C%20%5B13.0217151%2C%2077.7660547%2C%203.0%5D%2C%20%5B13.1006982%2C%2077.5963454%2C%202.0%5D%2C%20%5B12.9274413%2C%2077.5155224%2C%202.0%5D%2C%20%5B12.5607431%2C%2077.4258375%2C%202.0%5D%2C%20%5B13.0011289%2C%2077.6325617%2C%202.0%5D%2C%20%5B12.945048%2C%2077.263004%2C%202.0%5D%2C%20%5B13.007516%2C%2077.695935%2C%201.0%5D%5D%2C%0A%20%20%20%20%20%20%20%20%20%20%20%20%20%20%20%20%7B%22blur%22%3A%2015%2C%20%22maxZoom%22%3A%2018%2C%20%22minOpacity%22%3A%200.5%2C%20%22radius%22%3A%2015%2C%20%22zoom%22%3A%2020%7D%0A%20%20%20%20%20%20%20%20%20%20%20%20%29.addTo%28map_7dad0d9a14be44708067f302fa5465b6%29%3B%0A%20%20%20%20%20%20%20%20%0A%20%20%20%20%0A%20%20%20%20%20%20%20%20%20%20%20%20var%20fast_marker_cluster_ac3286ad8fa841d08992a0190f85c1e4%20%3D%20%28function%28%29%7B%0A%20%20%20%20%20%20%20%20%20%20%20%20%20%20%20%20%0A%20%20%20%20%20%20%20%20%20%20%20%20%20%20%20%20var%20callback%20%3D%20function%20%28row%29%20%7B%0A%20%20%20%20%20%20%20%20%20%20%20%20%20%20%20%20%20%20%20%20var%20icon%20%3D%20L.AwesomeMarkers.icon%28%29%3B%0A%20%20%20%20%20%20%20%20%20%20%20%20%20%20%20%20%20%20%20%20var%20marker%20%3D%20L.marker%28new%20L.LatLng%28row%5B0%5D%2C%20row%5B1%5D%29%29%3B%0A%20%20%20%20%20%20%20%20%20%20%20%20%20%20%20%20%20%20%20%20marker.setIcon%28icon%29%3B%0A%20%20%20%20%20%20%20%20%20%20%20%20%20%20%20%20%20%20%20%20return%20marker%3B%0A%20%20%20%20%20%20%20%20%20%20%20%20%20%20%20%20%7D%3B%0A%0A%20%20%20%20%20%20%20%20%20%20%20%20%20%20%20%20var%20data%20%3D%20%5B%5B13.00540865%2C%2074.79460685941484%2C%201783.0%5D%2C%20%5B45.95485055%2C%20-112.49659530324134%2C%201456.0%5D%2C%20%5B12.9732913%2C%2077.6404672%2C%201350.0%5D%2C%20%5B18.1475%2C%2041.538889%2C%201162.0%5D%2C%20%5B27.64392675%2C%2083.05280519687284%2C%201037.0%5D%2C%20%5B12.2655944%2C%2076.6465404%2C%201016.0%5D%2C%20%5B44.3730577%2C%20-71.6118577%2C%20824.0%5D%2C%20%5B13.0078418%2C%2074.7963208%2C%20725.0%5D%2C%20%5B12.9400321%2C%2077.6203272%2C%20720.0%5D%2C%20%5B12.9552572%2C%2077.6984163%2C%20683.0%5D%2C%20%5B12.93433385%2C%2077.63040639553275%2C%20644.0%5D%2C%20%5B17.9895618%2C%2079.5967057%2C%20596.0%5D%2C%20%5B40.28745%2C%20-76.964526%2C%20570.0%5D%2C%20%5B51.373656%2C%20-0.1042366%2C%20508.0%5D%2C%20%5B12.887979%2C%2077.5970812%2C%20496.0%5D%2C%20%5B12.9778793%2C%2077.6246697%2C%20477.0%5D%2C%20%5B13.0221416%2C%2077.6403368%2C%20467.0%5D%2C%20%5B14.5395813%2C%20121.070371%2C%20466.0%5D%2C%20%5B12.93577245%2C%2077.66676103753434%2C%20462.0%5D%2C%20%5B12.9242381%2C%2077.6289059%2C%20456.0%5D%2C%20%5B40.7652844%2C%20-76.373824%2C%20445.0%5D%2C%20%5B38.7385916%2C%20-77.5275749%2C%20442.0%5D%2C%20%5B15.8876779%2C%2075.7046777%2C%20387.0%5D%2C%20%5B13.0027353%2C%2077.5703253%2C%20366.0%5D%2C%20%5B50.7721586%2C%200.09772783661369303%2C%20351.0%5D%2C%20%5B31.89376%2C%20-88.066644%2C%20333.0%5D%2C%20%5B-6.2659285%2C%20106.7842561%2C%20327.0%5D%2C%20%5B33.5935063%2C%20-79.0345627%2C%20307.0%5D%2C%20%5B51.5227651%2C%20-0.7354457%2C%20304.0%5D%2C%20%5B13.0346384%2C%2077.5681733%2C%20303.0%5D%2C%20%5B12.996845%2C%2077.6130165%2C%20293.0%5D%2C%20%5B12.9417261%2C%2077.5755021%2C%20286.0%5D%2C%20%5B13.0093455%2C%2077.6377094%2C%20260.0%5D%2C%20%5B12.9624669%2C%2077.6381958%2C%20206.0%5D%2C%20%5B-8.9189606%2C%2033.4588989%2C%20202.0%5D%2C%20%5B13.0141618%2C%2077.6518539%2C%20196.0%5D%2C%20%5B12.9678074%2C%2077.6568367%2C%20174.0%5D%2C%20%5B12.9575547%2C%2077.5979099%2C%20167.0%5D%2C%20%5B12.9271867%2C%2077.6266252%2C%20162.0%5D%2C%20%5B12.9882338%2C%2077.554883%2C%20157.0%5D%2C%20%5B51.5173375%2C%20-0.073532%2C%20141.0%5D%2C%20%5B12.9417812%2C%2077.6160146%2C%20124.0%5D%2C%20%5B12.988721250000001%2C%2077.58516877601824%2C%20108.0%5D%2C%20%5B34.977289%2C%20-78.974578%2C%2095.0%5D%2C%20%5B22.3146438%2C%2073.1597756%2C%2075.0%5D%2C%20%5B12.9932739%2C%2077.5388099%2C%2071.0%5D%2C%20%5B12.9931876%2C%2077.5753419%2C%2069.0%5D%2C%20%5B18.5322493%2C%2073.8499601124847%2C%2069.0%5D%2C%20%5B13.2227%2C%2078.5541977%2C%2062.0%5D%2C%20%5B12.945245%2C%2077.6269144%2C%2059.0%5D%2C%20%5B12.9081487%2C%2077.5553179%2C%2056.0%5D%2C%20%5B12.9846713%2C%2077.6790908%2C%2048.0%5D%2C%20%5B12.9243509%2C%2077.6255562%2C%2045.0%5D%2C%20%5B12.973936%2C%2077.6509982%2C%2043.0%5D%2C%20%5B13.0358698%2C%2077.6323597%2C%2042.0%5D%2C%20%5B12.967576%2C%2077.7150877%2C%2042.0%5D%2C%20%5B12.9489339%2C%2077.5968273%2C%2041.0%5D%2C%20%5B15.8782951%2C%2074.5084834%2C%2038.0%5D%2C%20%5B13.0258087%2C%2077.6305067%2C%2034.0%5D%2C%20%5B12.9089453%2C%2077.6239038%2C%2028.0%5D%2C%20%5B12.9414662%2C%2077.7470942%2C%2027.0%5D%2C%20%5B1.2847055%2C%20103.84320655721689%2C%2027.0%5D%2C%20%5B13.02383%2C%2077.5529215%2C%2024.0%5D%2C%20%5B12.773175%2C%2077.7831871%2C%2024.0%5D%2C%20%5B12.957998%2C%2077.6037312%2C%2022.0%5D%2C%20%5B13.0227204%2C%2077.595715%2C%2022.0%5D%2C%20%5B13.0621474%2C%2077.58006135480495%2C%2020.0%5D%2C%20%5B13.0646907%2C%2077.49626895712257%2C%2019.0%5D%2C%20%5B38.7801076%2C%20-121.5056438%2C%2017.0%5D%2C%20%5B23.1485712%2C%2081.6048241%2C%2017.0%5D%2C%20%5B13.2923988%2C%2077.7519261%2C%2017.0%5D%2C%20%5B13.194416%2C%2078.7011301%2C%2016.0%5D%2C%20%5B22.8359967%2C%2069.3405962%2C%2015.0%5D%2C%20%5B17.2510682%2C%2080.1651978%2C%2014.0%5D%2C%20%5B39.76880625%2C%20-86.15345077251979%2C%2014.0%5D%2C%20%5B13.0215466%2C%2077.7640586%2C%208.0%5D%2C%20%5B12.9055682%2C%2077.5455438%2C%204.0%5D%2C%20%5B12.3872141%2C%2076.6669626%2C%204.0%5D%2C%20%5B13.0101286%2C%2077.5548006%2C%203.0%5D%2C%20%5B11.9917786%2C%2076.5066292%2C%203.0%5D%2C%20%5B13.0217151%2C%2077.7660547%2C%203.0%5D%2C%20%5B13.1006982%2C%2077.5963454%2C%202.0%5D%2C%20%5B12.9274413%2C%2077.5155224%2C%202.0%5D%2C%20%5B12.5607431%2C%2077.4258375%2C%202.0%5D%2C%20%5B13.0011289%2C%2077.6325617%2C%202.0%5D%2C%20%5B12.945048%2C%2077.263004%2C%202.0%5D%2C%20%5B13.007516%2C%2077.695935%2C%201.0%5D%5D%3B%0A%20%20%20%20%20%20%20%20%20%20%20%20%20%20%20%20var%20cluster%20%3D%20L.markerClusterGroup%28%7B%22zoom%22%3A%2020%7D%29%3B%0A%0A%20%20%20%20%20%20%20%20%20%20%20%20%20%20%20%20for%20%28var%20i%20%3D%200%3B%20i%20%3C%20data.length%3B%20i%2B%2B%29%20%7B%0A%20%20%20%20%20%20%20%20%20%20%20%20%20%20%20%20%20%20%20%20var%20row%20%3D%20data%5Bi%5D%3B%0A%20%20%20%20%20%20%20%20%20%20%20%20%20%20%20%20%20%20%20%20var%20marker%20%3D%20callback%28row%29%3B%0A%20%20%20%20%20%20%20%20%20%20%20%20%20%20%20%20%20%20%20%20marker.addTo%28cluster%29%3B%0A%20%20%20%20%20%20%20%20%20%20%20%20%20%20%20%20%7D%0A%0A%20%20%20%20%20%20%20%20%20%20%20%20%20%20%20%20cluster.addTo%28map_7dad0d9a14be44708067f302fa5465b6%29%3B%0A%20%20%20%20%20%20%20%20%20%20%20%20%20%20%20%20return%20cluster%3B%0A%20%20%20%20%20%20%20%20%20%20%20%20%7D%29%28%29%3B%0A%20%20%20%20%20%20%20%20%0A%20%20%20%20%0A%20%20%20%20%20%20%20%20%20%20%20%20var%20heat_map_6010312492fd495e9b650b8e939f38a8%20%3D%20L.heatLayer%28%0A%20%20%20%20%20%20%20%20%20%20%20%20%20%20%20%20%5B%5B45.95485055%2C%20-112.49659530324134%2C%203.731524725274722%5D%2C%20%5B15.8876779%2C%2075.7046777%2C%203.8134366925064564%5D%2C%20%5B13.0141618%2C%2077.6518539%2C%203.6372448979591807%5D%2C%20%5B12.887979%2C%2077.5970812%2C%203.6822580645161325%5D%2C%20%5B12.9417261%2C%2077.5755021%2C%203.8367132867132865%5D%2C%20%5B12.9932739%2C%2077.5388099%2C%203.823943661971831%5D%2C%20%5B12.93577245%2C%2077.66676103753434%2C%203.660606060606063%5D%2C%20%5B12.9089453%2C%2077.6239038%2C%203.135714285714285%5D%2C%20%5B40.28745%2C%20-76.964526%2C%203.932631578947374%5D%2C%20%5B33.5935063%2C%20-79.0345627%2C%203.699348534201955%5D%2C%20%5B17.2510682%2C%2080.1651978%2C%203.6285714285714286%5D%2C%20%5B13.0101286%2C%2077.5548006%2C%203.6%5D%2C%20%5B51.373656%2C%20-0.1042366%2C%204.0460629921259805%5D%2C%20%5B39.76880625%2C%20-86.15345077251979%2C%203.928571428571428%5D%2C%20%5B51.5182611%2C%20-0.0742531%2C%203.69290780141844%5D%2C%20%5B31.89376%2C%20-88.066644%2C%204.100300300300301%5D%2C%20%5B12.9624669%2C%2077.6381958%2C%203.68640776699029%5D%2C%20%5B13.0215466%2C%2077.7640586%2C%203.5125%5D%2C%20%5B12.945245%2C%2077.6269144%2C%203.7474576271186457%5D%2C%20%5B-6.2659285%2C%20106.7842561%2C%203.629357798165136%5D%2C%20%5B12.996845%2C%2077.6130165%2C%203.7965870307167213%5D%2C%20%5B13.0358698%2C%2077.6323597%2C%203.942857142857144%5D%2C%20%5B18.1475%2C%2041.538889%2C%203.815662650602418%5D%2C%20%5B13.0258087%2C%2077.6305067%2C%203.9529411764705875%5D%2C%20%5B12.773175%2C%2077.7831871%2C%203.983333333333333%5D%2C%20%5B12.967576%2C%2077.7150877%2C%203.647619047619048%5D%2C%20%5B12.9732913%2C%2077.6404672%2C%203.9155555555555503%5D%2C%20%5B34.977289%2C%20-78.974578%2C%203.8884210526315823%5D%2C%20%5B12.2655944%2C%2076.6465404%2C%203.749311023622047%5D%2C%20%5B11.9917786%2C%2076.5066292%2C%203.6333333333333333%5D%2C%20%5B27.64392675%2C%2083.05280519687284%2C%203.9084860173577676%5D%2C%20%5B12.9678074%2C%2077.6568367%2C%203.683908045977011%5D%2C%20%5B13.007516%2C%2077.695935%2C%203.6%5D%2C%20%5B12.9846713%2C%2077.6790908%2C%203.564583333333333%5D%2C%20%5B13.0221416%2C%2077.6403368%2C%203.918843683083515%5D%2C%20%5B13.0093455%2C%2077.6377094%2C%203.834999999999998%5D%2C%20%5B12.5607431%2C%2077.4258375%2C%203.4%5D%2C%20%5B13.2923988%2C%2077.7519261%2C%204.011764705882352%5D%2C%20%5B14.5395813%2C%20121.070371%2C%203.8748927038626526%5D%2C%20%5B12.9243509%2C%2077.6255562%2C%204.0733333333333315%5D%2C%20%5B12.9271867%2C%2077.6266252%2C%204.10061728395062%5D%2C%20%5B12.93433385%2C%2077.63040639553275%2C%203.9687888198757815%5D%2C%20%5B13.00540865%2C%2074.79460685941484%2C%204.098149186763883%5D%2C%20%5B12.9400321%2C%2077.6203272%2C%203.947361111111111%5D%2C%20%5B13.0078418%2C%2074.7963208%2C%203.9449655172413856%5D%2C%20%5B12.9417812%2C%2077.6160146%2C%203.8975806451612893%5D%2C%20%5B12.9081487%2C%2077.5553179%2C%203.623214285714286%5D%2C%20%5B12.957998%2C%2077.6037312%2C%203.9000000000000004%5D%2C%20%5B40.7652844%2C%20-76.373824%2C%204.193033707865171%5D%2C%20%5B17.9895618%2C%2079.5967057%2C%203.9112416107382555%5D%2C%20%5B12.945048%2C%2077.263004%2C%203.9%5D%2C%20%5B1.2847055%2C%20103.84320655721689%2C%203.8888888888888893%5D%2C%20%5B13.0027353%2C%2077.5703253%2C%203.9661202185792366%5D%2C%20%5B12.9552572%2C%2077.6984163%2C%203.7254758418740876%5D%2C%20%5B12.3872141%2C%2076.6669626%2C%203.75%5D%2C%20%5B13.2227%2C%2078.5541977%2C%203.667741935483871%5D%2C%20%5B13.0346384%2C%2077.5681733%2C%203.857095709570961%5D%2C%20%5B13.0217151%2C%2077.7660547%2C%203.6%5D%2C%20%5B-8.9189606%2C%2033.4588989%2C%203.8118811881188095%5D%2C%20%5B13.194416%2C%2078.7011301%2C%203.1375%5D%2C%20%5B13.0227204%2C%2077.595715%2C%203.6136363636363638%5D%2C%20%5B22.3146438%2C%2073.1597756%2C%203.986666666666667%5D%2C%20%5B12.9882338%2C%2077.554883%2C%203.861146496815287%5D%2C%20%5B12.9274413%2C%2077.5155224%2C%203.85%5D%2C%20%5B38.7385916%2C%20-77.5275749%2C%204.051583710407233%5D%2C%20%5B50.7721586%2C%200.09772783661369303%2C%204.029059829059826%5D%2C%20%5B15.8782951%2C%2074.5084834%2C%204.055263157894737%5D%2C%20%5B13.0621474%2C%2077.58006135480495%2C%203.775%5D%2C%20%5B23.1485712%2C%2081.6048241%2C%203.9%5D%2C%20%5B38.7801076%2C%20-121.5056438%2C%204.105882352941175%5D%2C%20%5B12.9242381%2C%2077.6289059%2C%203.8616228070175427%5D%2C%20%5B12.9931876%2C%2077.5753419%2C%204.0318840579710145%5D%2C%20%5B12.9575547%2C%2077.5979099%2C%203.6604790419161652%5D%2C%20%5B18.5322493%2C%2073.8499601124847%2C%203.9014492753623187%5D%2C%20%5B13.0646907%2C%2077.49626895712257%2C%203.384210526315789%5D%2C%20%5B51.5227651%2C%20-0.7354457%2C%204.099013157894742%5D%2C%20%5B12.973936%2C%2077.6509982%2C%203.820930232558139%5D%2C%20%5B12.9778793%2C%2077.6246697%2C%203.9878406708595397%5D%2C%20%5B12.9055682%2C%2077.5455438%2C%203.5749999999999997%5D%2C%20%5B12.9414662%2C%2077.7470942%2C%203.655555555555555%5D%2C%20%5B12.988721250000001%2C%2077.58516877601824%2C%203.950000000000001%5D%2C%20%5B22.8359967%2C%2069.3405962%2C%203.8400000000000003%5D%2C%20%5B13.0011289%2C%2077.6325617%2C%203.3%5D%2C%20%5B44.3730577%2C%20-71.6118577%2C%203.8042475728155325%5D%2C%20%5B12.9489339%2C%2077.5968273%2C%203.817073170731708%5D%2C%20%5B13.1006982%2C%2077.5963454%2C%203.9%5D%2C%20%5B13.02383%2C%2077.5529215%2C%203.775000000000001%5D%5D%2C%0A%20%20%20%20%20%20%20%20%20%20%20%20%20%20%20%20%7B%22blur%22%3A%2015%2C%20%22maxZoom%22%3A%2018%2C%20%22minOpacity%22%3A%200.5%2C%20%22radius%22%3A%2015%2C%20%22zoom%22%3A%2020%7D%0A%20%20%20%20%20%20%20%20%20%20%20%20%29.addTo%28map_7dad0d9a14be44708067f302fa5465b6%29%3B%0A%20%20%20%20%20%20%20%20%0A%3C/script%3E onload=\"this.contentDocument.open();this.contentDocument.write(    decodeURIComponent(this.getAttribute('data-html')));this.contentDocument.close();\" allowfullscreen webkitallowfullscreen mozallowfullscreen></iframe></div></div>"
      ],
      "text/plain": [
       "<folium.folium.Map at 0x1f817ad02b0>"
      ]
     },
     "execution_count": 66,
     "metadata": {},
     "output_type": "execute_result"
    }
   ],
   "source": [
    "HeatMap(rating[['lat','lon','avg_rating']],zoom=20,radius=15).add_to(basemap)\n",
    "basemap"
   ]
  },
  {
   "cell_type": "raw",
   "metadata": {},
   "source": [
    "The HeatMap shows Restaurants with high average rating; with Bangelaru having the highest concentration of restaurants with above average rating"
   ]
  },
  {
   "cell_type": "markdown",
   "metadata": {},
   "source": [
    "# Spatial Analysis for cuisines"
   ]
  },
  {
   "cell_type": "code",
   "execution_count": 67,
   "metadata": {},
   "outputs": [
    {
     "data": {
      "text/html": [
       "<div>\n",
       "<style scoped>\n",
       "    .dataframe tbody tr th:only-of-type {\n",
       "        vertical-align: middle;\n",
       "    }\n",
       "\n",
       "    .dataframe tbody tr th {\n",
       "        vertical-align: top;\n",
       "    }\n",
       "\n",
       "    .dataframe thead th {\n",
       "        text-align: right;\n",
       "    }\n",
       "</style>\n",
       "<table border=\"1\" class=\"dataframe\">\n",
       "  <thead>\n",
       "    <tr style=\"text-align: right;\">\n",
       "      <th></th>\n",
       "      <th>url</th>\n",
       "      <th>address</th>\n",
       "      <th>name</th>\n",
       "      <th>online_order</th>\n",
       "      <th>book_table</th>\n",
       "      <th>rate</th>\n",
       "      <th>votes</th>\n",
       "      <th>phone</th>\n",
       "      <th>location</th>\n",
       "      <th>rest_type</th>\n",
       "      <th>dish_liked</th>\n",
       "      <th>cuisines</th>\n",
       "      <th>approx_cost(for two people)</th>\n",
       "      <th>reviews_list</th>\n",
       "      <th>menu_item</th>\n",
       "      <th>listed_in(type)</th>\n",
       "      <th>listed_in(city)</th>\n",
       "      <th>rating</th>\n",
       "    </tr>\n",
       "  </thead>\n",
       "  <tbody>\n",
       "    <tr>\n",
       "      <th>0</th>\n",
       "      <td>https://www.zomato.com/bangalore/jalsa-banasha...</td>\n",
       "      <td>942, 21st Main Road, 2nd Stage, Banashankari, ...</td>\n",
       "      <td>Jalsa</td>\n",
       "      <td>Yes</td>\n",
       "      <td>Yes</td>\n",
       "      <td>4.1/5</td>\n",
       "      <td>775</td>\n",
       "      <td>080 42297555\\r\\n+91 9743772233</td>\n",
       "      <td>Banashankari</td>\n",
       "      <td>Casual Dining</td>\n",
       "      <td>Pasta, Lunch Buffet, Masala Papad, Paneer Laja...</td>\n",
       "      <td>North Indian, Mughlai, Chinese</td>\n",
       "      <td>800</td>\n",
       "      <td>[('Rated 4.0', 'RATED\\n  A beautiful place to ...</td>\n",
       "      <td>[]</td>\n",
       "      <td>Buffet</td>\n",
       "      <td>Banashankari</td>\n",
       "      <td>4.1</td>\n",
       "    </tr>\n",
       "    <tr>\n",
       "      <th>1</th>\n",
       "      <td>https://www.zomato.com/bangalore/spice-elephan...</td>\n",
       "      <td>2nd Floor, 80 Feet Road, Near Big Bazaar, 6th ...</td>\n",
       "      <td>Spice Elephant</td>\n",
       "      <td>Yes</td>\n",
       "      <td>No</td>\n",
       "      <td>4.1/5</td>\n",
       "      <td>787</td>\n",
       "      <td>080 41714161</td>\n",
       "      <td>Banashankari</td>\n",
       "      <td>Casual Dining</td>\n",
       "      <td>Momos, Lunch Buffet, Chocolate Nirvana, Thai G...</td>\n",
       "      <td>Chinese, North Indian, Thai</td>\n",
       "      <td>800</td>\n",
       "      <td>[('Rated 4.0', 'RATED\\n  Had been here for din...</td>\n",
       "      <td>[]</td>\n",
       "      <td>Buffet</td>\n",
       "      <td>Banashankari</td>\n",
       "      <td>4.1</td>\n",
       "    </tr>\n",
       "    <tr>\n",
       "      <th>2</th>\n",
       "      <td>https://www.zomato.com/SanchurroBangalore?cont...</td>\n",
       "      <td>1112, Next to KIMS Medical College, 17th Cross...</td>\n",
       "      <td>San Churro Cafe</td>\n",
       "      <td>Yes</td>\n",
       "      <td>No</td>\n",
       "      <td>3.8/5</td>\n",
       "      <td>918</td>\n",
       "      <td>+91 9663487993</td>\n",
       "      <td>Banashankari</td>\n",
       "      <td>Cafe, Casual Dining</td>\n",
       "      <td>Churros, Cannelloni, Minestrone Soup, Hot Choc...</td>\n",
       "      <td>Cafe, Mexican, Italian</td>\n",
       "      <td>800</td>\n",
       "      <td>[('Rated 3.0', \"RATED\\n  Ambience is not that ...</td>\n",
       "      <td>[]</td>\n",
       "      <td>Buffet</td>\n",
       "      <td>Banashankari</td>\n",
       "      <td>3.8</td>\n",
       "    </tr>\n",
       "    <tr>\n",
       "      <th>3</th>\n",
       "      <td>https://www.zomato.com/bangalore/addhuri-udupi...</td>\n",
       "      <td>1st Floor, Annakuteera, 3rd Stage, Banashankar...</td>\n",
       "      <td>Addhuri Udupi Bhojana</td>\n",
       "      <td>No</td>\n",
       "      <td>No</td>\n",
       "      <td>3.7/5</td>\n",
       "      <td>88</td>\n",
       "      <td>+91 9620009302</td>\n",
       "      <td>Banashankari</td>\n",
       "      <td>Quick Bites</td>\n",
       "      <td>Masala Dosa</td>\n",
       "      <td>South Indian, North Indian</td>\n",
       "      <td>300</td>\n",
       "      <td>[('Rated 4.0', \"RATED\\n  Great food and proper...</td>\n",
       "      <td>[]</td>\n",
       "      <td>Buffet</td>\n",
       "      <td>Banashankari</td>\n",
       "      <td>3.7</td>\n",
       "    </tr>\n",
       "    <tr>\n",
       "      <th>4</th>\n",
       "      <td>https://www.zomato.com/bangalore/grand-village...</td>\n",
       "      <td>10, 3rd Floor, Lakshmi Associates, Gandhi Baza...</td>\n",
       "      <td>Grand Village</td>\n",
       "      <td>No</td>\n",
       "      <td>No</td>\n",
       "      <td>3.8/5</td>\n",
       "      <td>166</td>\n",
       "      <td>+91 8026612447\\r\\n+91 9901210005</td>\n",
       "      <td>Basavanagudi</td>\n",
       "      <td>Casual Dining</td>\n",
       "      <td>Panipuri, Gol Gappe</td>\n",
       "      <td>North Indian, Rajasthani</td>\n",
       "      <td>600</td>\n",
       "      <td>[('Rated 4.0', 'RATED\\n  Very good restaurant ...</td>\n",
       "      <td>[]</td>\n",
       "      <td>Buffet</td>\n",
       "      <td>Banashankari</td>\n",
       "      <td>3.8</td>\n",
       "    </tr>\n",
       "  </tbody>\n",
       "</table>\n",
       "</div>"
      ],
      "text/plain": [
       "                                                 url  \\\n",
       "0  https://www.zomato.com/bangalore/jalsa-banasha...   \n",
       "1  https://www.zomato.com/bangalore/spice-elephan...   \n",
       "2  https://www.zomato.com/SanchurroBangalore?cont...   \n",
       "3  https://www.zomato.com/bangalore/addhuri-udupi...   \n",
       "4  https://www.zomato.com/bangalore/grand-village...   \n",
       "\n",
       "                                             address                   name  \\\n",
       "0  942, 21st Main Road, 2nd Stage, Banashankari, ...                  Jalsa   \n",
       "1  2nd Floor, 80 Feet Road, Near Big Bazaar, 6th ...         Spice Elephant   \n",
       "2  1112, Next to KIMS Medical College, 17th Cross...        San Churro Cafe   \n",
       "3  1st Floor, Annakuteera, 3rd Stage, Banashankar...  Addhuri Udupi Bhojana   \n",
       "4  10, 3rd Floor, Lakshmi Associates, Gandhi Baza...          Grand Village   \n",
       "\n",
       "  online_order book_table   rate  votes                             phone  \\\n",
       "0          Yes        Yes  4.1/5    775    080 42297555\\r\\n+91 9743772233   \n",
       "1          Yes         No  4.1/5    787                      080 41714161   \n",
       "2          Yes         No  3.8/5    918                    +91 9663487993   \n",
       "3           No         No  3.7/5     88                    +91 9620009302   \n",
       "4           No         No  3.8/5    166  +91 8026612447\\r\\n+91 9901210005   \n",
       "\n",
       "       location            rest_type  \\\n",
       "0  Banashankari        Casual Dining   \n",
       "1  Banashankari        Casual Dining   \n",
       "2  Banashankari  Cafe, Casual Dining   \n",
       "3  Banashankari          Quick Bites   \n",
       "4  Basavanagudi        Casual Dining   \n",
       "\n",
       "                                          dish_liked  \\\n",
       "0  Pasta, Lunch Buffet, Masala Papad, Paneer Laja...   \n",
       "1  Momos, Lunch Buffet, Chocolate Nirvana, Thai G...   \n",
       "2  Churros, Cannelloni, Minestrone Soup, Hot Choc...   \n",
       "3                                        Masala Dosa   \n",
       "4                                Panipuri, Gol Gappe   \n",
       "\n",
       "                         cuisines approx_cost(for two people)  \\\n",
       "0  North Indian, Mughlai, Chinese                         800   \n",
       "1     Chinese, North Indian, Thai                         800   \n",
       "2          Cafe, Mexican, Italian                         800   \n",
       "3      South Indian, North Indian                         300   \n",
       "4        North Indian, Rajasthani                         600   \n",
       "\n",
       "                                        reviews_list menu_item  \\\n",
       "0  [('Rated 4.0', 'RATED\\n  A beautiful place to ...        []   \n",
       "1  [('Rated 4.0', 'RATED\\n  Had been here for din...        []   \n",
       "2  [('Rated 3.0', \"RATED\\n  Ambience is not that ...        []   \n",
       "3  [('Rated 4.0', \"RATED\\n  Great food and proper...        []   \n",
       "4  [('Rated 4.0', 'RATED\\n  Very good restaurant ...        []   \n",
       "\n",
       "  listed_in(type) listed_in(city)  rating  \n",
       "0          Buffet    Banashankari     4.1  \n",
       "1          Buffet    Banashankari     4.1  \n",
       "2          Buffet    Banashankari     3.8  \n",
       "3          Buffet    Banashankari     3.7  \n",
       "4          Buffet    Banashankari     3.8  "
      ]
     },
     "execution_count": 67,
     "metadata": {},
     "output_type": "execute_result"
    }
   ],
   "source": [
    "#seleccting the values to analyse\n",
    "df.head()"
   ]
  },
  {
   "cell_type": "code",
   "execution_count": 68,
   "metadata": {},
   "outputs": [
    {
     "data": {
      "text/html": [
       "<div>\n",
       "<style scoped>\n",
       "    .dataframe tbody tr th:only-of-type {\n",
       "        vertical-align: middle;\n",
       "    }\n",
       "\n",
       "    .dataframe tbody tr th {\n",
       "        vertical-align: top;\n",
       "    }\n",
       "\n",
       "    .dataframe thead th {\n",
       "        text-align: right;\n",
       "    }\n",
       "</style>\n",
       "<table border=\"1\" class=\"dataframe\">\n",
       "  <thead>\n",
       "    <tr style=\"text-align: right;\">\n",
       "      <th></th>\n",
       "      <th>url</th>\n",
       "      <th>address</th>\n",
       "      <th>name</th>\n",
       "      <th>online_order</th>\n",
       "      <th>book_table</th>\n",
       "      <th>rate</th>\n",
       "      <th>votes</th>\n",
       "      <th>phone</th>\n",
       "      <th>location</th>\n",
       "      <th>rest_type</th>\n",
       "      <th>dish_liked</th>\n",
       "      <th>cuisines</th>\n",
       "      <th>approx_cost(for two people)</th>\n",
       "      <th>reviews_list</th>\n",
       "      <th>menu_item</th>\n",
       "      <th>listed_in(type)</th>\n",
       "      <th>listed_in(city)</th>\n",
       "      <th>rating</th>\n",
       "    </tr>\n",
       "  </thead>\n",
       "  <tbody>\n",
       "    <tr>\n",
       "      <th>396</th>\n",
       "      <td>https://www.zomato.com/bangalore/chungs-chines...</td>\n",
       "      <td>295, Sri Krishna Complex, 10th Main, 3rd Block...</td>\n",
       "      <td>Chung's Chinese Corner</td>\n",
       "      <td>Yes</td>\n",
       "      <td>No</td>\n",
       "      <td>3.9/5</td>\n",
       "      <td>221</td>\n",
       "      <td>080 26644700\\r\\n080 41211700</td>\n",
       "      <td>Jayanagar</td>\n",
       "      <td>Casual Dining</td>\n",
       "      <td>Manchow Soup, Momos, Wonton Soup, Chowmein, Am...</td>\n",
       "      <td>Chinese</td>\n",
       "      <td>700</td>\n",
       "      <td>[('Rated 4.0', 'RATED\\n  We had ordered drums ...</td>\n",
       "      <td>[]</td>\n",
       "      <td>Delivery</td>\n",
       "      <td>Banashankari</td>\n",
       "      <td>3.9</td>\n",
       "    </tr>\n",
       "    <tr>\n",
       "      <th>1232</th>\n",
       "      <td>https://www.zomato.com/bangalore/wangs-kitchen...</td>\n",
       "      <td>Ground Floor, 148/1 and 148/2, Near HSBC, Bann...</td>\n",
       "      <td>Wangs Kitchen</td>\n",
       "      <td>Yes</td>\n",
       "      <td>No</td>\n",
       "      <td>3.0/5</td>\n",
       "      <td>114</td>\n",
       "      <td>080 39253925</td>\n",
       "      <td>Bannerghatta Road</td>\n",
       "      <td>Casual Dining</td>\n",
       "      <td>Noodles, Momos</td>\n",
       "      <td>Chinese</td>\n",
       "      <td>1,000</td>\n",
       "      <td>[('Rated 4.0', \"RATED\\n  It's a good place, bu...</td>\n",
       "      <td>[]</td>\n",
       "      <td>Delivery</td>\n",
       "      <td>Bannerghatta Road</td>\n",
       "      <td>3.0</td>\n",
       "    </tr>\n",
       "    <tr>\n",
       "      <th>1240</th>\n",
       "      <td>https://www.zomato.com/bangalore/spice-up-jp-n...</td>\n",
       "      <td>228/A, 9th Main, K.S.R.T.C Layout, 2nd Phase, ...</td>\n",
       "      <td>Spice Up</td>\n",
       "      <td>Yes</td>\n",
       "      <td>No</td>\n",
       "      <td>3.8/5</td>\n",
       "      <td>146</td>\n",
       "      <td>080 26582546\\r\\r\\n080 32931154</td>\n",
       "      <td>JP Nagar</td>\n",
       "      <td>Casual Dining</td>\n",
       "      <td>Chicken Lollipop, Vegetable Biryani, Noodles, ...</td>\n",
       "      <td>Chinese</td>\n",
       "      <td>600</td>\n",
       "      <td>[('Rated 1.0', \"RATED\\n  I've visited this hot...</td>\n",
       "      <td>[]</td>\n",
       "      <td>Delivery</td>\n",
       "      <td>Bannerghatta Road</td>\n",
       "      <td>3.8</td>\n",
       "    </tr>\n",
       "    <tr>\n",
       "      <th>1480</th>\n",
       "      <td>https://www.zomato.com/bangalore/flavour-of-ch...</td>\n",
       "      <td>727, 10th Main, 7th Cross, 2nd Stage, BTM Layo...</td>\n",
       "      <td>Flavour of China</td>\n",
       "      <td>Yes</td>\n",
       "      <td>No</td>\n",
       "      <td>3.8/5</td>\n",
       "      <td>254</td>\n",
       "      <td>080 41200882\\r\\n+91 9845406812</td>\n",
       "      <td>BTM</td>\n",
       "      <td>Casual Dining</td>\n",
       "      <td>Spring Roll, Chilli Chicken, Chowmein, Sweet C...</td>\n",
       "      <td>Chinese</td>\n",
       "      <td>550</td>\n",
       "      <td>[('Rated 3.0', \"RATED\\n  Small reasturant ,bee...</td>\n",
       "      <td>[]</td>\n",
       "      <td>Delivery</td>\n",
       "      <td>Bannerghatta Road</td>\n",
       "      <td>3.8</td>\n",
       "    </tr>\n",
       "    <tr>\n",
       "      <th>2047</th>\n",
       "      <td>https://www.zomato.com/bangalore/wangs-kitchen...</td>\n",
       "      <td>Ground Floor, 148/1 and 148/2, Near HSBC, Bann...</td>\n",
       "      <td>Wangs Kitchen</td>\n",
       "      <td>Yes</td>\n",
       "      <td>No</td>\n",
       "      <td>3.0/5</td>\n",
       "      <td>114</td>\n",
       "      <td>080 39253925</td>\n",
       "      <td>Bannerghatta Road</td>\n",
       "      <td>Casual Dining</td>\n",
       "      <td>Noodles, Momos</td>\n",
       "      <td>Chinese</td>\n",
       "      <td>1,000</td>\n",
       "      <td>[('Rated 4.0', \"RATED\\n  It's a good place, bu...</td>\n",
       "      <td>[]</td>\n",
       "      <td>Dine-out</td>\n",
       "      <td>Bannerghatta Road</td>\n",
       "      <td>3.0</td>\n",
       "    </tr>\n",
       "  </tbody>\n",
       "</table>\n",
       "</div>"
      ],
      "text/plain": [
       "                                                    url  \\\n",
       "396   https://www.zomato.com/bangalore/chungs-chines...   \n",
       "1232  https://www.zomato.com/bangalore/wangs-kitchen...   \n",
       "1240  https://www.zomato.com/bangalore/spice-up-jp-n...   \n",
       "1480  https://www.zomato.com/bangalore/flavour-of-ch...   \n",
       "2047  https://www.zomato.com/bangalore/wangs-kitchen...   \n",
       "\n",
       "                                                address  \\\n",
       "396   295, Sri Krishna Complex, 10th Main, 3rd Block...   \n",
       "1232  Ground Floor, 148/1 and 148/2, Near HSBC, Bann...   \n",
       "1240  228/A, 9th Main, K.S.R.T.C Layout, 2nd Phase, ...   \n",
       "1480  727, 10th Main, 7th Cross, 2nd Stage, BTM Layo...   \n",
       "2047  Ground Floor, 148/1 and 148/2, Near HSBC, Bann...   \n",
       "\n",
       "                        name online_order book_table   rate  votes  \\\n",
       "396   Chung's Chinese Corner          Yes         No  3.9/5    221   \n",
       "1232           Wangs Kitchen          Yes         No  3.0/5    114   \n",
       "1240                Spice Up          Yes         No  3.8/5    146   \n",
       "1480        Flavour of China          Yes         No  3.8/5    254   \n",
       "2047           Wangs Kitchen          Yes         No  3.0/5    114   \n",
       "\n",
       "                               phone           location      rest_type  \\\n",
       "396     080 26644700\\r\\n080 41211700          Jayanagar  Casual Dining   \n",
       "1232                    080 39253925  Bannerghatta Road  Casual Dining   \n",
       "1240  080 26582546\\r\\r\\n080 32931154           JP Nagar  Casual Dining   \n",
       "1480  080 41200882\\r\\n+91 9845406812                BTM  Casual Dining   \n",
       "2047                    080 39253925  Bannerghatta Road  Casual Dining   \n",
       "\n",
       "                                             dish_liked cuisines  \\\n",
       "396   Manchow Soup, Momos, Wonton Soup, Chowmein, Am...  Chinese   \n",
       "1232                                     Noodles, Momos  Chinese   \n",
       "1240  Chicken Lollipop, Vegetable Biryani, Noodles, ...  Chinese   \n",
       "1480  Spring Roll, Chilli Chicken, Chowmein, Sweet C...  Chinese   \n",
       "2047                                     Noodles, Momos  Chinese   \n",
       "\n",
       "     approx_cost(for two people)  \\\n",
       "396                          700   \n",
       "1232                       1,000   \n",
       "1240                         600   \n",
       "1480                         550   \n",
       "2047                       1,000   \n",
       "\n",
       "                                           reviews_list menu_item  \\\n",
       "396   [('Rated 4.0', 'RATED\\n  We had ordered drums ...        []   \n",
       "1232  [('Rated 4.0', \"RATED\\n  It's a good place, bu...        []   \n",
       "1240  [('Rated 1.0', \"RATED\\n  I've visited this hot...        []   \n",
       "1480  [('Rated 3.0', \"RATED\\n  Small reasturant ,bee...        []   \n",
       "2047  [('Rated 4.0', \"RATED\\n  It's a good place, bu...        []   \n",
       "\n",
       "     listed_in(type)    listed_in(city)  rating  \n",
       "396         Delivery       Banashankari     3.9  \n",
       "1232        Delivery  Bannerghatta Road     3.0  \n",
       "1240        Delivery  Bannerghatta Road     3.8  \n",
       "1480        Delivery  Bannerghatta Road     3.8  \n",
       "2047        Dine-out  Bannerghatta Road     3.0  "
      ]
     },
     "execution_count": 68,
     "metadata": {},
     "output_type": "execute_result"
    }
   ],
   "source": [
    "#filtering the data\n",
    "filter = df['cuisines']=='Chinese'\n",
    "df2 = df[filter] #trhe new dataframe\n",
    "df2.head()"
   ]
  },
  {
   "cell_type": "code",
   "execution_count": 69,
   "metadata": {},
   "outputs": [
    {
     "data": {
      "text/html": [
       "<div>\n",
       "<style scoped>\n",
       "    .dataframe tbody tr th:only-of-type {\n",
       "        vertical-align: middle;\n",
       "    }\n",
       "\n",
       "    .dataframe tbody tr th {\n",
       "        vertical-align: top;\n",
       "    }\n",
       "\n",
       "    .dataframe thead th {\n",
       "        text-align: right;\n",
       "    }\n",
       "</style>\n",
       "<table border=\"1\" class=\"dataframe\">\n",
       "  <thead>\n",
       "    <tr style=\"text-align: right;\">\n",
       "      <th></th>\n",
       "      <th>Name</th>\n",
       "      <th>Count</th>\n",
       "    </tr>\n",
       "  </thead>\n",
       "  <tbody>\n",
       "    <tr>\n",
       "      <th>0</th>\n",
       "      <td>BTM</td>\n",
       "      <td>11</td>\n",
       "    </tr>\n",
       "    <tr>\n",
       "      <th>1</th>\n",
       "      <td>Banaswadi</td>\n",
       "      <td>7</td>\n",
       "    </tr>\n",
       "    <tr>\n",
       "      <th>2</th>\n",
       "      <td>Bannerghatta Road</td>\n",
       "      <td>7</td>\n",
       "    </tr>\n",
       "    <tr>\n",
       "      <th>3</th>\n",
       "      <td>Church Street</td>\n",
       "      <td>21</td>\n",
       "    </tr>\n",
       "    <tr>\n",
       "      <th>4</th>\n",
       "      <td>Cunningham Road</td>\n",
       "      <td>4</td>\n",
       "    </tr>\n",
       "  </tbody>\n",
       "</table>\n",
       "</div>"
      ],
      "text/plain": [
       "                Name  Count\n",
       "0                BTM     11\n",
       "1          Banaswadi      7\n",
       "2  Bannerghatta Road      7\n",
       "3      Church Street     21\n",
       "4    Cunningham Road      4"
      ]
     },
     "execution_count": 69,
     "metadata": {},
     "output_type": "execute_result"
    }
   ],
   "source": [
    "#grouping the cuisines by location of the restaurants\n",
    "df2.groupby('location')['url'].count() \n",
    "\n",
    "#creating a dataframe for the cuisine dataframe\n",
    "df2.groupby('location')['url'].count().reset_index()\n",
    "\n",
    "Chinese = df2.groupby('location')['url'].count().reset_index()\n",
    "\n",
    "Chinese.columns = ['Name', 'Count']\n",
    "\n",
    "Chinese.head()"
   ]
  },
  {
   "cell_type": "code",
   "execution_count": null,
   "metadata": {},
   "outputs": [],
   "source": []
  },
  {
   "cell_type": "code",
   "execution_count": null,
   "metadata": {},
   "outputs": [],
   "source": []
  },
  {
   "cell_type": "code",
   "execution_count": null,
   "metadata": {},
   "outputs": [],
   "source": []
  },
  {
   "cell_type": "code",
   "execution_count": null,
   "metadata": {},
   "outputs": [],
   "source": []
  },
  {
   "cell_type": "code",
   "execution_count": 70,
   "metadata": {},
   "outputs": [
    {
     "data": {
      "text/html": [
       "<div>\n",
       "<style scoped>\n",
       "    .dataframe tbody tr th:only-of-type {\n",
       "        vertical-align: middle;\n",
       "    }\n",
       "\n",
       "    .dataframe tbody tr th {\n",
       "        vertical-align: top;\n",
       "    }\n",
       "\n",
       "    .dataframe thead th {\n",
       "        text-align: right;\n",
       "    }\n",
       "</style>\n",
       "<table border=\"1\" class=\"dataframe\">\n",
       "  <thead>\n",
       "    <tr style=\"text-align: right;\">\n",
       "      <th></th>\n",
       "      <th>lon</th>\n",
       "      <th>lat</th>\n",
       "      <th>Count</th>\n",
       "    </tr>\n",
       "  </thead>\n",
       "  <tbody>\n",
       "    <tr>\n",
       "      <th>0</th>\n",
       "      <td>-112.496595</td>\n",
       "      <td>45.954851</td>\n",
       "      <td>11</td>\n",
       "    </tr>\n",
       "    <tr>\n",
       "      <th>1</th>\n",
       "      <td>77.651854</td>\n",
       "      <td>13.014162</td>\n",
       "      <td>7</td>\n",
       "    </tr>\n",
       "    <tr>\n",
       "      <th>2</th>\n",
       "      <td>77.597081</td>\n",
       "      <td>12.887979</td>\n",
       "      <td>7</td>\n",
       "    </tr>\n",
       "    <tr>\n",
       "      <th>3</th>\n",
       "      <td>-0.104237</td>\n",
       "      <td>51.373656</td>\n",
       "      <td>21</td>\n",
       "    </tr>\n",
       "    <tr>\n",
       "      <th>4</th>\n",
       "      <td>-88.066644</td>\n",
       "      <td>31.893760</td>\n",
       "      <td>4</td>\n",
       "    </tr>\n",
       "    <tr>\n",
       "      <th>5</th>\n",
       "      <td>106.784256</td>\n",
       "      <td>-6.265929</td>\n",
       "      <td>2</td>\n",
       "    </tr>\n",
       "    <tr>\n",
       "      <th>6</th>\n",
       "      <td>77.613017</td>\n",
       "      <td>12.996845</td>\n",
       "      <td>5</td>\n",
       "    </tr>\n",
       "    <tr>\n",
       "      <th>7</th>\n",
       "      <td>41.538889</td>\n",
       "      <td>18.147500</td>\n",
       "      <td>9</td>\n",
       "    </tr>\n",
       "    <tr>\n",
       "      <th>8</th>\n",
       "      <td>77.640467</td>\n",
       "      <td>12.973291</td>\n",
       "      <td>18</td>\n",
       "    </tr>\n",
       "    <tr>\n",
       "      <th>9</th>\n",
       "      <td>76.646540</td>\n",
       "      <td>12.265594</td>\n",
       "      <td>8</td>\n",
       "    </tr>\n",
       "    <tr>\n",
       "      <th>10</th>\n",
       "      <td>83.052805</td>\n",
       "      <td>27.643927</td>\n",
       "      <td>6</td>\n",
       "    </tr>\n",
       "    <tr>\n",
       "      <th>11</th>\n",
       "      <td>77.640337</td>\n",
       "      <td>13.022142</td>\n",
       "      <td>8</td>\n",
       "    </tr>\n",
       "    <tr>\n",
       "      <th>12</th>\n",
       "      <td>77.637709</td>\n",
       "      <td>13.009346</td>\n",
       "      <td>4</td>\n",
       "    </tr>\n",
       "    <tr>\n",
       "      <th>13</th>\n",
       "      <td>77.620327</td>\n",
       "      <td>12.940032</td>\n",
       "      <td>25</td>\n",
       "    </tr>\n",
       "    <tr>\n",
       "      <th>14</th>\n",
       "      <td>77.616015</td>\n",
       "      <td>12.941781</td>\n",
       "      <td>2</td>\n",
       "    </tr>\n",
       "    <tr>\n",
       "      <th>15</th>\n",
       "      <td>79.596706</td>\n",
       "      <td>17.989562</td>\n",
       "      <td>6</td>\n",
       "    </tr>\n",
       "    <tr>\n",
       "      <th>16</th>\n",
       "      <td>77.570325</td>\n",
       "      <td>13.002735</td>\n",
       "      <td>6</td>\n",
       "    </tr>\n",
       "    <tr>\n",
       "      <th>17</th>\n",
       "      <td>77.698416</td>\n",
       "      <td>12.955257</td>\n",
       "      <td>6</td>\n",
       "    </tr>\n",
       "    <tr>\n",
       "      <th>18</th>\n",
       "      <td>78.554198</td>\n",
       "      <td>13.222700</td>\n",
       "      <td>2</td>\n",
       "    </tr>\n",
       "    <tr>\n",
       "      <th>19</th>\n",
       "      <td>77.554883</td>\n",
       "      <td>12.988234</td>\n",
       "      <td>3</td>\n",
       "    </tr>\n",
       "    <tr>\n",
       "      <th>20</th>\n",
       "      <td>-77.527575</td>\n",
       "      <td>38.738592</td>\n",
       "      <td>19</td>\n",
       "    </tr>\n",
       "    <tr>\n",
       "      <th>21</th>\n",
       "      <td>0.097728</td>\n",
       "      <td>50.772159</td>\n",
       "      <td>25</td>\n",
       "    </tr>\n",
       "    <tr>\n",
       "      <th>22</th>\n",
       "      <td>-71.611858</td>\n",
       "      <td>44.373058</td>\n",
       "      <td>6</td>\n",
       "    </tr>\n",
       "  </tbody>\n",
       "</table>\n",
       "</div>"
      ],
      "text/plain": [
       "           lon        lat  Count\n",
       "0  -112.496595  45.954851     11\n",
       "1    77.651854  13.014162      7\n",
       "2    77.597081  12.887979      7\n",
       "3    -0.104237  51.373656     21\n",
       "4   -88.066644  31.893760      4\n",
       "5   106.784256  -6.265929      2\n",
       "6    77.613017  12.996845      5\n",
       "7    41.538889  18.147500      9\n",
       "8    77.640467  12.973291     18\n",
       "9    76.646540  12.265594      8\n",
       "10   83.052805  27.643927      6\n",
       "11   77.640337  13.022142      8\n",
       "12   77.637709  13.009346      4\n",
       "13   77.620327  12.940032     25\n",
       "14   77.616015  12.941781      2\n",
       "15   79.596706  17.989562      6\n",
       "16   77.570325  13.002735      6\n",
       "17   77.698416  12.955257      6\n",
       "18   78.554198  13.222700      2\n",
       "19   77.554883  12.988234      3\n",
       "20  -77.527575  38.738592     19\n",
       "21    0.097728  50.772159     25\n",
       "22  -71.611858  44.373058      6"
      ]
     },
     "execution_count": 70,
     "metadata": {},
     "output_type": "execute_result"
    }
   ],
   "source": [
    "#merging our new dataframe with the locations dataframe\n",
    "Chinese.merge(locations,on= 'Name', how = 'left').dropna()\n",
    "\n",
    "Chinese=Chinese.merge(locations,on= 'Name', how = 'left').dropna()\n",
    "\n",
    "Chinese[['lon', 'lat', 'Count']]"
   ]
  },
  {
   "cell_type": "code",
   "execution_count": null,
   "metadata": {},
   "outputs": [],
   "source": []
  },
  {
   "cell_type": "code",
   "execution_count": null,
   "metadata": {},
   "outputs": [],
   "source": []
  },
  {
   "cell_type": "code",
   "execution_count": 71,
   "metadata": {},
   "outputs": [
    {
     "data": {
      "text/plain": [
       "<folium.plugins.heat_map.HeatMap at 0x1f8199a4220>"
      ]
     },
     "execution_count": 71,
     "metadata": {},
     "output_type": "execute_result"
    }
   ],
   "source": [
    "#generating heatmap for the cuisines\n",
    "\n",
    "HeatMap(Chinese[['lon', 'lat', 'Count']], zoom = 20, radius = 15).add_to(basemap)"
   ]
  },
  {
   "cell_type": "code",
   "execution_count": 72,
   "metadata": {
    "scrolled": true
   },
   "outputs": [
    {
     "data": {
      "text/html": [
       "<div style=\"width:100%;\"><div style=\"position:relative;width:100%;height:0;padding-bottom:60%;\"><span style=\"color:#565656\">Make this Notebook Trusted to load map: File -> Trust Notebook</span><iframe src=\"about:blank\" style=\"position:absolute;width:100%;height:100%;left:0;top:0;border:none !important;\" data-html=%3C%21DOCTYPE%20html%3E%0A%3Chead%3E%20%20%20%20%0A%20%20%20%20%3Cmeta%20http-equiv%3D%22content-type%22%20content%3D%22text/html%3B%20charset%3DUTF-8%22%20/%3E%0A%20%20%20%20%0A%20%20%20%20%20%20%20%20%3Cscript%3E%0A%20%20%20%20%20%20%20%20%20%20%20%20L_NO_TOUCH%20%3D%20false%3B%0A%20%20%20%20%20%20%20%20%20%20%20%20L_DISABLE_3D%20%3D%20false%3B%0A%20%20%20%20%20%20%20%20%3C/script%3E%0A%20%20%20%20%0A%20%20%20%20%3Cstyle%3Ehtml%2C%20body%20%7Bwidth%3A%20100%25%3Bheight%3A%20100%25%3Bmargin%3A%200%3Bpadding%3A%200%3B%7D%3C/style%3E%0A%20%20%20%20%3Cstyle%3E%23map%20%7Bposition%3Aabsolute%3Btop%3A0%3Bbottom%3A0%3Bright%3A0%3Bleft%3A0%3B%7D%3C/style%3E%0A%20%20%20%20%3Cscript%20src%3D%22https%3A//cdn.jsdelivr.net/npm/leaflet%401.6.0/dist/leaflet.js%22%3E%3C/script%3E%0A%20%20%20%20%3Cscript%20src%3D%22https%3A//code.jquery.com/jquery-1.12.4.min.js%22%3E%3C/script%3E%0A%20%20%20%20%3Cscript%20src%3D%22https%3A//maxcdn.bootstrapcdn.com/bootstrap/3.2.0/js/bootstrap.min.js%22%3E%3C/script%3E%0A%20%20%20%20%3Cscript%20src%3D%22https%3A//cdnjs.cloudflare.com/ajax/libs/Leaflet.awesome-markers/2.0.2/leaflet.awesome-markers.js%22%3E%3C/script%3E%0A%20%20%20%20%3Clink%20rel%3D%22stylesheet%22%20href%3D%22https%3A//cdn.jsdelivr.net/npm/leaflet%401.6.0/dist/leaflet.css%22/%3E%0A%20%20%20%20%3Clink%20rel%3D%22stylesheet%22%20href%3D%22https%3A//maxcdn.bootstrapcdn.com/bootstrap/3.2.0/css/bootstrap.min.css%22/%3E%0A%20%20%20%20%3Clink%20rel%3D%22stylesheet%22%20href%3D%22https%3A//maxcdn.bootstrapcdn.com/bootstrap/3.2.0/css/bootstrap-theme.min.css%22/%3E%0A%20%20%20%20%3Clink%20rel%3D%22stylesheet%22%20href%3D%22https%3A//maxcdn.bootstrapcdn.com/font-awesome/4.6.3/css/font-awesome.min.css%22/%3E%0A%20%20%20%20%3Clink%20rel%3D%22stylesheet%22%20href%3D%22https%3A//cdnjs.cloudflare.com/ajax/libs/Leaflet.awesome-markers/2.0.2/leaflet.awesome-markers.css%22/%3E%0A%20%20%20%20%3Clink%20rel%3D%22stylesheet%22%20href%3D%22https%3A//cdn.jsdelivr.net/gh/python-visualization/folium/folium/templates/leaflet.awesome.rotate.min.css%22/%3E%0A%20%20%20%20%0A%20%20%20%20%20%20%20%20%20%20%20%20%3Cmeta%20name%3D%22viewport%22%20content%3D%22width%3Ddevice-width%2C%0A%20%20%20%20%20%20%20%20%20%20%20%20%20%20%20%20initial-scale%3D1.0%2C%20maximum-scale%3D1.0%2C%20user-scalable%3Dno%22%20/%3E%0A%20%20%20%20%20%20%20%20%20%20%20%20%3Cstyle%3E%0A%20%20%20%20%20%20%20%20%20%20%20%20%20%20%20%20%23map_7dad0d9a14be44708067f302fa5465b6%20%7B%0A%20%20%20%20%20%20%20%20%20%20%20%20%20%20%20%20%20%20%20%20position%3A%20relative%3B%0A%20%20%20%20%20%20%20%20%20%20%20%20%20%20%20%20%20%20%20%20width%3A%20100.0%25%3B%0A%20%20%20%20%20%20%20%20%20%20%20%20%20%20%20%20%20%20%20%20height%3A%20100.0%25%3B%0A%20%20%20%20%20%20%20%20%20%20%20%20%20%20%20%20%20%20%20%20left%3A%200.0%25%3B%0A%20%20%20%20%20%20%20%20%20%20%20%20%20%20%20%20%20%20%20%20top%3A%200.0%25%3B%0A%20%20%20%20%20%20%20%20%20%20%20%20%20%20%20%20%7D%0A%20%20%20%20%20%20%20%20%20%20%20%20%3C/style%3E%0A%20%20%20%20%20%20%20%20%0A%20%20%20%20%3Cscript%20src%3D%22https%3A//cdn.jsdelivr.net/gh/python-visualization/folium%40master/folium/templates/leaflet_heat.min.js%22%3E%3C/script%3E%0A%20%20%20%20%3Cscript%20src%3D%22https%3A//cdnjs.cloudflare.com/ajax/libs/leaflet.markercluster/1.1.0/leaflet.markercluster.js%22%3E%3C/script%3E%0A%20%20%20%20%3Clink%20rel%3D%22stylesheet%22%20href%3D%22https%3A//cdnjs.cloudflare.com/ajax/libs/leaflet.markercluster/1.1.0/MarkerCluster.css%22/%3E%0A%20%20%20%20%3Clink%20rel%3D%22stylesheet%22%20href%3D%22https%3A//cdnjs.cloudflare.com/ajax/libs/leaflet.markercluster/1.1.0/MarkerCluster.Default.css%22/%3E%0A%3C/head%3E%0A%3Cbody%3E%20%20%20%20%0A%20%20%20%20%0A%20%20%20%20%20%20%20%20%20%20%20%20%3Cdiv%20class%3D%22folium-map%22%20id%3D%22map_7dad0d9a14be44708067f302fa5465b6%22%20%3E%3C/div%3E%0A%20%20%20%20%20%20%20%20%0A%3C/body%3E%0A%3Cscript%3E%20%20%20%20%0A%20%20%20%20%0A%20%20%20%20%20%20%20%20%20%20%20%20var%20map_7dad0d9a14be44708067f302fa5465b6%20%3D%20L.map%28%0A%20%20%20%20%20%20%20%20%20%20%20%20%20%20%20%20%22map_7dad0d9a14be44708067f302fa5465b6%22%2C%0A%20%20%20%20%20%20%20%20%20%20%20%20%20%20%20%20%7B%0A%20%20%20%20%20%20%20%20%20%20%20%20%20%20%20%20%20%20%20%20center%3A%20%5B12.97%2C%2077.59%5D%2C%0A%20%20%20%20%20%20%20%20%20%20%20%20%20%20%20%20%20%20%20%20crs%3A%20L.CRS.EPSG3857%2C%0A%20%20%20%20%20%20%20%20%20%20%20%20%20%20%20%20%20%20%20%20zoom%3A%2012%2C%0A%20%20%20%20%20%20%20%20%20%20%20%20%20%20%20%20%20%20%20%20zoomControl%3A%20true%2C%0A%20%20%20%20%20%20%20%20%20%20%20%20%20%20%20%20%20%20%20%20preferCanvas%3A%20false%2C%0A%20%20%20%20%20%20%20%20%20%20%20%20%20%20%20%20%7D%0A%20%20%20%20%20%20%20%20%20%20%20%20%29%3B%0A%0A%20%20%20%20%20%20%20%20%20%20%20%20%0A%0A%20%20%20%20%20%20%20%20%0A%20%20%20%20%0A%20%20%20%20%20%20%20%20%20%20%20%20var%20tile_layer_8d1fe60b80044116a6488d8f8c874c5d%20%3D%20L.tileLayer%28%0A%20%20%20%20%20%20%20%20%20%20%20%20%20%20%20%20%22https%3A//%7Bs%7D.tile.openstreetmap.org/%7Bz%7D/%7Bx%7D/%7By%7D.png%22%2C%0A%20%20%20%20%20%20%20%20%20%20%20%20%20%20%20%20%7B%22attribution%22%3A%20%22Data%20by%20%5Cu0026copy%3B%20%5Cu003ca%20href%3D%5C%22http%3A//openstreetmap.org%5C%22%5Cu003eOpenStreetMap%5Cu003c/a%5Cu003e%2C%20under%20%5Cu003ca%20href%3D%5C%22http%3A//www.openstreetmap.org/copyright%5C%22%5Cu003eODbL%5Cu003c/a%5Cu003e.%22%2C%20%22detectRetina%22%3A%20false%2C%20%22maxNativeZoom%22%3A%2018%2C%20%22maxZoom%22%3A%2018%2C%20%22minZoom%22%3A%200%2C%20%22noWrap%22%3A%20false%2C%20%22opacity%22%3A%201%2C%20%22subdomains%22%3A%20%22abc%22%2C%20%22tms%22%3A%20false%7D%0A%20%20%20%20%20%20%20%20%20%20%20%20%29.addTo%28map_7dad0d9a14be44708067f302fa5465b6%29%3B%0A%20%20%20%20%20%20%20%20%0A%20%20%20%20%0A%20%20%20%20%20%20%20%20%20%20%20%20var%20heat_map_33461b08dd5148ada9702fb5a2386700%20%3D%20L.heatLayer%28%0A%20%20%20%20%20%20%20%20%20%20%20%20%20%20%20%20%5B%5B13.00540865%2C%2074.79460685941484%2C%201783.0%5D%2C%20%5B45.95485055%2C%20-112.49659530324134%2C%201456.0%5D%2C%20%5B12.9732913%2C%2077.6404672%2C%201350.0%5D%2C%20%5B18.1475%2C%2041.538889%2C%201162.0%5D%2C%20%5B27.64392675%2C%2083.05280519687284%2C%201037.0%5D%2C%20%5B12.2655944%2C%2076.6465404%2C%201016.0%5D%2C%20%5B44.3730577%2C%20-71.6118577%2C%20824.0%5D%2C%20%5B13.0078418%2C%2074.7963208%2C%20725.0%5D%2C%20%5B12.9400321%2C%2077.6203272%2C%20720.0%5D%2C%20%5B12.9552572%2C%2077.6984163%2C%20683.0%5D%2C%20%5B12.93433385%2C%2077.63040639553275%2C%20644.0%5D%2C%20%5B17.9895618%2C%2079.5967057%2C%20596.0%5D%2C%20%5B40.28745%2C%20-76.964526%2C%20570.0%5D%2C%20%5B51.373656%2C%20-0.1042366%2C%20508.0%5D%2C%20%5B12.887979%2C%2077.5970812%2C%20496.0%5D%2C%20%5B12.9778793%2C%2077.6246697%2C%20477.0%5D%2C%20%5B13.0221416%2C%2077.6403368%2C%20467.0%5D%2C%20%5B14.5395813%2C%20121.070371%2C%20466.0%5D%2C%20%5B12.93577245%2C%2077.66676103753434%2C%20462.0%5D%2C%20%5B12.9242381%2C%2077.6289059%2C%20456.0%5D%2C%20%5B40.7652844%2C%20-76.373824%2C%20445.0%5D%2C%20%5B38.7385916%2C%20-77.5275749%2C%20442.0%5D%2C%20%5B15.8876779%2C%2075.7046777%2C%20387.0%5D%2C%20%5B13.0027353%2C%2077.5703253%2C%20366.0%5D%2C%20%5B50.7721586%2C%200.09772783661369303%2C%20351.0%5D%2C%20%5B31.89376%2C%20-88.066644%2C%20333.0%5D%2C%20%5B-6.2659285%2C%20106.7842561%2C%20327.0%5D%2C%20%5B33.5935063%2C%20-79.0345627%2C%20307.0%5D%2C%20%5B51.5227651%2C%20-0.7354457%2C%20304.0%5D%2C%20%5B13.0346384%2C%2077.5681733%2C%20303.0%5D%2C%20%5B12.996845%2C%2077.6130165%2C%20293.0%5D%2C%20%5B12.9417261%2C%2077.5755021%2C%20286.0%5D%2C%20%5B13.0093455%2C%2077.6377094%2C%20260.0%5D%2C%20%5B12.9624669%2C%2077.6381958%2C%20206.0%5D%2C%20%5B-8.9189606%2C%2033.4588989%2C%20202.0%5D%2C%20%5B13.0141618%2C%2077.6518539%2C%20196.0%5D%2C%20%5B12.9678074%2C%2077.6568367%2C%20174.0%5D%2C%20%5B12.9575547%2C%2077.5979099%2C%20167.0%5D%2C%20%5B12.9271867%2C%2077.6266252%2C%20162.0%5D%2C%20%5B12.9882338%2C%2077.554883%2C%20157.0%5D%2C%20%5B51.5173375%2C%20-0.073532%2C%20141.0%5D%2C%20%5B12.9417812%2C%2077.6160146%2C%20124.0%5D%2C%20%5B12.988721250000001%2C%2077.58516877601824%2C%20108.0%5D%2C%20%5B34.977289%2C%20-78.974578%2C%2095.0%5D%2C%20%5B22.3146438%2C%2073.1597756%2C%2075.0%5D%2C%20%5B12.9932739%2C%2077.5388099%2C%2071.0%5D%2C%20%5B12.9931876%2C%2077.5753419%2C%2069.0%5D%2C%20%5B18.5322493%2C%2073.8499601124847%2C%2069.0%5D%2C%20%5B13.2227%2C%2078.5541977%2C%2062.0%5D%2C%20%5B12.945245%2C%2077.6269144%2C%2059.0%5D%2C%20%5B12.9081487%2C%2077.5553179%2C%2056.0%5D%2C%20%5B12.9846713%2C%2077.6790908%2C%2048.0%5D%2C%20%5B12.9243509%2C%2077.6255562%2C%2045.0%5D%2C%20%5B12.973936%2C%2077.6509982%2C%2043.0%5D%2C%20%5B13.0358698%2C%2077.6323597%2C%2042.0%5D%2C%20%5B12.967576%2C%2077.7150877%2C%2042.0%5D%2C%20%5B12.9489339%2C%2077.5968273%2C%2041.0%5D%2C%20%5B15.8782951%2C%2074.5084834%2C%2038.0%5D%2C%20%5B13.0258087%2C%2077.6305067%2C%2034.0%5D%2C%20%5B12.9089453%2C%2077.6239038%2C%2028.0%5D%2C%20%5B12.9414662%2C%2077.7470942%2C%2027.0%5D%2C%20%5B1.2847055%2C%20103.84320655721689%2C%2027.0%5D%2C%20%5B13.02383%2C%2077.5529215%2C%2024.0%5D%2C%20%5B12.773175%2C%2077.7831871%2C%2024.0%5D%2C%20%5B12.957998%2C%2077.6037312%2C%2022.0%5D%2C%20%5B13.0227204%2C%2077.595715%2C%2022.0%5D%2C%20%5B13.0621474%2C%2077.58006135480495%2C%2020.0%5D%2C%20%5B13.0646907%2C%2077.49626895712257%2C%2019.0%5D%2C%20%5B38.7801076%2C%20-121.5056438%2C%2017.0%5D%2C%20%5B23.1485712%2C%2081.6048241%2C%2017.0%5D%2C%20%5B13.2923988%2C%2077.7519261%2C%2017.0%5D%2C%20%5B13.194416%2C%2078.7011301%2C%2016.0%5D%2C%20%5B22.8359967%2C%2069.3405962%2C%2015.0%5D%2C%20%5B17.2510682%2C%2080.1651978%2C%2014.0%5D%2C%20%5B39.76880625%2C%20-86.15345077251979%2C%2014.0%5D%2C%20%5B13.0215466%2C%2077.7640586%2C%208.0%5D%2C%20%5B12.9055682%2C%2077.5455438%2C%204.0%5D%2C%20%5B12.3872141%2C%2076.6669626%2C%204.0%5D%2C%20%5B13.0101286%2C%2077.5548006%2C%203.0%5D%2C%20%5B11.9917786%2C%2076.5066292%2C%203.0%5D%2C%20%5B13.0217151%2C%2077.7660547%2C%203.0%5D%2C%20%5B13.1006982%2C%2077.5963454%2C%202.0%5D%2C%20%5B12.9274413%2C%2077.5155224%2C%202.0%5D%2C%20%5B12.5607431%2C%2077.4258375%2C%202.0%5D%2C%20%5B13.0011289%2C%2077.6325617%2C%202.0%5D%2C%20%5B12.945048%2C%2077.263004%2C%202.0%5D%2C%20%5B13.007516%2C%2077.695935%2C%201.0%5D%5D%2C%0A%20%20%20%20%20%20%20%20%20%20%20%20%20%20%20%20%7B%22blur%22%3A%2015%2C%20%22maxZoom%22%3A%2018%2C%20%22minOpacity%22%3A%200.5%2C%20%22radius%22%3A%2015%2C%20%22zoom%22%3A%2020%7D%0A%20%20%20%20%20%20%20%20%20%20%20%20%29.addTo%28map_7dad0d9a14be44708067f302fa5465b6%29%3B%0A%20%20%20%20%20%20%20%20%0A%20%20%20%20%0A%20%20%20%20%20%20%20%20%20%20%20%20var%20fast_marker_cluster_ac3286ad8fa841d08992a0190f85c1e4%20%3D%20%28function%28%29%7B%0A%20%20%20%20%20%20%20%20%20%20%20%20%20%20%20%20%0A%20%20%20%20%20%20%20%20%20%20%20%20%20%20%20%20var%20callback%20%3D%20function%20%28row%29%20%7B%0A%20%20%20%20%20%20%20%20%20%20%20%20%20%20%20%20%20%20%20%20var%20icon%20%3D%20L.AwesomeMarkers.icon%28%29%3B%0A%20%20%20%20%20%20%20%20%20%20%20%20%20%20%20%20%20%20%20%20var%20marker%20%3D%20L.marker%28new%20L.LatLng%28row%5B0%5D%2C%20row%5B1%5D%29%29%3B%0A%20%20%20%20%20%20%20%20%20%20%20%20%20%20%20%20%20%20%20%20marker.setIcon%28icon%29%3B%0A%20%20%20%20%20%20%20%20%20%20%20%20%20%20%20%20%20%20%20%20return%20marker%3B%0A%20%20%20%20%20%20%20%20%20%20%20%20%20%20%20%20%7D%3B%0A%0A%20%20%20%20%20%20%20%20%20%20%20%20%20%20%20%20var%20data%20%3D%20%5B%5B13.00540865%2C%2074.79460685941484%2C%201783.0%5D%2C%20%5B45.95485055%2C%20-112.49659530324134%2C%201456.0%5D%2C%20%5B12.9732913%2C%2077.6404672%2C%201350.0%5D%2C%20%5B18.1475%2C%2041.538889%2C%201162.0%5D%2C%20%5B27.64392675%2C%2083.05280519687284%2C%201037.0%5D%2C%20%5B12.2655944%2C%2076.6465404%2C%201016.0%5D%2C%20%5B44.3730577%2C%20-71.6118577%2C%20824.0%5D%2C%20%5B13.0078418%2C%2074.7963208%2C%20725.0%5D%2C%20%5B12.9400321%2C%2077.6203272%2C%20720.0%5D%2C%20%5B12.9552572%2C%2077.6984163%2C%20683.0%5D%2C%20%5B12.93433385%2C%2077.63040639553275%2C%20644.0%5D%2C%20%5B17.9895618%2C%2079.5967057%2C%20596.0%5D%2C%20%5B40.28745%2C%20-76.964526%2C%20570.0%5D%2C%20%5B51.373656%2C%20-0.1042366%2C%20508.0%5D%2C%20%5B12.887979%2C%2077.5970812%2C%20496.0%5D%2C%20%5B12.9778793%2C%2077.6246697%2C%20477.0%5D%2C%20%5B13.0221416%2C%2077.6403368%2C%20467.0%5D%2C%20%5B14.5395813%2C%20121.070371%2C%20466.0%5D%2C%20%5B12.93577245%2C%2077.66676103753434%2C%20462.0%5D%2C%20%5B12.9242381%2C%2077.6289059%2C%20456.0%5D%2C%20%5B40.7652844%2C%20-76.373824%2C%20445.0%5D%2C%20%5B38.7385916%2C%20-77.5275749%2C%20442.0%5D%2C%20%5B15.8876779%2C%2075.7046777%2C%20387.0%5D%2C%20%5B13.0027353%2C%2077.5703253%2C%20366.0%5D%2C%20%5B50.7721586%2C%200.09772783661369303%2C%20351.0%5D%2C%20%5B31.89376%2C%20-88.066644%2C%20333.0%5D%2C%20%5B-6.2659285%2C%20106.7842561%2C%20327.0%5D%2C%20%5B33.5935063%2C%20-79.0345627%2C%20307.0%5D%2C%20%5B51.5227651%2C%20-0.7354457%2C%20304.0%5D%2C%20%5B13.0346384%2C%2077.5681733%2C%20303.0%5D%2C%20%5B12.996845%2C%2077.6130165%2C%20293.0%5D%2C%20%5B12.9417261%2C%2077.5755021%2C%20286.0%5D%2C%20%5B13.0093455%2C%2077.6377094%2C%20260.0%5D%2C%20%5B12.9624669%2C%2077.6381958%2C%20206.0%5D%2C%20%5B-8.9189606%2C%2033.4588989%2C%20202.0%5D%2C%20%5B13.0141618%2C%2077.6518539%2C%20196.0%5D%2C%20%5B12.9678074%2C%2077.6568367%2C%20174.0%5D%2C%20%5B12.9575547%2C%2077.5979099%2C%20167.0%5D%2C%20%5B12.9271867%2C%2077.6266252%2C%20162.0%5D%2C%20%5B12.9882338%2C%2077.554883%2C%20157.0%5D%2C%20%5B51.5173375%2C%20-0.073532%2C%20141.0%5D%2C%20%5B12.9417812%2C%2077.6160146%2C%20124.0%5D%2C%20%5B12.988721250000001%2C%2077.58516877601824%2C%20108.0%5D%2C%20%5B34.977289%2C%20-78.974578%2C%2095.0%5D%2C%20%5B22.3146438%2C%2073.1597756%2C%2075.0%5D%2C%20%5B12.9932739%2C%2077.5388099%2C%2071.0%5D%2C%20%5B12.9931876%2C%2077.5753419%2C%2069.0%5D%2C%20%5B18.5322493%2C%2073.8499601124847%2C%2069.0%5D%2C%20%5B13.2227%2C%2078.5541977%2C%2062.0%5D%2C%20%5B12.945245%2C%2077.6269144%2C%2059.0%5D%2C%20%5B12.9081487%2C%2077.5553179%2C%2056.0%5D%2C%20%5B12.9846713%2C%2077.6790908%2C%2048.0%5D%2C%20%5B12.9243509%2C%2077.6255562%2C%2045.0%5D%2C%20%5B12.973936%2C%2077.6509982%2C%2043.0%5D%2C%20%5B13.0358698%2C%2077.6323597%2C%2042.0%5D%2C%20%5B12.967576%2C%2077.7150877%2C%2042.0%5D%2C%20%5B12.9489339%2C%2077.5968273%2C%2041.0%5D%2C%20%5B15.8782951%2C%2074.5084834%2C%2038.0%5D%2C%20%5B13.0258087%2C%2077.6305067%2C%2034.0%5D%2C%20%5B12.9089453%2C%2077.6239038%2C%2028.0%5D%2C%20%5B12.9414662%2C%2077.7470942%2C%2027.0%5D%2C%20%5B1.2847055%2C%20103.84320655721689%2C%2027.0%5D%2C%20%5B13.02383%2C%2077.5529215%2C%2024.0%5D%2C%20%5B12.773175%2C%2077.7831871%2C%2024.0%5D%2C%20%5B12.957998%2C%2077.6037312%2C%2022.0%5D%2C%20%5B13.0227204%2C%2077.595715%2C%2022.0%5D%2C%20%5B13.0621474%2C%2077.58006135480495%2C%2020.0%5D%2C%20%5B13.0646907%2C%2077.49626895712257%2C%2019.0%5D%2C%20%5B38.7801076%2C%20-121.5056438%2C%2017.0%5D%2C%20%5B23.1485712%2C%2081.6048241%2C%2017.0%5D%2C%20%5B13.2923988%2C%2077.7519261%2C%2017.0%5D%2C%20%5B13.194416%2C%2078.7011301%2C%2016.0%5D%2C%20%5B22.8359967%2C%2069.3405962%2C%2015.0%5D%2C%20%5B17.2510682%2C%2080.1651978%2C%2014.0%5D%2C%20%5B39.76880625%2C%20-86.15345077251979%2C%2014.0%5D%2C%20%5B13.0215466%2C%2077.7640586%2C%208.0%5D%2C%20%5B12.9055682%2C%2077.5455438%2C%204.0%5D%2C%20%5B12.3872141%2C%2076.6669626%2C%204.0%5D%2C%20%5B13.0101286%2C%2077.5548006%2C%203.0%5D%2C%20%5B11.9917786%2C%2076.5066292%2C%203.0%5D%2C%20%5B13.0217151%2C%2077.7660547%2C%203.0%5D%2C%20%5B13.1006982%2C%2077.5963454%2C%202.0%5D%2C%20%5B12.9274413%2C%2077.5155224%2C%202.0%5D%2C%20%5B12.5607431%2C%2077.4258375%2C%202.0%5D%2C%20%5B13.0011289%2C%2077.6325617%2C%202.0%5D%2C%20%5B12.945048%2C%2077.263004%2C%202.0%5D%2C%20%5B13.007516%2C%2077.695935%2C%201.0%5D%5D%3B%0A%20%20%20%20%20%20%20%20%20%20%20%20%20%20%20%20var%20cluster%20%3D%20L.markerClusterGroup%28%7B%22zoom%22%3A%2020%7D%29%3B%0A%0A%20%20%20%20%20%20%20%20%20%20%20%20%20%20%20%20for%20%28var%20i%20%3D%200%3B%20i%20%3C%20data.length%3B%20i%2B%2B%29%20%7B%0A%20%20%20%20%20%20%20%20%20%20%20%20%20%20%20%20%20%20%20%20var%20row%20%3D%20data%5Bi%5D%3B%0A%20%20%20%20%20%20%20%20%20%20%20%20%20%20%20%20%20%20%20%20var%20marker%20%3D%20callback%28row%29%3B%0A%20%20%20%20%20%20%20%20%20%20%20%20%20%20%20%20%20%20%20%20marker.addTo%28cluster%29%3B%0A%20%20%20%20%20%20%20%20%20%20%20%20%20%20%20%20%7D%0A%0A%20%20%20%20%20%20%20%20%20%20%20%20%20%20%20%20cluster.addTo%28map_7dad0d9a14be44708067f302fa5465b6%29%3B%0A%20%20%20%20%20%20%20%20%20%20%20%20%20%20%20%20return%20cluster%3B%0A%20%20%20%20%20%20%20%20%20%20%20%20%7D%29%28%29%3B%0A%20%20%20%20%20%20%20%20%0A%20%20%20%20%0A%20%20%20%20%20%20%20%20%20%20%20%20var%20heat_map_6010312492fd495e9b650b8e939f38a8%20%3D%20L.heatLayer%28%0A%20%20%20%20%20%20%20%20%20%20%20%20%20%20%20%20%5B%5B45.95485055%2C%20-112.49659530324134%2C%203.731524725274722%5D%2C%20%5B15.8876779%2C%2075.7046777%2C%203.8134366925064564%5D%2C%20%5B13.0141618%2C%2077.6518539%2C%203.6372448979591807%5D%2C%20%5B12.887979%2C%2077.5970812%2C%203.6822580645161325%5D%2C%20%5B12.9417261%2C%2077.5755021%2C%203.8367132867132865%5D%2C%20%5B12.9932739%2C%2077.5388099%2C%203.823943661971831%5D%2C%20%5B12.93577245%2C%2077.66676103753434%2C%203.660606060606063%5D%2C%20%5B12.9089453%2C%2077.6239038%2C%203.135714285714285%5D%2C%20%5B40.28745%2C%20-76.964526%2C%203.932631578947374%5D%2C%20%5B33.5935063%2C%20-79.0345627%2C%203.699348534201955%5D%2C%20%5B17.2510682%2C%2080.1651978%2C%203.6285714285714286%5D%2C%20%5B13.0101286%2C%2077.5548006%2C%203.6%5D%2C%20%5B51.373656%2C%20-0.1042366%2C%204.0460629921259805%5D%2C%20%5B39.76880625%2C%20-86.15345077251979%2C%203.928571428571428%5D%2C%20%5B51.5182611%2C%20-0.0742531%2C%203.69290780141844%5D%2C%20%5B31.89376%2C%20-88.066644%2C%204.100300300300301%5D%2C%20%5B12.9624669%2C%2077.6381958%2C%203.68640776699029%5D%2C%20%5B13.0215466%2C%2077.7640586%2C%203.5125%5D%2C%20%5B12.945245%2C%2077.6269144%2C%203.7474576271186457%5D%2C%20%5B-6.2659285%2C%20106.7842561%2C%203.629357798165136%5D%2C%20%5B12.996845%2C%2077.6130165%2C%203.7965870307167213%5D%2C%20%5B13.0358698%2C%2077.6323597%2C%203.942857142857144%5D%2C%20%5B18.1475%2C%2041.538889%2C%203.815662650602418%5D%2C%20%5B13.0258087%2C%2077.6305067%2C%203.9529411764705875%5D%2C%20%5B12.773175%2C%2077.7831871%2C%203.983333333333333%5D%2C%20%5B12.967576%2C%2077.7150877%2C%203.647619047619048%5D%2C%20%5B12.9732913%2C%2077.6404672%2C%203.9155555555555503%5D%2C%20%5B34.977289%2C%20-78.974578%2C%203.8884210526315823%5D%2C%20%5B12.2655944%2C%2076.6465404%2C%203.749311023622047%5D%2C%20%5B11.9917786%2C%2076.5066292%2C%203.6333333333333333%5D%2C%20%5B27.64392675%2C%2083.05280519687284%2C%203.9084860173577676%5D%2C%20%5B12.9678074%2C%2077.6568367%2C%203.683908045977011%5D%2C%20%5B13.007516%2C%2077.695935%2C%203.6%5D%2C%20%5B12.9846713%2C%2077.6790908%2C%203.564583333333333%5D%2C%20%5B13.0221416%2C%2077.6403368%2C%203.918843683083515%5D%2C%20%5B13.0093455%2C%2077.6377094%2C%203.834999999999998%5D%2C%20%5B12.5607431%2C%2077.4258375%2C%203.4%5D%2C%20%5B13.2923988%2C%2077.7519261%2C%204.011764705882352%5D%2C%20%5B14.5395813%2C%20121.070371%2C%203.8748927038626526%5D%2C%20%5B12.9243509%2C%2077.6255562%2C%204.0733333333333315%5D%2C%20%5B12.9271867%2C%2077.6266252%2C%204.10061728395062%5D%2C%20%5B12.93433385%2C%2077.63040639553275%2C%203.9687888198757815%5D%2C%20%5B13.00540865%2C%2074.79460685941484%2C%204.098149186763883%5D%2C%20%5B12.9400321%2C%2077.6203272%2C%203.947361111111111%5D%2C%20%5B13.0078418%2C%2074.7963208%2C%203.9449655172413856%5D%2C%20%5B12.9417812%2C%2077.6160146%2C%203.8975806451612893%5D%2C%20%5B12.9081487%2C%2077.5553179%2C%203.623214285714286%5D%2C%20%5B12.957998%2C%2077.6037312%2C%203.9000000000000004%5D%2C%20%5B40.7652844%2C%20-76.373824%2C%204.193033707865171%5D%2C%20%5B17.9895618%2C%2079.5967057%2C%203.9112416107382555%5D%2C%20%5B12.945048%2C%2077.263004%2C%203.9%5D%2C%20%5B1.2847055%2C%20103.84320655721689%2C%203.8888888888888893%5D%2C%20%5B13.0027353%2C%2077.5703253%2C%203.9661202185792366%5D%2C%20%5B12.9552572%2C%2077.6984163%2C%203.7254758418740876%5D%2C%20%5B12.3872141%2C%2076.6669626%2C%203.75%5D%2C%20%5B13.2227%2C%2078.5541977%2C%203.667741935483871%5D%2C%20%5B13.0346384%2C%2077.5681733%2C%203.857095709570961%5D%2C%20%5B13.0217151%2C%2077.7660547%2C%203.6%5D%2C%20%5B-8.9189606%2C%2033.4588989%2C%203.8118811881188095%5D%2C%20%5B13.194416%2C%2078.7011301%2C%203.1375%5D%2C%20%5B13.0227204%2C%2077.595715%2C%203.6136363636363638%5D%2C%20%5B22.3146438%2C%2073.1597756%2C%203.986666666666667%5D%2C%20%5B12.9882338%2C%2077.554883%2C%203.861146496815287%5D%2C%20%5B12.9274413%2C%2077.5155224%2C%203.85%5D%2C%20%5B38.7385916%2C%20-77.5275749%2C%204.051583710407233%5D%2C%20%5B50.7721586%2C%200.09772783661369303%2C%204.029059829059826%5D%2C%20%5B15.8782951%2C%2074.5084834%2C%204.055263157894737%5D%2C%20%5B13.0621474%2C%2077.58006135480495%2C%203.775%5D%2C%20%5B23.1485712%2C%2081.6048241%2C%203.9%5D%2C%20%5B38.7801076%2C%20-121.5056438%2C%204.105882352941175%5D%2C%20%5B12.9242381%2C%2077.6289059%2C%203.8616228070175427%5D%2C%20%5B12.9931876%2C%2077.5753419%2C%204.0318840579710145%5D%2C%20%5B12.9575547%2C%2077.5979099%2C%203.6604790419161652%5D%2C%20%5B18.5322493%2C%2073.8499601124847%2C%203.9014492753623187%5D%2C%20%5B13.0646907%2C%2077.49626895712257%2C%203.384210526315789%5D%2C%20%5B51.5227651%2C%20-0.7354457%2C%204.099013157894742%5D%2C%20%5B12.973936%2C%2077.6509982%2C%203.820930232558139%5D%2C%20%5B12.9778793%2C%2077.6246697%2C%203.9878406708595397%5D%2C%20%5B12.9055682%2C%2077.5455438%2C%203.5749999999999997%5D%2C%20%5B12.9414662%2C%2077.7470942%2C%203.655555555555555%5D%2C%20%5B12.988721250000001%2C%2077.58516877601824%2C%203.950000000000001%5D%2C%20%5B22.8359967%2C%2069.3405962%2C%203.8400000000000003%5D%2C%20%5B13.0011289%2C%2077.6325617%2C%203.3%5D%2C%20%5B44.3730577%2C%20-71.6118577%2C%203.8042475728155325%5D%2C%20%5B12.9489339%2C%2077.5968273%2C%203.817073170731708%5D%2C%20%5B13.1006982%2C%2077.5963454%2C%203.9%5D%2C%20%5B13.02383%2C%2077.5529215%2C%203.775000000000001%5D%5D%2C%0A%20%20%20%20%20%20%20%20%20%20%20%20%20%20%20%20%7B%22blur%22%3A%2015%2C%20%22maxZoom%22%3A%2018%2C%20%22minOpacity%22%3A%200.5%2C%20%22radius%22%3A%2015%2C%20%22zoom%22%3A%2020%7D%0A%20%20%20%20%20%20%20%20%20%20%20%20%29.addTo%28map_7dad0d9a14be44708067f302fa5465b6%29%3B%0A%20%20%20%20%20%20%20%20%0A%20%20%20%20%0A%20%20%20%20%20%20%20%20%20%20%20%20var%20heat_map_977431428cd241d886d835c4534d75b5%20%3D%20L.heatLayer%28%0A%20%20%20%20%20%20%20%20%20%20%20%20%20%20%20%20%5B%5B-112.49659530324134%2C%2045.95485055%2C%2011.0%5D%2C%20%5B77.6518539%2C%2013.0141618%2C%207.0%5D%2C%20%5B77.5970812%2C%2012.887979%2C%207.0%5D%2C%20%5B-0.1042366%2C%2051.373656%2C%2021.0%5D%2C%20%5B-88.066644%2C%2031.89376%2C%204.0%5D%2C%20%5B106.7842561%2C%20-6.2659285%2C%202.0%5D%2C%20%5B77.6130165%2C%2012.996845%2C%205.0%5D%2C%20%5B41.538889%2C%2018.1475%2C%209.0%5D%2C%20%5B77.6404672%2C%2012.9732913%2C%2018.0%5D%2C%20%5B76.6465404%2C%2012.2655944%2C%208.0%5D%2C%20%5B83.05280519687284%2C%2027.64392675%2C%206.0%5D%2C%20%5B77.6403368%2C%2013.0221416%2C%208.0%5D%2C%20%5B77.6377094%2C%2013.0093455%2C%204.0%5D%2C%20%5B77.6203272%2C%2012.9400321%2C%2025.0%5D%2C%20%5B77.6160146%2C%2012.9417812%2C%202.0%5D%2C%20%5B79.5967057%2C%2017.9895618%2C%206.0%5D%2C%20%5B77.5703253%2C%2013.0027353%2C%206.0%5D%2C%20%5B77.6984163%2C%2012.9552572%2C%206.0%5D%2C%20%5B78.5541977%2C%2013.2227%2C%202.0%5D%2C%20%5B77.554883%2C%2012.9882338%2C%203.0%5D%2C%20%5B-77.5275749%2C%2038.7385916%2C%2019.0%5D%2C%20%5B0.09772783661369303%2C%2050.7721586%2C%2025.0%5D%2C%20%5B-71.6118577%2C%2044.3730577%2C%206.0%5D%5D%2C%0A%20%20%20%20%20%20%20%20%20%20%20%20%20%20%20%20%7B%22blur%22%3A%2015%2C%20%22maxZoom%22%3A%2018%2C%20%22minOpacity%22%3A%200.5%2C%20%22radius%22%3A%2015%2C%20%22zoom%22%3A%2020%7D%0A%20%20%20%20%20%20%20%20%20%20%20%20%29.addTo%28map_7dad0d9a14be44708067f302fa5465b6%29%3B%0A%20%20%20%20%20%20%20%20%0A%3C/script%3E onload=\"this.contentDocument.open();this.contentDocument.write(    decodeURIComponent(this.getAttribute('data-html')));this.contentDocument.close();\" allowfullscreen webkitallowfullscreen mozallowfullscreen></iframe></div></div>"
      ],
      "text/plain": [
       "<folium.folium.Map at 0x1f817ad02b0>"
      ]
     },
     "execution_count": 72,
     "metadata": {},
     "output_type": "execute_result"
    }
   ],
   "source": [
    "basemap"
   ]
  },
  {
   "cell_type": "markdown",
   "metadata": {},
   "source": [
    "# Automating the above processes"
   ]
  },
  {
   "cell_type": "code",
   "execution_count": 73,
   "metadata": {},
   "outputs": [
    {
     "data": {
      "text/plain": [
       "array(['North Indian, Mughlai, Chinese', 'Chinese, North Indian, Thai',\n",
       "       'Cafe, Mexican, Italian', ..., 'Andhra, Hyderabadi, Biryani',\n",
       "       'Andhra, North Indian, South Indian', 'Thai, Chinese, Momos'],\n",
       "      dtype=object)"
      ]
     },
     "execution_count": 73,
     "metadata": {},
     "output_type": "execute_result"
    }
   ],
   "source": [
    "df['cuisines'].unique()"
   ]
  },
  {
   "cell_type": "code",
   "execution_count": 74,
   "metadata": {},
   "outputs": [],
   "source": [
    "def Heatmap_Zone(zone):\n",
    "    df2=df[df['cuisines']==zone]\n",
    "    df_zone=df2.groupby(['location'],as_index=False)['url'].agg('count')\n",
    "    df_zone.columns=['Name','count']\n",
    "    df_zone=df_zone.merge(locations,on=\"Name\",how='left').dropna()\n",
    "    basemap=generateBaseMap()\n",
    "    HeatMap(df_zone[['lat','lon','count']].values.tolist(),zoom=20,radius=15).add_to(basemap)\n",
    "    return basemap"
   ]
  },
  {
   "cell_type": "code",
   "execution_count": 75,
   "metadata": {},
   "outputs": [
    {
     "data": {
      "text/html": [
       "<div style=\"width:100%;\"><div style=\"position:relative;width:100%;height:0;padding-bottom:60%;\"><span style=\"color:#565656\">Make this Notebook Trusted to load map: File -> Trust Notebook</span><iframe src=\"about:blank\" style=\"position:absolute;width:100%;height:100%;left:0;top:0;border:none !important;\" data-html=%3C%21DOCTYPE%20html%3E%0A%3Chead%3E%20%20%20%20%0A%20%20%20%20%3Cmeta%20http-equiv%3D%22content-type%22%20content%3D%22text/html%3B%20charset%3DUTF-8%22%20/%3E%0A%20%20%20%20%0A%20%20%20%20%20%20%20%20%3Cscript%3E%0A%20%20%20%20%20%20%20%20%20%20%20%20L_NO_TOUCH%20%3D%20false%3B%0A%20%20%20%20%20%20%20%20%20%20%20%20L_DISABLE_3D%20%3D%20false%3B%0A%20%20%20%20%20%20%20%20%3C/script%3E%0A%20%20%20%20%0A%20%20%20%20%3Cstyle%3Ehtml%2C%20body%20%7Bwidth%3A%20100%25%3Bheight%3A%20100%25%3Bmargin%3A%200%3Bpadding%3A%200%3B%7D%3C/style%3E%0A%20%20%20%20%3Cstyle%3E%23map%20%7Bposition%3Aabsolute%3Btop%3A0%3Bbottom%3A0%3Bright%3A0%3Bleft%3A0%3B%7D%3C/style%3E%0A%20%20%20%20%3Cscript%20src%3D%22https%3A//cdn.jsdelivr.net/npm/leaflet%401.6.0/dist/leaflet.js%22%3E%3C/script%3E%0A%20%20%20%20%3Cscript%20src%3D%22https%3A//code.jquery.com/jquery-1.12.4.min.js%22%3E%3C/script%3E%0A%20%20%20%20%3Cscript%20src%3D%22https%3A//maxcdn.bootstrapcdn.com/bootstrap/3.2.0/js/bootstrap.min.js%22%3E%3C/script%3E%0A%20%20%20%20%3Cscript%20src%3D%22https%3A//cdnjs.cloudflare.com/ajax/libs/Leaflet.awesome-markers/2.0.2/leaflet.awesome-markers.js%22%3E%3C/script%3E%0A%20%20%20%20%3Clink%20rel%3D%22stylesheet%22%20href%3D%22https%3A//cdn.jsdelivr.net/npm/leaflet%401.6.0/dist/leaflet.css%22/%3E%0A%20%20%20%20%3Clink%20rel%3D%22stylesheet%22%20href%3D%22https%3A//maxcdn.bootstrapcdn.com/bootstrap/3.2.0/css/bootstrap.min.css%22/%3E%0A%20%20%20%20%3Clink%20rel%3D%22stylesheet%22%20href%3D%22https%3A//maxcdn.bootstrapcdn.com/bootstrap/3.2.0/css/bootstrap-theme.min.css%22/%3E%0A%20%20%20%20%3Clink%20rel%3D%22stylesheet%22%20href%3D%22https%3A//maxcdn.bootstrapcdn.com/font-awesome/4.6.3/css/font-awesome.min.css%22/%3E%0A%20%20%20%20%3Clink%20rel%3D%22stylesheet%22%20href%3D%22https%3A//cdnjs.cloudflare.com/ajax/libs/Leaflet.awesome-markers/2.0.2/leaflet.awesome-markers.css%22/%3E%0A%20%20%20%20%3Clink%20rel%3D%22stylesheet%22%20href%3D%22https%3A//cdn.jsdelivr.net/gh/python-visualization/folium/folium/templates/leaflet.awesome.rotate.min.css%22/%3E%0A%20%20%20%20%0A%20%20%20%20%20%20%20%20%20%20%20%20%3Cmeta%20name%3D%22viewport%22%20content%3D%22width%3Ddevice-width%2C%0A%20%20%20%20%20%20%20%20%20%20%20%20%20%20%20%20initial-scale%3D1.0%2C%20maximum-scale%3D1.0%2C%20user-scalable%3Dno%22%20/%3E%0A%20%20%20%20%20%20%20%20%20%20%20%20%3Cstyle%3E%0A%20%20%20%20%20%20%20%20%20%20%20%20%20%20%20%20%23map_fa5a7799256d419d8482c47aeb7fd3a9%20%7B%0A%20%20%20%20%20%20%20%20%20%20%20%20%20%20%20%20%20%20%20%20position%3A%20relative%3B%0A%20%20%20%20%20%20%20%20%20%20%20%20%20%20%20%20%20%20%20%20width%3A%20100.0%25%3B%0A%20%20%20%20%20%20%20%20%20%20%20%20%20%20%20%20%20%20%20%20height%3A%20100.0%25%3B%0A%20%20%20%20%20%20%20%20%20%20%20%20%20%20%20%20%20%20%20%20left%3A%200.0%25%3B%0A%20%20%20%20%20%20%20%20%20%20%20%20%20%20%20%20%20%20%20%20top%3A%200.0%25%3B%0A%20%20%20%20%20%20%20%20%20%20%20%20%20%20%20%20%7D%0A%20%20%20%20%20%20%20%20%20%20%20%20%3C/style%3E%0A%20%20%20%20%20%20%20%20%0A%20%20%20%20%3Cscript%20src%3D%22https%3A//cdn.jsdelivr.net/gh/python-visualization/folium%40master/folium/templates/leaflet_heat.min.js%22%3E%3C/script%3E%0A%3C/head%3E%0A%3Cbody%3E%20%20%20%20%0A%20%20%20%20%0A%20%20%20%20%20%20%20%20%20%20%20%20%3Cdiv%20class%3D%22folium-map%22%20id%3D%22map_fa5a7799256d419d8482c47aeb7fd3a9%22%20%3E%3C/div%3E%0A%20%20%20%20%20%20%20%20%0A%3C/body%3E%0A%3Cscript%3E%20%20%20%20%0A%20%20%20%20%0A%20%20%20%20%20%20%20%20%20%20%20%20var%20map_fa5a7799256d419d8482c47aeb7fd3a9%20%3D%20L.map%28%0A%20%20%20%20%20%20%20%20%20%20%20%20%20%20%20%20%22map_fa5a7799256d419d8482c47aeb7fd3a9%22%2C%0A%20%20%20%20%20%20%20%20%20%20%20%20%20%20%20%20%7B%0A%20%20%20%20%20%20%20%20%20%20%20%20%20%20%20%20%20%20%20%20center%3A%20%5B12.97%2C%2077.59%5D%2C%0A%20%20%20%20%20%20%20%20%20%20%20%20%20%20%20%20%20%20%20%20crs%3A%20L.CRS.EPSG3857%2C%0A%20%20%20%20%20%20%20%20%20%20%20%20%20%20%20%20%20%20%20%20zoom%3A%2012%2C%0A%20%20%20%20%20%20%20%20%20%20%20%20%20%20%20%20%20%20%20%20zoomControl%3A%20true%2C%0A%20%20%20%20%20%20%20%20%20%20%20%20%20%20%20%20%20%20%20%20preferCanvas%3A%20false%2C%0A%20%20%20%20%20%20%20%20%20%20%20%20%20%20%20%20%7D%0A%20%20%20%20%20%20%20%20%20%20%20%20%29%3B%0A%0A%20%20%20%20%20%20%20%20%20%20%20%20%0A%0A%20%20%20%20%20%20%20%20%0A%20%20%20%20%0A%20%20%20%20%20%20%20%20%20%20%20%20var%20tile_layer_9cbea1376cb34ab8aa201d8397dc0be4%20%3D%20L.tileLayer%28%0A%20%20%20%20%20%20%20%20%20%20%20%20%20%20%20%20%22https%3A//%7Bs%7D.tile.openstreetmap.org/%7Bz%7D/%7Bx%7D/%7By%7D.png%22%2C%0A%20%20%20%20%20%20%20%20%20%20%20%20%20%20%20%20%7B%22attribution%22%3A%20%22Data%20by%20%5Cu0026copy%3B%20%5Cu003ca%20href%3D%5C%22http%3A//openstreetmap.org%5C%22%5Cu003eOpenStreetMap%5Cu003c/a%5Cu003e%2C%20under%20%5Cu003ca%20href%3D%5C%22http%3A//www.openstreetmap.org/copyright%5C%22%5Cu003eODbL%5Cu003c/a%5Cu003e.%22%2C%20%22detectRetina%22%3A%20false%2C%20%22maxNativeZoom%22%3A%2018%2C%20%22maxZoom%22%3A%2018%2C%20%22minZoom%22%3A%200%2C%20%22noWrap%22%3A%20false%2C%20%22opacity%22%3A%201%2C%20%22subdomains%22%3A%20%22abc%22%2C%20%22tms%22%3A%20false%7D%0A%20%20%20%20%20%20%20%20%20%20%20%20%29.addTo%28map_fa5a7799256d419d8482c47aeb7fd3a9%29%3B%0A%20%20%20%20%20%20%20%20%0A%20%20%20%20%0A%20%20%20%20%20%20%20%20%20%20%20%20var%20heat_map_83f22af4632c42da9af1ad73e70aa929%20%3D%20L.heatLayer%28%0A%20%20%20%20%20%20%20%20%20%20%20%20%20%20%20%20%5B%5B12.9732913%2C%2077.6404672%2C%201.0%5D%2C%20%5B13.00540865%2C%2074.79460685941484%2C%206.0%5D%2C%20%5B12.9400321%2C%2077.6203272%2C%209.0%5D%2C%20%5B17.9895618%2C%2079.5967057%2C%2013.0%5D%2C%20%5B13.2227%2C%2078.5541977%2C%202.0%5D%5D%2C%0A%20%20%20%20%20%20%20%20%20%20%20%20%20%20%20%20%7B%22blur%22%3A%2015%2C%20%22maxZoom%22%3A%2018%2C%20%22minOpacity%22%3A%200.5%2C%20%22radius%22%3A%2015%2C%20%22zoom%22%3A%2020%7D%0A%20%20%20%20%20%20%20%20%20%20%20%20%29.addTo%28map_fa5a7799256d419d8482c47aeb7fd3a9%29%3B%0A%20%20%20%20%20%20%20%20%0A%3C/script%3E onload=\"this.contentDocument.open();this.contentDocument.write(    decodeURIComponent(this.getAttribute('data-html')));this.contentDocument.close();\" allowfullscreen webkitallowfullscreen mozallowfullscreen></iframe></div></div>"
      ],
      "text/plain": [
       "<folium.folium.Map at 0x1f81805fd00>"
      ]
     },
     "execution_count": 75,
     "metadata": {},
     "output_type": "execute_result"
    }
   ],
   "source": [
    "Heatmap_Zone('Mexican')"
   ]
  },
  {
   "cell_type": "code",
   "execution_count": 76,
   "metadata": {},
   "outputs": [
    {
     "data": {
      "text/html": [
       "<div style=\"width:100%;\"><div style=\"position:relative;width:100%;height:0;padding-bottom:60%;\"><span style=\"color:#565656\">Make this Notebook Trusted to load map: File -> Trust Notebook</span><iframe src=\"about:blank\" style=\"position:absolute;width:100%;height:100%;left:0;top:0;border:none !important;\" data-html=%3C%21DOCTYPE%20html%3E%0A%3Chead%3E%20%20%20%20%0A%20%20%20%20%3Cmeta%20http-equiv%3D%22content-type%22%20content%3D%22text/html%3B%20charset%3DUTF-8%22%20/%3E%0A%20%20%20%20%0A%20%20%20%20%20%20%20%20%3Cscript%3E%0A%20%20%20%20%20%20%20%20%20%20%20%20L_NO_TOUCH%20%3D%20false%3B%0A%20%20%20%20%20%20%20%20%20%20%20%20L_DISABLE_3D%20%3D%20false%3B%0A%20%20%20%20%20%20%20%20%3C/script%3E%0A%20%20%20%20%0A%20%20%20%20%3Cstyle%3Ehtml%2C%20body%20%7Bwidth%3A%20100%25%3Bheight%3A%20100%25%3Bmargin%3A%200%3Bpadding%3A%200%3B%7D%3C/style%3E%0A%20%20%20%20%3Cstyle%3E%23map%20%7Bposition%3Aabsolute%3Btop%3A0%3Bbottom%3A0%3Bright%3A0%3Bleft%3A0%3B%7D%3C/style%3E%0A%20%20%20%20%3Cscript%20src%3D%22https%3A//cdn.jsdelivr.net/npm/leaflet%401.6.0/dist/leaflet.js%22%3E%3C/script%3E%0A%20%20%20%20%3Cscript%20src%3D%22https%3A//code.jquery.com/jquery-1.12.4.min.js%22%3E%3C/script%3E%0A%20%20%20%20%3Cscript%20src%3D%22https%3A//maxcdn.bootstrapcdn.com/bootstrap/3.2.0/js/bootstrap.min.js%22%3E%3C/script%3E%0A%20%20%20%20%3Cscript%20src%3D%22https%3A//cdnjs.cloudflare.com/ajax/libs/Leaflet.awesome-markers/2.0.2/leaflet.awesome-markers.js%22%3E%3C/script%3E%0A%20%20%20%20%3Clink%20rel%3D%22stylesheet%22%20href%3D%22https%3A//cdn.jsdelivr.net/npm/leaflet%401.6.0/dist/leaflet.css%22/%3E%0A%20%20%20%20%3Clink%20rel%3D%22stylesheet%22%20href%3D%22https%3A//maxcdn.bootstrapcdn.com/bootstrap/3.2.0/css/bootstrap.min.css%22/%3E%0A%20%20%20%20%3Clink%20rel%3D%22stylesheet%22%20href%3D%22https%3A//maxcdn.bootstrapcdn.com/bootstrap/3.2.0/css/bootstrap-theme.min.css%22/%3E%0A%20%20%20%20%3Clink%20rel%3D%22stylesheet%22%20href%3D%22https%3A//maxcdn.bootstrapcdn.com/font-awesome/4.6.3/css/font-awesome.min.css%22/%3E%0A%20%20%20%20%3Clink%20rel%3D%22stylesheet%22%20href%3D%22https%3A//cdnjs.cloudflare.com/ajax/libs/Leaflet.awesome-markers/2.0.2/leaflet.awesome-markers.css%22/%3E%0A%20%20%20%20%3Clink%20rel%3D%22stylesheet%22%20href%3D%22https%3A//cdn.jsdelivr.net/gh/python-visualization/folium/folium/templates/leaflet.awesome.rotate.min.css%22/%3E%0A%20%20%20%20%0A%20%20%20%20%20%20%20%20%20%20%20%20%3Cmeta%20name%3D%22viewport%22%20content%3D%22width%3Ddevice-width%2C%0A%20%20%20%20%20%20%20%20%20%20%20%20%20%20%20%20initial-scale%3D1.0%2C%20maximum-scale%3D1.0%2C%20user-scalable%3Dno%22%20/%3E%0A%20%20%20%20%20%20%20%20%20%20%20%20%3Cstyle%3E%0A%20%20%20%20%20%20%20%20%20%20%20%20%20%20%20%20%23map_25f9d87724ca42a8982e37bab7549334%20%7B%0A%20%20%20%20%20%20%20%20%20%20%20%20%20%20%20%20%20%20%20%20position%3A%20relative%3B%0A%20%20%20%20%20%20%20%20%20%20%20%20%20%20%20%20%20%20%20%20width%3A%20100.0%25%3B%0A%20%20%20%20%20%20%20%20%20%20%20%20%20%20%20%20%20%20%20%20height%3A%20100.0%25%3B%0A%20%20%20%20%20%20%20%20%20%20%20%20%20%20%20%20%20%20%20%20left%3A%200.0%25%3B%0A%20%20%20%20%20%20%20%20%20%20%20%20%20%20%20%20%20%20%20%20top%3A%200.0%25%3B%0A%20%20%20%20%20%20%20%20%20%20%20%20%20%20%20%20%7D%0A%20%20%20%20%20%20%20%20%20%20%20%20%3C/style%3E%0A%20%20%20%20%20%20%20%20%0A%20%20%20%20%3Cscript%20src%3D%22https%3A//cdn.jsdelivr.net/gh/python-visualization/folium%40master/folium/templates/leaflet_heat.min.js%22%3E%3C/script%3E%0A%3C/head%3E%0A%3Cbody%3E%20%20%20%20%0A%20%20%20%20%0A%20%20%20%20%20%20%20%20%20%20%20%20%3Cdiv%20class%3D%22folium-map%22%20id%3D%22map_25f9d87724ca42a8982e37bab7549334%22%20%3E%3C/div%3E%0A%20%20%20%20%20%20%20%20%0A%3C/body%3E%0A%3Cscript%3E%20%20%20%20%0A%20%20%20%20%0A%20%20%20%20%20%20%20%20%20%20%20%20var%20map_25f9d87724ca42a8982e37bab7549334%20%3D%20L.map%28%0A%20%20%20%20%20%20%20%20%20%20%20%20%20%20%20%20%22map_25f9d87724ca42a8982e37bab7549334%22%2C%0A%20%20%20%20%20%20%20%20%20%20%20%20%20%20%20%20%7B%0A%20%20%20%20%20%20%20%20%20%20%20%20%20%20%20%20%20%20%20%20center%3A%20%5B12.97%2C%2077.59%5D%2C%0A%20%20%20%20%20%20%20%20%20%20%20%20%20%20%20%20%20%20%20%20crs%3A%20L.CRS.EPSG3857%2C%0A%20%20%20%20%20%20%20%20%20%20%20%20%20%20%20%20%20%20%20%20zoom%3A%2012%2C%0A%20%20%20%20%20%20%20%20%20%20%20%20%20%20%20%20%20%20%20%20zoomControl%3A%20true%2C%0A%20%20%20%20%20%20%20%20%20%20%20%20%20%20%20%20%20%20%20%20preferCanvas%3A%20false%2C%0A%20%20%20%20%20%20%20%20%20%20%20%20%20%20%20%20%7D%0A%20%20%20%20%20%20%20%20%20%20%20%20%29%3B%0A%0A%20%20%20%20%20%20%20%20%20%20%20%20%0A%0A%20%20%20%20%20%20%20%20%0A%20%20%20%20%0A%20%20%20%20%20%20%20%20%20%20%20%20var%20tile_layer_605c2f1380e941329f5eaf4ebf6b92f8%20%3D%20L.tileLayer%28%0A%20%20%20%20%20%20%20%20%20%20%20%20%20%20%20%20%22https%3A//%7Bs%7D.tile.openstreetmap.org/%7Bz%7D/%7Bx%7D/%7By%7D.png%22%2C%0A%20%20%20%20%20%20%20%20%20%20%20%20%20%20%20%20%7B%22attribution%22%3A%20%22Data%20by%20%5Cu0026copy%3B%20%5Cu003ca%20href%3D%5C%22http%3A//openstreetmap.org%5C%22%5Cu003eOpenStreetMap%5Cu003c/a%5Cu003e%2C%20under%20%5Cu003ca%20href%3D%5C%22http%3A//www.openstreetmap.org/copyright%5C%22%5Cu003eODbL%5Cu003c/a%5Cu003e.%22%2C%20%22detectRetina%22%3A%20false%2C%20%22maxNativeZoom%22%3A%2018%2C%20%22maxZoom%22%3A%2018%2C%20%22minZoom%22%3A%200%2C%20%22noWrap%22%3A%20false%2C%20%22opacity%22%3A%201%2C%20%22subdomains%22%3A%20%22abc%22%2C%20%22tms%22%3A%20false%7D%0A%20%20%20%20%20%20%20%20%20%20%20%20%29.addTo%28map_25f9d87724ca42a8982e37bab7549334%29%3B%0A%20%20%20%20%20%20%20%20%0A%20%20%20%20%0A%20%20%20%20%20%20%20%20%20%20%20%20var%20heat_map_4ba79443682a467f85c3037c245cfe9d%20%3D%20L.heatLayer%28%0A%20%20%20%20%20%20%20%20%20%20%20%20%20%20%20%20%5B%5B45.95485055%2C%20-112.49659530324134%2C%206.0%5D%2C%20%5B15.8876779%2C%2075.7046777%2C%2025.0%5D%2C%20%5B13.0141618%2C%2077.6518539%2C%209.0%5D%2C%20%5B12.887979%2C%2077.5970812%2C%203.0%5D%2C%20%5B12.9417261%2C%2077.5755021%2C%2044.0%5D%2C%20%5B40.28745%2C%20-76.964526%2C%2012.0%5D%2C%20%5B33.5935063%2C%20-79.0345627%2C%203.0%5D%2C%20%5B51.373656%2C%20-0.1042366%2C%205.0%5D%2C%20%5B39.76880625%2C%20-86.15345077251979%2C%204.0%5D%2C%20%5B51.5173375%2C%20-0.073532%2C%206.0%5D%2C%20%5B-6.2659285%2C%20106.7842561%2C%204.0%5D%2C%20%5B12.996845%2C%2077.6130165%2C%202.0%5D%2C%20%5B18.1475%2C%2041.538889%2C%2026.0%5D%2C%20%5B12.9732913%2C%2077.6404672%2C%2015.0%5D%2C%20%5B12.2655944%2C%2076.6465404%2C%2010.0%5D%2C%20%5B27.64392675%2C%2083.05280519687284%2C%2028.0%5D%2C%20%5B12.9678074%2C%2077.6568367%2C%205.0%5D%2C%20%5B12.9846713%2C%2077.6790908%2C%203.0%5D%2C%20%5B13.0221416%2C%2077.6403368%2C%2011.0%5D%2C%20%5B13.00540865%2C%2074.79460685941484%2C%2015.0%5D%2C%20%5B12.9400321%2C%2077.6203272%2C%2013.0%5D%2C%20%5B17.9895618%2C%2079.5967057%2C%205.0%5D%2C%20%5B1.2847055%2C%20103.84320655721689%2C%204.0%5D%2C%20%5B13.0027353%2C%2077.5703253%2C%2028.0%5D%2C%20%5B12.9552572%2C%2077.6984163%2C%205.0%5D%2C%20%5B13.0346384%2C%2077.5681733%2C%205.0%5D%2C%20%5B13.0227204%2C%2077.595715%2C%201.0%5D%2C%20%5B22.3146438%2C%2073.1597756%2C%209.0%5D%2C%20%5B12.9882338%2C%2077.554883%2C%204.0%5D%2C%20%5B50.7721586%2C%200.09772783661369303%2C%2014.0%5D%2C%20%5B23.1485712%2C%2081.6048241%2C%201.0%5D%2C%20%5B38.7801076%2C%20-121.5056438%2C%201.0%5D%2C%20%5B12.9242381%2C%2077.6289059%2C%205.0%5D%2C%20%5B12.9931876%2C%2077.5753419%2C%203.0%5D%2C%20%5B51.5227651%2C%20-0.7354457%2C%205.0%5D%2C%20%5B12.973936%2C%2077.6509982%2C%201.0%5D%2C%20%5B22.8359967%2C%2069.3405962%2C%201.0%5D%2C%20%5B44.3730577%2C%20-71.6118577%2C%2011.0%5D%2C%20%5B12.9489339%2C%2077.5968273%2C%207.0%5D%5D%2C%0A%20%20%20%20%20%20%20%20%20%20%20%20%20%20%20%20%7B%22blur%22%3A%2015%2C%20%22maxZoom%22%3A%2018%2C%20%22minOpacity%22%3A%200.5%2C%20%22radius%22%3A%2015%2C%20%22zoom%22%3A%2020%7D%0A%20%20%20%20%20%20%20%20%20%20%20%20%29.addTo%28map_25f9d87724ca42a8982e37bab7549334%29%3B%0A%20%20%20%20%20%20%20%20%0A%3C/script%3E onload=\"this.contentDocument.open();this.contentDocument.write(    decodeURIComponent(this.getAttribute('data-html')));this.contentDocument.close();\" allowfullscreen webkitallowfullscreen mozallowfullscreen></iframe></div></div>"
      ],
      "text/plain": [
       "<folium.folium.Map at 0x1f8195267c0>"
      ]
     },
     "execution_count": 76,
     "metadata": {},
     "output_type": "execute_result"
    }
   ],
   "source": [
    "Heatmap_Zone('South Indian')"
   ]
  },
  {
   "cell_type": "markdown",
   "metadata": {},
   "source": [
    "South Indian cuisine is highly consumed in Someshwaranagar; therefore restaurant business in that area should focus on  preparing South Indian Cuisine"
   ]
  },
  {
   "cell_type": "code",
   "execution_count": 77,
   "metadata": {},
   "outputs": [
    {
     "data": {
      "text/html": [
       "<div style=\"width:100%;\"><div style=\"position:relative;width:100%;height:0;padding-bottom:60%;\"><span style=\"color:#565656\">Make this Notebook Trusted to load map: File -> Trust Notebook</span><iframe src=\"about:blank\" style=\"position:absolute;width:100%;height:100%;left:0;top:0;border:none !important;\" data-html=%3C%21DOCTYPE%20html%3E%0A%3Chead%3E%20%20%20%20%0A%20%20%20%20%3Cmeta%20http-equiv%3D%22content-type%22%20content%3D%22text/html%3B%20charset%3DUTF-8%22%20/%3E%0A%20%20%20%20%0A%20%20%20%20%20%20%20%20%3Cscript%3E%0A%20%20%20%20%20%20%20%20%20%20%20%20L_NO_TOUCH%20%3D%20false%3B%0A%20%20%20%20%20%20%20%20%20%20%20%20L_DISABLE_3D%20%3D%20false%3B%0A%20%20%20%20%20%20%20%20%3C/script%3E%0A%20%20%20%20%0A%20%20%20%20%3Cstyle%3Ehtml%2C%20body%20%7Bwidth%3A%20100%25%3Bheight%3A%20100%25%3Bmargin%3A%200%3Bpadding%3A%200%3B%7D%3C/style%3E%0A%20%20%20%20%3Cstyle%3E%23map%20%7Bposition%3Aabsolute%3Btop%3A0%3Bbottom%3A0%3Bright%3A0%3Bleft%3A0%3B%7D%3C/style%3E%0A%20%20%20%20%3Cscript%20src%3D%22https%3A//cdn.jsdelivr.net/npm/leaflet%401.6.0/dist/leaflet.js%22%3E%3C/script%3E%0A%20%20%20%20%3Cscript%20src%3D%22https%3A//code.jquery.com/jquery-1.12.4.min.js%22%3E%3C/script%3E%0A%20%20%20%20%3Cscript%20src%3D%22https%3A//maxcdn.bootstrapcdn.com/bootstrap/3.2.0/js/bootstrap.min.js%22%3E%3C/script%3E%0A%20%20%20%20%3Cscript%20src%3D%22https%3A//cdnjs.cloudflare.com/ajax/libs/Leaflet.awesome-markers/2.0.2/leaflet.awesome-markers.js%22%3E%3C/script%3E%0A%20%20%20%20%3Clink%20rel%3D%22stylesheet%22%20href%3D%22https%3A//cdn.jsdelivr.net/npm/leaflet%401.6.0/dist/leaflet.css%22/%3E%0A%20%20%20%20%3Clink%20rel%3D%22stylesheet%22%20href%3D%22https%3A//maxcdn.bootstrapcdn.com/bootstrap/3.2.0/css/bootstrap.min.css%22/%3E%0A%20%20%20%20%3Clink%20rel%3D%22stylesheet%22%20href%3D%22https%3A//maxcdn.bootstrapcdn.com/bootstrap/3.2.0/css/bootstrap-theme.min.css%22/%3E%0A%20%20%20%20%3Clink%20rel%3D%22stylesheet%22%20href%3D%22https%3A//maxcdn.bootstrapcdn.com/font-awesome/4.6.3/css/font-awesome.min.css%22/%3E%0A%20%20%20%20%3Clink%20rel%3D%22stylesheet%22%20href%3D%22https%3A//cdnjs.cloudflare.com/ajax/libs/Leaflet.awesome-markers/2.0.2/leaflet.awesome-markers.css%22/%3E%0A%20%20%20%20%3Clink%20rel%3D%22stylesheet%22%20href%3D%22https%3A//cdn.jsdelivr.net/gh/python-visualization/folium/folium/templates/leaflet.awesome.rotate.min.css%22/%3E%0A%20%20%20%20%0A%20%20%20%20%20%20%20%20%20%20%20%20%3Cmeta%20name%3D%22viewport%22%20content%3D%22width%3Ddevice-width%2C%0A%20%20%20%20%20%20%20%20%20%20%20%20%20%20%20%20initial-scale%3D1.0%2C%20maximum-scale%3D1.0%2C%20user-scalable%3Dno%22%20/%3E%0A%20%20%20%20%20%20%20%20%20%20%20%20%3Cstyle%3E%0A%20%20%20%20%20%20%20%20%20%20%20%20%20%20%20%20%23map_66a09f5b70bc44718449a0a2d945debb%20%7B%0A%20%20%20%20%20%20%20%20%20%20%20%20%20%20%20%20%20%20%20%20position%3A%20relative%3B%0A%20%20%20%20%20%20%20%20%20%20%20%20%20%20%20%20%20%20%20%20width%3A%20100.0%25%3B%0A%20%20%20%20%20%20%20%20%20%20%20%20%20%20%20%20%20%20%20%20height%3A%20100.0%25%3B%0A%20%20%20%20%20%20%20%20%20%20%20%20%20%20%20%20%20%20%20%20left%3A%200.0%25%3B%0A%20%20%20%20%20%20%20%20%20%20%20%20%20%20%20%20%20%20%20%20top%3A%200.0%25%3B%0A%20%20%20%20%20%20%20%20%20%20%20%20%20%20%20%20%7D%0A%20%20%20%20%20%20%20%20%20%20%20%20%3C/style%3E%0A%20%20%20%20%20%20%20%20%0A%20%20%20%20%3Cscript%20src%3D%22https%3A//cdn.jsdelivr.net/gh/python-visualization/folium%40master/folium/templates/leaflet_heat.min.js%22%3E%3C/script%3E%0A%3C/head%3E%0A%3Cbody%3E%20%20%20%20%0A%20%20%20%20%0A%20%20%20%20%20%20%20%20%20%20%20%20%3Cdiv%20class%3D%22folium-map%22%20id%3D%22map_66a09f5b70bc44718449a0a2d945debb%22%20%3E%3C/div%3E%0A%20%20%20%20%20%20%20%20%0A%3C/body%3E%0A%3Cscript%3E%20%20%20%20%0A%20%20%20%20%0A%20%20%20%20%20%20%20%20%20%20%20%20var%20map_66a09f5b70bc44718449a0a2d945debb%20%3D%20L.map%28%0A%20%20%20%20%20%20%20%20%20%20%20%20%20%20%20%20%22map_66a09f5b70bc44718449a0a2d945debb%22%2C%0A%20%20%20%20%20%20%20%20%20%20%20%20%20%20%20%20%7B%0A%20%20%20%20%20%20%20%20%20%20%20%20%20%20%20%20%20%20%20%20center%3A%20%5B12.97%2C%2077.59%5D%2C%0A%20%20%20%20%20%20%20%20%20%20%20%20%20%20%20%20%20%20%20%20crs%3A%20L.CRS.EPSG3857%2C%0A%20%20%20%20%20%20%20%20%20%20%20%20%20%20%20%20%20%20%20%20zoom%3A%2012%2C%0A%20%20%20%20%20%20%20%20%20%20%20%20%20%20%20%20%20%20%20%20zoomControl%3A%20true%2C%0A%20%20%20%20%20%20%20%20%20%20%20%20%20%20%20%20%20%20%20%20preferCanvas%3A%20false%2C%0A%20%20%20%20%20%20%20%20%20%20%20%20%20%20%20%20%7D%0A%20%20%20%20%20%20%20%20%20%20%20%20%29%3B%0A%0A%20%20%20%20%20%20%20%20%20%20%20%20%0A%0A%20%20%20%20%20%20%20%20%0A%20%20%20%20%0A%20%20%20%20%20%20%20%20%20%20%20%20var%20tile_layer_6672304a89024466ba8c3772c31fe9f3%20%3D%20L.tileLayer%28%0A%20%20%20%20%20%20%20%20%20%20%20%20%20%20%20%20%22https%3A//%7Bs%7D.tile.openstreetmap.org/%7Bz%7D/%7Bx%7D/%7By%7D.png%22%2C%0A%20%20%20%20%20%20%20%20%20%20%20%20%20%20%20%20%7B%22attribution%22%3A%20%22Data%20by%20%5Cu0026copy%3B%20%5Cu003ca%20href%3D%5C%22http%3A//openstreetmap.org%5C%22%5Cu003eOpenStreetMap%5Cu003c/a%5Cu003e%2C%20under%20%5Cu003ca%20href%3D%5C%22http%3A//www.openstreetmap.org/copyright%5C%22%5Cu003eODbL%5Cu003c/a%5Cu003e.%22%2C%20%22detectRetina%22%3A%20false%2C%20%22maxNativeZoom%22%3A%2018%2C%20%22maxZoom%22%3A%2018%2C%20%22minZoom%22%3A%200%2C%20%22noWrap%22%3A%20false%2C%20%22opacity%22%3A%201%2C%20%22subdomains%22%3A%20%22abc%22%2C%20%22tms%22%3A%20false%7D%0A%20%20%20%20%20%20%20%20%20%20%20%20%29.addTo%28map_66a09f5b70bc44718449a0a2d945debb%29%3B%0A%20%20%20%20%20%20%20%20%0A%20%20%20%20%0A%20%20%20%20%20%20%20%20%20%20%20%20var%20heat_map_da25135ca5b64d09ac4ced1c757be452%20%3D%20L.heatLayer%28%0A%20%20%20%20%20%20%20%20%20%20%20%20%20%20%20%20%5B%5B45.95485055%2C%20-112.49659530324134%2C%2086.0%5D%2C%20%5B15.8876779%2C%2075.7046777%2C%2010.0%5D%2C%20%5B13.0141618%2C%2077.6518539%2C%204.0%5D%2C%20%5B12.887979%2C%2077.5970812%2C%2036.0%5D%2C%20%5B12.9417261%2C%2077.5755021%2C%2012.0%5D%2C%20%5B12.9932739%2C%2077.5388099%2C%201.0%5D%2C%20%5B12.93577245%2C%2077.66676103753434%2C%2057.0%5D%2C%20%5B40.28745%2C%20-76.964526%2C%2012.0%5D%2C%20%5B33.5935063%2C%20-79.0345627%2C%2023.0%5D%2C%20%5B17.2510682%2C%2080.1651978%2C%203.0%5D%2C%20%5B51.373656%2C%20-0.1042366%2C%2029.0%5D%2C%20%5B12.9624669%2C%2077.6381958%2C%2016.0%5D%2C%20%5B12.945245%2C%2077.6269144%2C%2024.0%5D%2C%20%5B-6.2659285%2C%20106.7842561%2C%2011.0%5D%2C%20%5B12.996845%2C%2077.6130165%2C%2027.0%5D%2C%20%5B18.1475%2C%2041.538889%2C%2058.0%5D%2C%20%5B13.0258087%2C%2077.6305067%2C%202.0%5D%2C%20%5B12.773175%2C%2077.7831871%2C%208.0%5D%2C%20%5B12.967576%2C%2077.7150877%2C%205.0%5D%2C%20%5B12.9732913%2C%2077.6404672%2C%2058.0%5D%2C%20%5B12.2655944%2C%2076.6465404%2C%2068.0%5D%2C%20%5B27.64392675%2C%2083.05280519687284%2C%2012.0%5D%2C%20%5B12.9678074%2C%2077.6568367%2C%2012.0%5D%2C%20%5B12.9846713%2C%2077.6790908%2C%202.0%5D%2C%20%5B13.0221416%2C%2077.6403368%2C%2015.0%5D%2C%20%5B13.0093455%2C%2077.6377094%2C%204.0%5D%2C%20%5B14.5395813%2C%20121.070371%2C%2055.0%5D%2C%20%5B12.93433385%2C%2077.63040639553275%2C%2049.0%5D%2C%20%5B13.00540865%2C%2074.79460685941484%2C%2038.0%5D%2C%20%5B12.9400321%2C%2077.6203272%2C%2036.0%5D%2C%20%5B13.0078418%2C%2074.7963208%2C%2081.0%5D%2C%20%5B12.9081487%2C%2077.5553179%2C%205.0%5D%2C%20%5B17.9895618%2C%2079.5967057%2C%2012.0%5D%2C%20%5B1.2847055%2C%20103.84320655721689%2C%201.0%5D%2C%20%5B13.0027353%2C%2077.5703253%2C%208.0%5D%2C%20%5B12.9552572%2C%2077.6984163%2C%2054.0%5D%2C%20%5B13.2227%2C%2078.5541977%2C%203.0%5D%2C%20%5B13.0346384%2C%2077.5681733%2C%207.0%5D%2C%20%5B-8.9189606%2C%2033.4588989%2C%204.0%5D%2C%20%5B13.0227204%2C%2077.595715%2C%202.0%5D%2C%20%5B12.9882338%2C%2077.554883%2C%204.0%5D%2C%20%5B38.7385916%2C%20-77.5275749%2C%2019.0%5D%2C%20%5B50.7721586%2C%200.09772783661369303%2C%2014.0%5D%2C%20%5B15.8782951%2C%2074.5084834%2C%205.0%5D%2C%20%5B23.1485712%2C%2081.6048241%2C%201.0%5D%2C%20%5B38.7801076%2C%20-121.5056438%2C%203.0%5D%2C%20%5B12.9242381%2C%2077.6289059%2C%2013.0%5D%2C%20%5B12.9931876%2C%2077.5753419%2C%206.0%5D%2C%20%5B12.9575547%2C%2077.5979099%2C%2012.0%5D%2C%20%5B12.973936%2C%2077.6509982%2C%204.0%5D%2C%20%5B12.9778793%2C%2077.6246697%2C%2030.0%5D%2C%20%5B12.9414662%2C%2077.7470942%2C%203.0%5D%2C%20%5B12.988721250000001%2C%2077.58516877601824%2C%209.0%5D%2C%20%5B44.3730577%2C%20-71.6118577%2C%2071.0%5D%5D%2C%0A%20%20%20%20%20%20%20%20%20%20%20%20%20%20%20%20%7B%22blur%22%3A%2015%2C%20%22maxZoom%22%3A%2018%2C%20%22minOpacity%22%3A%200.5%2C%20%22radius%22%3A%2015%2C%20%22zoom%22%3A%2020%7D%0A%20%20%20%20%20%20%20%20%20%20%20%20%29.addTo%28map_66a09f5b70bc44718449a0a2d945debb%29%3B%0A%20%20%20%20%20%20%20%20%0A%3C/script%3E onload=\"this.contentDocument.open();this.contentDocument.write(    decodeURIComponent(this.getAttribute('data-html')));this.contentDocument.close();\" allowfullscreen webkitallowfullscreen mozallowfullscreen></iframe></div></div>"
      ],
      "text/plain": [
       "<folium.folium.Map at 0x1f812509580>"
      ]
     },
     "execution_count": 77,
     "metadata": {},
     "output_type": "execute_result"
    }
   ],
   "source": [
    "Heatmap_Zone('North Indian')"
   ]
  },
  {
   "cell_type": "code",
   "execution_count": 79,
   "metadata": {},
   "outputs": [
    {
     "data": {
      "text/html": [
       "<div style=\"width:100%;\"><div style=\"position:relative;width:100%;height:0;padding-bottom:60%;\"><span style=\"color:#565656\">Make this Notebook Trusted to load map: File -> Trust Notebook</span><iframe src=\"about:blank\" style=\"position:absolute;width:100%;height:100%;left:0;top:0;border:none !important;\" data-html=%3C%21DOCTYPE%20html%3E%0A%3Chead%3E%20%20%20%20%0A%20%20%20%20%3Cmeta%20http-equiv%3D%22content-type%22%20content%3D%22text/html%3B%20charset%3DUTF-8%22%20/%3E%0A%20%20%20%20%0A%20%20%20%20%20%20%20%20%3Cscript%3E%0A%20%20%20%20%20%20%20%20%20%20%20%20L_NO_TOUCH%20%3D%20false%3B%0A%20%20%20%20%20%20%20%20%20%20%20%20L_DISABLE_3D%20%3D%20false%3B%0A%20%20%20%20%20%20%20%20%3C/script%3E%0A%20%20%20%20%0A%20%20%20%20%3Cstyle%3Ehtml%2C%20body%20%7Bwidth%3A%20100%25%3Bheight%3A%20100%25%3Bmargin%3A%200%3Bpadding%3A%200%3B%7D%3C/style%3E%0A%20%20%20%20%3Cstyle%3E%23map%20%7Bposition%3Aabsolute%3Btop%3A0%3Bbottom%3A0%3Bright%3A0%3Bleft%3A0%3B%7D%3C/style%3E%0A%20%20%20%20%3Cscript%20src%3D%22https%3A//cdn.jsdelivr.net/npm/leaflet%401.6.0/dist/leaflet.js%22%3E%3C/script%3E%0A%20%20%20%20%3Cscript%20src%3D%22https%3A//code.jquery.com/jquery-1.12.4.min.js%22%3E%3C/script%3E%0A%20%20%20%20%3Cscript%20src%3D%22https%3A//maxcdn.bootstrapcdn.com/bootstrap/3.2.0/js/bootstrap.min.js%22%3E%3C/script%3E%0A%20%20%20%20%3Cscript%20src%3D%22https%3A//cdnjs.cloudflare.com/ajax/libs/Leaflet.awesome-markers/2.0.2/leaflet.awesome-markers.js%22%3E%3C/script%3E%0A%20%20%20%20%3Clink%20rel%3D%22stylesheet%22%20href%3D%22https%3A//cdn.jsdelivr.net/npm/leaflet%401.6.0/dist/leaflet.css%22/%3E%0A%20%20%20%20%3Clink%20rel%3D%22stylesheet%22%20href%3D%22https%3A//maxcdn.bootstrapcdn.com/bootstrap/3.2.0/css/bootstrap.min.css%22/%3E%0A%20%20%20%20%3Clink%20rel%3D%22stylesheet%22%20href%3D%22https%3A//maxcdn.bootstrapcdn.com/bootstrap/3.2.0/css/bootstrap-theme.min.css%22/%3E%0A%20%20%20%20%3Clink%20rel%3D%22stylesheet%22%20href%3D%22https%3A//maxcdn.bootstrapcdn.com/font-awesome/4.6.3/css/font-awesome.min.css%22/%3E%0A%20%20%20%20%3Clink%20rel%3D%22stylesheet%22%20href%3D%22https%3A//cdnjs.cloudflare.com/ajax/libs/Leaflet.awesome-markers/2.0.2/leaflet.awesome-markers.css%22/%3E%0A%20%20%20%20%3Clink%20rel%3D%22stylesheet%22%20href%3D%22https%3A//cdn.jsdelivr.net/gh/python-visualization/folium/folium/templates/leaflet.awesome.rotate.min.css%22/%3E%0A%20%20%20%20%0A%20%20%20%20%20%20%20%20%20%20%20%20%3Cmeta%20name%3D%22viewport%22%20content%3D%22width%3Ddevice-width%2C%0A%20%20%20%20%20%20%20%20%20%20%20%20%20%20%20%20initial-scale%3D1.0%2C%20maximum-scale%3D1.0%2C%20user-scalable%3Dno%22%20/%3E%0A%20%20%20%20%20%20%20%20%20%20%20%20%3Cstyle%3E%0A%20%20%20%20%20%20%20%20%20%20%20%20%20%20%20%20%23map_f561fda1e7ae4f478e5728c435cd06f4%20%7B%0A%20%20%20%20%20%20%20%20%20%20%20%20%20%20%20%20%20%20%20%20position%3A%20relative%3B%0A%20%20%20%20%20%20%20%20%20%20%20%20%20%20%20%20%20%20%20%20width%3A%20100.0%25%3B%0A%20%20%20%20%20%20%20%20%20%20%20%20%20%20%20%20%20%20%20%20height%3A%20100.0%25%3B%0A%20%20%20%20%20%20%20%20%20%20%20%20%20%20%20%20%20%20%20%20left%3A%200.0%25%3B%0A%20%20%20%20%20%20%20%20%20%20%20%20%20%20%20%20%20%20%20%20top%3A%200.0%25%3B%0A%20%20%20%20%20%20%20%20%20%20%20%20%20%20%20%20%7D%0A%20%20%20%20%20%20%20%20%20%20%20%20%3C/style%3E%0A%20%20%20%20%20%20%20%20%0A%20%20%20%20%3Cscript%20src%3D%22https%3A//cdn.jsdelivr.net/gh/python-visualization/folium%40master/folium/templates/leaflet_heat.min.js%22%3E%3C/script%3E%0A%3C/head%3E%0A%3Cbody%3E%20%20%20%20%0A%20%20%20%20%0A%20%20%20%20%20%20%20%20%20%20%20%20%3Cdiv%20class%3D%22folium-map%22%20id%3D%22map_f561fda1e7ae4f478e5728c435cd06f4%22%20%3E%3C/div%3E%0A%20%20%20%20%20%20%20%20%0A%3C/body%3E%0A%3Cscript%3E%20%20%20%20%0A%20%20%20%20%0A%20%20%20%20%20%20%20%20%20%20%20%20var%20map_f561fda1e7ae4f478e5728c435cd06f4%20%3D%20L.map%28%0A%20%20%20%20%20%20%20%20%20%20%20%20%20%20%20%20%22map_f561fda1e7ae4f478e5728c435cd06f4%22%2C%0A%20%20%20%20%20%20%20%20%20%20%20%20%20%20%20%20%7B%0A%20%20%20%20%20%20%20%20%20%20%20%20%20%20%20%20%20%20%20%20center%3A%20%5B12.97%2C%2077.59%5D%2C%0A%20%20%20%20%20%20%20%20%20%20%20%20%20%20%20%20%20%20%20%20crs%3A%20L.CRS.EPSG3857%2C%0A%20%20%20%20%20%20%20%20%20%20%20%20%20%20%20%20%20%20%20%20zoom%3A%2012%2C%0A%20%20%20%20%20%20%20%20%20%20%20%20%20%20%20%20%20%20%20%20zoomControl%3A%20true%2C%0A%20%20%20%20%20%20%20%20%20%20%20%20%20%20%20%20%20%20%20%20preferCanvas%3A%20false%2C%0A%20%20%20%20%20%20%20%20%20%20%20%20%20%20%20%20%7D%0A%20%20%20%20%20%20%20%20%20%20%20%20%29%3B%0A%0A%20%20%20%20%20%20%20%20%20%20%20%20%0A%0A%20%20%20%20%20%20%20%20%0A%20%20%20%20%0A%20%20%20%20%20%20%20%20%20%20%20%20var%20tile_layer_0181ee0ddd55436c8131068c1691e4fb%20%3D%20L.tileLayer%28%0A%20%20%20%20%20%20%20%20%20%20%20%20%20%20%20%20%22https%3A//%7Bs%7D.tile.openstreetmap.org/%7Bz%7D/%7Bx%7D/%7By%7D.png%22%2C%0A%20%20%20%20%20%20%20%20%20%20%20%20%20%20%20%20%7B%22attribution%22%3A%20%22Data%20by%20%5Cu0026copy%3B%20%5Cu003ca%20href%3D%5C%22http%3A//openstreetmap.org%5C%22%5Cu003eOpenStreetMap%5Cu003c/a%5Cu003e%2C%20under%20%5Cu003ca%20href%3D%5C%22http%3A//www.openstreetmap.org/copyright%5C%22%5Cu003eODbL%5Cu003c/a%5Cu003e.%22%2C%20%22detectRetina%22%3A%20false%2C%20%22maxNativeZoom%22%3A%2018%2C%20%22maxZoom%22%3A%2018%2C%20%22minZoom%22%3A%200%2C%20%22noWrap%22%3A%20false%2C%20%22opacity%22%3A%201%2C%20%22subdomains%22%3A%20%22abc%22%2C%20%22tms%22%3A%20false%7D%0A%20%20%20%20%20%20%20%20%20%20%20%20%29.addTo%28map_f561fda1e7ae4f478e5728c435cd06f4%29%3B%0A%20%20%20%20%20%20%20%20%0A%20%20%20%20%0A%20%20%20%20%20%20%20%20%20%20%20%20var%20heat_map_733481f0dcb8427c9d3948346100c898%20%3D%20L.heatLayer%28%0A%20%20%20%20%20%20%20%20%20%20%20%20%20%20%20%20%5B%5B45.95485055%2C%20-112.49659530324134%2C%2011.0%5D%2C%20%5B13.0141618%2C%2077.6518539%2C%207.0%5D%2C%20%5B12.887979%2C%2077.5970812%2C%207.0%5D%2C%20%5B51.373656%2C%20-0.1042366%2C%2021.0%5D%2C%20%5B31.89376%2C%20-88.066644%2C%204.0%5D%2C%20%5B-6.2659285%2C%20106.7842561%2C%202.0%5D%2C%20%5B12.996845%2C%2077.6130165%2C%205.0%5D%2C%20%5B18.1475%2C%2041.538889%2C%209.0%5D%2C%20%5B12.9732913%2C%2077.6404672%2C%2018.0%5D%2C%20%5B12.2655944%2C%2076.6465404%2C%208.0%5D%2C%20%5B27.64392675%2C%2083.05280519687284%2C%206.0%5D%2C%20%5B13.0221416%2C%2077.6403368%2C%208.0%5D%2C%20%5B13.0093455%2C%2077.6377094%2C%204.0%5D%2C%20%5B12.9400321%2C%2077.6203272%2C%2025.0%5D%2C%20%5B12.9417812%2C%2077.6160146%2C%202.0%5D%2C%20%5B17.9895618%2C%2079.5967057%2C%206.0%5D%2C%20%5B13.0027353%2C%2077.5703253%2C%206.0%5D%2C%20%5B12.9552572%2C%2077.6984163%2C%206.0%5D%2C%20%5B13.2227%2C%2078.5541977%2C%202.0%5D%2C%20%5B12.9882338%2C%2077.554883%2C%203.0%5D%2C%20%5B38.7385916%2C%20-77.5275749%2C%2019.0%5D%2C%20%5B50.7721586%2C%200.09772783661369303%2C%2025.0%5D%2C%20%5B44.3730577%2C%20-71.6118577%2C%206.0%5D%5D%2C%0A%20%20%20%20%20%20%20%20%20%20%20%20%20%20%20%20%7B%22blur%22%3A%2015%2C%20%22maxZoom%22%3A%2018%2C%20%22minOpacity%22%3A%200.5%2C%20%22radius%22%3A%2015%2C%20%22zoom%22%3A%2020%7D%0A%20%20%20%20%20%20%20%20%20%20%20%20%29.addTo%28map_f561fda1e7ae4f478e5728c435cd06f4%29%3B%0A%20%20%20%20%20%20%20%20%0A%3C/script%3E onload=\"this.contentDocument.open();this.contentDocument.write(    decodeURIComponent(this.getAttribute('data-html')));this.contentDocument.close();\" allowfullscreen webkitallowfullscreen mozallowfullscreen></iframe></div></div>"
      ],
      "text/plain": [
       "<folium.folium.Map at 0x1f81805ff40>"
      ]
     },
     "execution_count": 79,
     "metadata": {},
     "output_type": "execute_result"
    }
   ],
   "source": [
    "Heatmap_Zone('Chinese')"
   ]
  },
  {
   "cell_type": "markdown",
   "metadata": {},
   "source": [
    "Chinese cuisine is highly consumed in Ejipura and Idiranagar; therefore restaurant business in that area should focus on  preparing Chinese Cuisine"
   ]
  },
  {
   "cell_type": "code",
   "execution_count": null,
   "metadata": {},
   "outputs": [],
   "source": []
  },
  {
   "cell_type": "code",
   "execution_count": null,
   "metadata": {},
   "outputs": [],
   "source": []
  },
  {
   "cell_type": "code",
   "execution_count": null,
   "metadata": {},
   "outputs": [],
   "source": []
  },
  {
   "cell_type": "code",
   "execution_count": null,
   "metadata": {},
   "outputs": [],
   "source": []
  },
  {
   "cell_type": "code",
   "execution_count": null,
   "metadata": {},
   "outputs": [],
   "source": []
  },
  {
   "cell_type": "code",
   "execution_count": null,
   "metadata": {},
   "outputs": [],
   "source": []
  },
  {
   "cell_type": "code",
   "execution_count": null,
   "metadata": {},
   "outputs": [],
   "source": []
  },
  {
   "cell_type": "code",
   "execution_count": null,
   "metadata": {},
   "outputs": [],
   "source": []
  },
  {
   "cell_type": "code",
   "execution_count": null,
   "metadata": {},
   "outputs": [],
   "source": []
  },
  {
   "cell_type": "code",
   "execution_count": null,
   "metadata": {},
   "outputs": [],
   "source": []
  },
  {
   "cell_type": "code",
   "execution_count": null,
   "metadata": {},
   "outputs": [],
   "source": []
  }
 ],
 "metadata": {
  "kernelspec": {
   "display_name": "Python 3",
   "language": "python",
   "name": "python3"
  },
  "language_info": {
   "codemirror_mode": {
    "name": "ipython",
    "version": 3
   },
   "file_extension": ".py",
   "mimetype": "text/x-python",
   "name": "python",
   "nbconvert_exporter": "python",
   "pygments_lexer": "ipython3",
   "version": "3.8.5"
  }
 },
 "nbformat": 4,
 "nbformat_minor": 4
}
